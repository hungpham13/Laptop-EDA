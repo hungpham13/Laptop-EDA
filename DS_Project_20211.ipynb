{
 "cells": [
  {
   "cell_type": "markdown",
   "metadata": {
    "colab_type": "text",
    "id": "view-in-github"
   },
   "source": [
    "<a href=\"https://colab.research.google.com/github/hungpham13/Laptop-EDA/blob/main/DS_Project_20211.ipynb\" target=\"_parent\"><img src=\"https://colab.research.google.com/assets/colab-badge.svg\" alt=\"Open In Colab\"/></a>"
   ]
  },
  {
   "cell_type": "code",
   "execution_count": 2,
   "metadata": {
    "colab": {
     "base_uri": "https://localhost:8080/"
    },
    "id": "I3Hj4-D73Ha_",
    "outputId": "647bddc8-f45f-4416-fd48-f9248a2089ca"
   },
   "outputs": [
    {
     "name": "stdout",
     "output_type": "stream",
     "text": [
      "Cloning into 'Laptop-EDA'...\n",
      "remote: Enumerating objects: 241, done.\u001b[K\n",
      "remote: Counting objects: 100% (241/241), done.\u001b[K\n",
      "remote: Compressing objects: 100% (184/184), done.\u001b[K\n",
      "remote: Total 241 (delta 144), reused 117 (delta 53), pack-reused 0\u001b[K\n",
      "Receiving objects: 100% (241/241), 24.60 MiB | 25.00 KiB/s, done.\n",
      "Resolving deltas: 100% (144/144), done.\n"
     ]
    }
   ],
   "source": [
    "!git clone https://github.com/hungpham13/Laptop-EDA.git"
   ]
  },
  {
   "cell_type": "markdown",
   "metadata": {
    "id": "qvBBWejs3Mrf"
   },
   "source": [
    "**[Guideline](https://husteduvn.sharepoint.com/sites/IntroductiontoDataScience-IT4142E-2021-2022/Class%20Materials/Capstone%20project/DS-Capstone%20project%20guidelines.pdf)**\n",
    "## Topic description assignment (20th of October, 2021)\n",
    "[Our project proposal](https://docs.google.com/document/d/16L1Mqy_HtDfhxB0xNXmCZSBNMKazWsYgwA9s1Vueih8/edit?usp=sharing)\n",
    "\n",
    "\n",
    "## Assginment for each member\n",
    "### **[On GG Sheet](https://docs.google.com/spreadsheets/d/11ldCYnPJwYuMKBba6jX7qPYnYtekAYjR9YvORww76hE/edit#)**\n",
    "\n",
    "Distinguish between programming tasks and analytic tasks. \n",
    "- Examples of programming tasks: data scraping for source A; implementing algorithm A,\n",
    "etc.\n",
    "- Examples of analytic tasks: proposing our subject, selecting the algorithms to be used to\n",
    "solve this problem, writing parts 1/2/3/4 of the report, writing parts 1/2/3/4 of the presentation, etc.\n",
    "\n",
    "For each task, provide a detailed contribution of each member to this task:\n",
    "- e.g.: Programming Task 1- data scraping from source A: member1 Mr X 40% ; member 2 Mrs Y 60% (no more than 2 members /task for programming tasks)...).\n",
    "- e.g.: Analytic Task 1– proposing our subject: member1 Mr X 40% ; member 2 Mrs Y 30% ; member 2 Mr Z 30% (can be more than 2 members /task for analytic\n",
    "tasks)...)\n",
    "\n",
    "## Final assignment (29th of December, 2021)\n",
    "    \n",
    "Create 1 directory named with group number, upload on the dedicated assignment on Teams:\n",
    "- Report: PDF file, no more than 15 pages (not included reference pages / first page / table of contents)\n",
    "- Code: put in a single .zip file, with a readme.txt file explaining your codes structure, how to run the project – if necessary.\n",
    "- Video demo of your Python code running in a notebook\n",
    "- Presentation: PDF file, no more than 10 slides. The first slide MUST contain the (recent) pictures of the students in the group, with student’s name/number"
   ]
  },
  {
   "cell_type": "markdown",
   "metadata": {
    "id": "DL72QSd1v1cL"
   },
   "source": [
    "# Materials\n",
    "\n",
    "1. Scrapy, Selenium, BeautifulSoup – Data scraping\n",
    "2. Numpy, Pandas, Seaborn – data analysis and visualization \n",
    "\n",
    "[Kaggle detailed EDA](https://www.kaggle.com/ekami66/detailed-exploratory-data-analysis-with-python)\n",
    "\n",
    "[Github DS project](https://github.com/veb-101/Data-Science-Projects)\n",
    "\n",
    "[Havard Data Science Course](http://cs109.github.io/2015/pages/videos.html)\n",
    "\n",
    "[Web Scraping with Python (Book)](https://vn1lib.org/book/3515980/5d50aa)\n",
    "\n",
    "[Web Scraping on Kaggle](https://www.kaggle.com/getting-started?search=web+scraping)"
   ]
  },
  {
   "cell_type": "code",
   "execution_count": 3,
   "metadata": {
    "colab": {
     "base_uri": "https://localhost:8080/"
    },
    "id": "6nLIjeU0Ubsp",
    "outputId": "91462647-ba85-432f-c3e3-3e8a0e00561a"
   },
   "outputs": [
    {
     "name": "stdout",
     "output_type": "stream",
     "text": [
      "/usr/lib/python3/dist-packages/secretstorage/dhcrypto.py:15: CryptographyDeprecationWarning: int_from_bytes is deprecated, use int.from_bytes instead\n",
      "  from cryptography.utils import int_from_bytes\n",
      "/usr/lib/python3/dist-packages/secretstorage/util.py:19: CryptographyDeprecationWarning: int_from_bytes is deprecated, use int.from_bytes instead\n",
      "  from cryptography.utils import int_from_bytes\n",
      "Defaulting to user installation because normal site-packages is not writeable\n",
      "Requirement already satisfied: python-Levenshtein in /home/hung/.local/lib/python3.8/site-packages (0.12.2)\n",
      "Requirement already satisfied: setuptools in /usr/local/lib/python3.8/dist-packages (from python-Levenshtein) (56.0.0)\n",
      "/usr/lib/python3/dist-packages/secretstorage/dhcrypto.py:15: CryptographyDeprecationWarning: int_from_bytes is deprecated, use int.from_bytes instead\n",
      "  from cryptography.utils import int_from_bytes\n",
      "/usr/lib/python3/dist-packages/secretstorage/util.py:19: CryptographyDeprecationWarning: int_from_bytes is deprecated, use int.from_bytes instead\n",
      "  from cryptography.utils import int_from_bytes\n",
      "Defaulting to user installation because normal site-packages is not writeable\n",
      "Requirement already satisfied: fuzzywuzzy in /home/hung/.local/lib/python3.8/site-packages (0.18.0)\n",
      "/usr/lib/python3/dist-packages/secretstorage/dhcrypto.py:15: CryptographyDeprecationWarning: int_from_bytes is deprecated, use int.from_bytes instead\n",
      "  from cryptography.utils import int_from_bytes\n",
      "/usr/lib/python3/dist-packages/secretstorage/util.py:19: CryptographyDeprecationWarning: int_from_bytes is deprecated, use int.from_bytes instead\n",
      "  from cryptography.utils import int_from_bytes\n",
      "Defaulting to user installation because normal site-packages is not writeable\n",
      "Collecting textdistance\n",
      "  Downloading textdistance-4.2.2-py3-none-any.whl (28 kB)\n",
      "Installing collected packages: textdistance\n",
      "Successfully installed textdistance-4.2.2\n"
     ]
    }
   ],
   "source": [
    "import re\n",
    "import pandas as pd\n",
    "import numpy as np\n",
    "import glob\n",
    "\n",
    "!pip install python-Levenshtein\n",
    "!pip install fuzzywuzzy\n",
    "!pip install textdistance\n",
    "from difflib import SequenceMatcher\n",
    "from fuzzywuzzy import fuzz\n",
    "import textdistance"
   ]
  },
  {
   "cell_type": "markdown",
   "metadata": {
    "id": "6E-ztyBIKf25"
   },
   "source": [
    "# Data cleaning - Data preprocessing"
   ]
  },
  {
   "cell_type": "code",
   "execution_count": 4,
   "metadata": {
    "id": "I5NGL0fV2ui0"
   },
   "outputs": [],
   "source": [
    "def text_facet(df, col, print_all=True,ascending=False):\n",
    "    if print_all:\n",
    "        with pd.option_context('display.max_rows', 1000, 'display.max_columns', None):\n",
    "            print(f\"---------- {col} ------------\")\n",
    "            print(df[col].value_counts(dropna=False,ascending=ascending))\n",
    "    else:\n",
    "        print(f\"---------- {col} ------------\")\n",
    "        print(df[col].value_counts(dropna=False,ascending=ascending))\n",
    "        print(f\"Number of null: {df[col].isna().sum()}\")\n",
    "\n",
    "def get_element_fptshop(id):\n",
    "    r1 = cleaned_fpt.iloc[id]\n",
    "    with pd.option_context('display.max_rows', None, 'display.max_columns', None):\n",
    "        print(r1)\n",
    "\n",
    "def lower_all_string(df):\n",
    "    '''lower all values in string columns of dataframe df'''\n",
    "    for c in df.columns:\n",
    "        if df[c].dtypes == np.object:\n",
    "            df[c] = df[c].str.lower()\n",
    "\n",
    "data_path = 'Laptop-EDA/scraped_data/'\n",
    "all_brands = ['apple','asus','msi','hp','lenovo','dell','acer','lg','microsoft',\n",
    "              'huawei','avita','gigabyte','fujitsu']"
   ]
  },
  {
   "cell_type": "code",
   "execution_count": 5,
   "metadata": {
    "id": "6mG4s2N-boTi"
   },
   "outputs": [],
   "source": [
    "retained_cols = ['Comment_count','Price', 'Rating', 'Rating_count']\n",
    "mapping_cols = ['Series','Brand','cpu_brand','cpu_code','ram_size',\\\n",
    "                'storage_size','displ_size','displ_rate']\n",
    "other_cols = ['Battery', 'GPU', 'OS', 'P/N',  'displ_resolution', 'hdmi',\\\n",
    "            'Release_year', 'Surface', 'Weight', 'backlit_keyboard', \\\n",
    "            'lan', 'length', 'ram_upgradable', 'screen_technology',\\\n",
    "            'sd_card', 'storage_extra_slot', 'storage_type', \\\n",
    "            'headphone_jack', 'thickness', 'type_c', 'usb_a', 'width']\n",
    "all_cols = retained_cols + mapping_cols + other_cols"
   ]
  },
  {
   "cell_type": "markdown",
   "metadata": {
    "id": "PlYW_JZiyNKJ"
   },
   "source": [
    "## Thegioididong - Dienmayxanh\n",
    "result: no screen technology"
   ]
  },
  {
   "cell_type": "code",
   "execution_count": 6,
   "metadata": {
    "id": "Eva5v23sKOP3"
   },
   "outputs": [],
   "source": [
    "def clean_thegioididong(source):\n",
    "    source.dropna(subset=['ports'],inplace=True)\n",
    "    result = pd.DataFrame()\n",
    "    result['P/N'] = source['title'].str.extract(r\"\\(([^)]+)\\)\",expand=False).str.strip().str.replace(\"\\.$\", \"\") #replace any dot at the end of P/N\n",
    "\n",
    "    result['Rating'] = source['rating'].fillna(0).astype('float64')\n",
    "    result['Rating_count'] = source['review_count'].str.extract(r'(\\d+)',expand=False).str.strip().fillna(0).astype('int64')\n",
    "\n",
    "    result['Comment_count'] = 0\n",
    "    for i,r in source['cmt_count'].iteritems():\n",
    "        if pd.isnull(r):\n",
    "            continue\n",
    "        for c in r.split(\"|\"):\n",
    "            if re.search(r'([\\d.,]+)',c):\n",
    "                result['Comment_count'][i] += int(re.search(r'([\\d.,]+)',c).group().replace(\".\",\"\"))\n",
    "    # with pd.option_context('display.max_rows', None, 'display.max_columns', None):\n",
    "    #     print(result['Comment_count'].value_counts(dropna=False))\n",
    "\n",
    "    result['Brand'] = source['title'].str.split().str[1].str.strip().str.lower()\n",
    "    # print(result['Brand'].value_counts(dropna=False))\n",
    "    result['Series'] = source['title'].str.extract(r'\\w+\\s\\w+\\s([\\w\\s]+)\\s[\\w\\/d]+',expand=False).str.strip()\n",
    "    result.loc[(result['Series'].str.split().str[-1].str.len() == 2), 'Series'] =  result['Series'].str.slice(stop=-3)\n",
    "\n",
    "    #add P/N to Series (except Apple laptop)\n",
    "    result['Series'] = np.where(result['Brand'] != 'apple', \n",
    "                                result[['Series', 'P/N']].fillna('').agg(' '.join, axis=1),\n",
    "                                result['Series'])\n",
    "    result.Series[result.Series == 'MacBook Pro'] = 'MacBook Pro M1 2020'\n",
    "    for a in zip(result.Series, source.title):\n",
    "        print('{0:40} {1}'.format(a[0],a[1]))\n",
    "\n",
    "    result['Price'] = source['price'].str.extract(r'([\\d.]+)',expand=False).str.replace(\".\",\"\").astype('float64')\n",
    "\n",
    "    result['cpu_brand'] = source['cpu_name'].str.extract(r'([\\w]+)\\s',expand=False).str.strip()\n",
    "    result['cpu_code'] = source['cpu_name'].str.extract(r'-([\\w\\d\\s]+)',expand=False).str.strip().fillna('m1')\n",
    "    result['cpu_code'] = np.where(result['cpu_code'].str.len() > 10, \n",
    "                                    source['cpu_name'].str.extract(r'([\\w\\d\\s]+)-',expand=False).str.split().str.slice(start=1).str.join(' '),\n",
    "                                    result['cpu_code'])\n",
    "\n",
    "    result['ram_size'] = source['ram_size'].str.extract(r'(\\d+)',expand=False).str.strip().fillna(8).astype('float64')\n",
    "    # with pd.option_context('display.max_rows', None, 'display.max_columns', None):\n",
    "    #     print(result['ram_size'].value_counts(dropna=False))\n",
    "\n",
    "    result['ram_upgradable'] = np.where(source['ram_upgradable'].str.contains(\"Kh\"), \"no\", \"yes\")\n",
    "\n",
    "    result['GPU'] = source['gpu'].str.extract(r'-([\\w\\d\\s-]+),?',expand=False).str.strip()\n",
    "\n",
    "    result['Battery'] = source['battery'].str.extract(r'([\\d\\s.]+)Wh',expand=False).str.strip().astype('float64')\n",
    "\n",
    "    result['storage_size'] = np.nan\n",
    "    result['storage_type'] = np.nan\n",
    "    result['storage_extra_slot'] = np.nan\n",
    "    # for i,r in result.loc[result['storage_size'].notnull(),'storage_size'].iteritems():\n",
    "    for i,r in source['storage'].iteritems():\n",
    "        if pd.isnull(r):\n",
    "            continue\n",
    "        for s in r.split(\"|\"):\n",
    "            s = s.lower()\n",
    "            if \"hỗ trợ\" not in s:\n",
    "                result['storage_size'][i] = re.search(r'(\\d+)\\s?[gtb]{2}',s.strip()).group(1)\n",
    "                if \"ssd\" in s:\n",
    "                    result['storage_type'][i] = \"SSD\"\n",
    "                elif \"hdd\" in s:\n",
    "                    result['storage_type'][i] = \"HDD\"\n",
    "            elif \"không\" not in s: #just have \"ho tro\", no \"khong\"\n",
    "                result['storage_extra_slot'][i] = 'yes'\n",
    "        if pd.isnull(result['storage_extra_slot'][i]):\n",
    "                result['storage_extra_slot'][i] = 'no'\n",
    "    result['storage_size'] = np.where(result['storage_size']==1,1024,result['storage_size'])\n",
    "    result['storage_size'] = np.where(result['storage_size']==2,2048,result['storage_size'])\n",
    "    # print(result['storage_size'].value_counts(dropna=False))\n",
    "\n",
    "    result['displ_size'] = source['displ_size'].str.extract(r'([\\d.]+)',expand=False).astype('float64')\n",
    "    result['displ_resolution'] = source['displ_resolution'].str.extract(r\"\\(([^)]+)\\)\",expand=False).str.strip()\n",
    "    result['displ_rate'] = source['displ_rate'].str.extract(r'([\\d]+)',expand=False).fillna(60).astype('int64')\n",
    "    result['screen_technology'] = np.nan\n",
    "    for i,r in source.displ_tech.iteritems():\n",
    "        if pd.isnull(r):\n",
    "            continue\n",
    "        elif 'ips' in r.lower():\n",
    "            result['screen_technology'][i] = 'IPS'\n",
    "        elif 'oled' in r.lower():\n",
    "            result['screen_technology'][i] = 'OLED'\n",
    "        elif 'wva' in r.lower():\n",
    "            result['screen_technology'][i] = 'VA'\n",
    "    # with pd.option_context('display.max_rows', None, 'display.max_columns', None):\n",
    "    #     print(result['screen_technology'].value_counts(dropna=False))\n",
    "    #     print(source.displ_tech[result.screen_technology.isnull()])\n",
    "\n",
    "    result['Weight'] = source['weight_dims'].str.extract(r\"Nặng ([\\d.]+)\",expand=False).str.strip().astype('float64')\n",
    "    result['length'] = source['weight_dims'].str.extract(r\"Dài ([\\d.]+)\",expand=False).str.strip().astype('float64')\n",
    "    result['width'] = source['weight_dims'].str.extract(r\"Rộng ([\\d.]+)\",expand=False).str.strip().astype('float64')\n",
    "    result['thickness'] = source['weight_dims'].str.extract(r\"Dày ([\\d.]+)\",expand=False).str.strip().astype('float64')\n",
    "\n",
    "    result['OS'] = source['os'].str.split().str[:2].str.join(\" \").str.strip()\n",
    "    result['Surface'] = np.nan\n",
    "    for i,r in source['surface'].iteritems():\n",
    "        if pd.isnull(r):\n",
    "            continue\n",
    "        d = {\"nhôm\":\"Aluminum\",\"carbon\":\"Carbon\",\"kim loại\": \"Metal\", \"nhựa\":\"Plastic\",\"magie\":\"Magnesium\"}\n",
    "        s = []\n",
    "        for vn_term in d:\n",
    "            if vn_term in r.lower():\n",
    "                s.append(d[vn_term])\n",
    "        result['Surface'][i] = ', '.join(s)\n",
    "        \n",
    "    result['Release_year'] = source['launch']\n",
    "    result['backlit_keyboard'] = np.where(source['backlight_key'].str.contains('Không'),'no','yes')\n",
    "\n",
    "    result['hdmi'] = np.where(source['ports'].str.lower().str.contains(\"hdmi\"),'yes','no')\n",
    "    result['headphone_jack'] = np.where(source['ports'].str.lower().str.contains(\"jack\"),'yes','no')\n",
    "    result['lan'] = np.where(source['ports'].str.lower().str.contains(\"lan\"),'yes','no')\n",
    "    result['type_c'] = np.where(source['ports'].str.lower().str.contains(\"-c\"),'yes','no')\n",
    "    result['usb_a'] = np.where(source['ports'].str.lower().str.contains(r\"usb [a32]\",regex=True),'yes','no')\n",
    "    result['sd_card'] = np.where(pd.isnull(source['sd_card']),'no','yes')\n",
    "    lower_all_string(result)\n",
    "    return result"
   ]
  },
  {
   "cell_type": "code",
   "execution_count": 7,
   "metadata": {
    "colab": {
     "base_uri": "https://localhost:8080/"
    },
    "id": "EKWepOahLxZX",
    "outputId": "4f6a8a74-ff20-4e07-e0b2-8814592d276d"
   },
   "outputs": [
    {
     "name": "stderr",
     "output_type": "stream",
     "text": [
      "<ipython-input-6-5719c956388b>:4: FutureWarning: The default value of regex will change from True to False in a future version.\n",
      "  result['P/N'] = source['title'].str.extract(r\"\\(([^)]+)\\)\",expand=False).str.strip().str.replace(\"\\.$\", \"\") #replace any dot at the end of P/N\n",
      "<ipython-input-6-5719c956388b>:15: SettingWithCopyWarning: \n",
      "A value is trying to be set on a copy of a slice from a DataFrame\n",
      "\n",
      "See the caveats in the documentation: https://pandas.pydata.org/pandas-docs/stable/user_guide/indexing.html#returning-a-view-versus-a-copy\n",
      "  result['Comment_count'][i] += int(re.search(r'([\\d.,]+)',c).group().replace(\".\",\"\"))\n",
      "<ipython-input-6-5719c956388b>:28: SettingWithCopyWarning: \n",
      "A value is trying to be set on a copy of a slice from a DataFrame\n",
      "\n",
      "See the caveats in the documentation: https://pandas.pydata.org/pandas-docs/stable/user_guide/indexing.html#returning-a-view-versus-a-copy\n",
      "  result.Series[result.Series == 'MacBook Pro'] = 'MacBook Pro M1 2020'\n",
      "<ipython-input-6-5719c956388b>:32: FutureWarning: The default value of regex will change from True to False in a future version. In addition, single character regular expressions will*not* be treated as literal strings when regex=True.\n",
      "  result['Price'] = source['price'].str.extract(r'([\\d.]+)',expand=False).str.replace(\".\",\"\").astype('float64')\n",
      "<ipython-input-6-5719c956388b>:60: SettingWithCopyWarning: \n",
      "A value is trying to be set on a copy of a slice from a DataFrame\n",
      "\n",
      "See the caveats in the documentation: https://pandas.pydata.org/pandas-docs/stable/user_guide/indexing.html#returning-a-view-versus-a-copy\n",
      "  result['storage_size'][i] = re.search(r'(\\d+)\\s?[gtb]{2}',s.strip()).group(1)\n",
      "<ipython-input-6-5719c956388b>:62: SettingWithCopyWarning: \n",
      "A value is trying to be set on a copy of a slice from a DataFrame\n",
      "\n",
      "See the caveats in the documentation: https://pandas.pydata.org/pandas-docs/stable/user_guide/indexing.html#returning-a-view-versus-a-copy\n",
      "  result['storage_type'][i] = \"SSD\"\n",
      "/usr/local/lib/python3.8/dist-packages/pandas/core/indexing.py:1637: SettingWithCopyWarning: \n",
      "A value is trying to be set on a copy of a slice from a DataFrame\n",
      "\n",
      "See the caveats in the documentation: https://pandas.pydata.org/pandas-docs/stable/user_guide/indexing.html#returning-a-view-versus-a-copy\n",
      "  self._setitem_single_block(indexer, value, name)\n",
      "<ipython-input-6-5719c956388b>:68: SettingWithCopyWarning: \n",
      "A value is trying to be set on a copy of a slice from a DataFrame\n",
      "\n",
      "See the caveats in the documentation: https://pandas.pydata.org/pandas-docs/stable/user_guide/indexing.html#returning-a-view-versus-a-copy\n",
      "  result['storage_extra_slot'][i] = 'no'\n",
      "<ipython-input-6-5719c956388b>:66: SettingWithCopyWarning: \n",
      "A value is trying to be set on a copy of a slice from a DataFrame\n",
      "\n",
      "See the caveats in the documentation: https://pandas.pydata.org/pandas-docs/stable/user_guide/indexing.html#returning-a-view-versus-a-copy\n",
      "  result['storage_extra_slot'][i] = 'yes'\n"
     ]
    },
    {
     "name": "stdout",
     "output_type": "stream",
     "text": [
      "Katana Gaming GF66 11UC 224VN            Laptop MSI Katana Gaming GF66 11UC i7 11800H/8GB/512GB/4GB RTX3050/144Hz/Balo/Win10 (224VN)\n",
      "Gaming Pulse GL66 11UDK 816VN            Laptop MSI Gaming Pulse GL66 11UDK i7 11800H/16GB/512GB/4GB RTX3050Ti/144Hz/Balo/Chuột/Win10 (816VN)\n",
      "Nitro 5 Gaming AN515 57 727J NH.QD9SV.005 Laptop Acer Nitro 5 Gaming AN515 57 727J i7 11800H/8GB/512GB/4GB RTX3050Ti/144Hz/Win10 (NH.QD9SV.005.)\n",
      "Nitro 5 Gaming AN515 57 5831 NH.QDGSV.003 Laptop Acer Nitro 5 Gaming AN515 57 5831 i5 11400H/8GB/512GB/6GB RTX3060/144Hz/Win10 (NH.QDGSV.003)\n",
      "Aspire 7 Gaming A715 42G R6ZR NH.QAYSV.003 Laptop Acer Aspire 7 Gaming A715 42G R6ZR R5 5500U/8GB/512GB/4GB GTX1650/144Hz/Win10 (NH.QAYSV.003)\n",
      "Nitro 5 Gaming AN515 57 720A NH.QEQSV.004 Laptop Acer Nitro 5 Gaming AN515 57 720A i7 11800H/8GB/512GB/4GB RTX3050Ti/144Hz/Win11 (NH.QEQSV.004)\n",
      "Gaming G5 KC-5S11130SB                   Laptop Gigabyte Gaming G5 i5 10500H/16GB/512GB/6GB RTX3060/144Hz/Win11 (KC-5S11130SB)\n",
      "Nitro 5 Gaming AN515 57 71VV NH.QENSV.005 Laptop Acer Nitro 5 Gaming AN515 57 71VV i7 11800H/8GB/512GB/4GB RTX3050/144Hz/Win11 (NH.QENSV.005)\n",
      "Katana GF76 11UC 441VN                   Laptop MSI Katana GF76 11UC i7 11800H/8GB/512GB/4GB RTX3050/144Hz/Balo/Chuột/Win10 (441VN)\n",
      "Gaming Stealth 15M A11UEK 254VN          Laptop MSI Gaming Stealth 15M A11UEK i7 11375H/16GB/512GB/6GB RTX3060 Max-Q/144Hz/Balo/Chuột/Win10 (254VN)\n",
      "Gaming G5 51S1123SH                      Laptop GIGABYTE Gaming G5 i5 11400H/16GB/512GB/4GB RTX3050Ti/144Hz/Win10 (51S1123SH)\n",
      "TUF Gaming FX506HCB HN1138W              Laptop Asus TUF Gaming FX506HCB i5 11400H/8GB/512GB/4GB RTX3050/144Hz/Win11 (HN1138W)\n",
      "TUF Gaming FX516PM HN002T                Laptop Asus TUF Gaming FX516PM i7 11370H/8GB/512GB/6GB RTX3060/144Hz/Win10 (HN002T)\n",
      "Gaming G15 5515 P105F004CGR              Laptop Dell Gaming G15 5515 R5 5600H/8GB/256GB/4GB RTX3050/120Hz/OfficeHS/Win11 (P105F004CGR)\n",
      "Gaming G3 15 P89F002BWH                  Laptop Dell Gaming G3 15 i7 10750H/16GB/512GB/6GB GTX1660Ti/120Hz/Win10 (P89F002BWH)\n",
      "TUF Gaming FX516PE HN005T                Laptop Asus TUF Gaming FX516PE i7 11370H/8GB/512GB/4GB RTX3050Ti/144Hz/Win10 (HN005T)\n",
      "Gaming G15 5515 P105F004DGR              Laptop Dell Gaming G15 5515 R5 5600H/16GB/512GB/4GB RTX3050/120Hz/OfficeHS/Win11 (P105F004DGR)\n",
      "Gaming GE66 Raider 11UH 259VN            Laptop MSI Gaming GE66 Raider 11UH i7 11800H/32GB/2TB SSD/16GB RTX3080/240Hz/Balo/Chuột/Win10 (259VN)\n",
      "Predator Triton 300 PT315 53 71DJ NH.QDSSV.001 Laptop Acer Predator Triton 300 PT315 53 71DJ i7 11800H/16GB/512GB/8GB RTX3070/165Hz/Win10 (NH.QDSSV.001)\n",
      "Gaming GS66 Stealth 11UG 219VN           Laptop MSI Gaming GS66 Stealth 11UG i7 11800H/32GB/2TB SSD/8GB RTX3070 Max-Q/360Hz/Balo/Chuột/Win10 (219VN)\n",
      "Gaming GE66 Raider 11UG 258VN            Laptop MSI Gaming GE66 Raider 11UG i7 11800H/16GB/2TB SSD/8GB RTX3070/360Hz/Balo/Chuột/Win10 (258VN)\n",
      "XPS 13 9310 JGNH62                       Laptop Dell XPS 13 9310 i7 1165G7/16GB/512GB/Touch/Pen/Office H&S2019/Win10 (JGNH62)\n",
      "Omen 15 ek0078TX 26Y68PA                 Laptop HP Omen 15 ek0078TX i7 10750H/16GB/1TB SSD/8GB RTX2070 Max-Q/300Hz/Office H&S2019/Win10 (26Y68PA)\n",
      "Gram 17 2021 17Z90P-G.AH78A5             Laptop LG Gram 17 2021 i7 1165G7/16GB/1TB SSD/Win10 (17Z90P-G.AH78A5)\n",
      "Gaming Leopard GP76 11UG 435VN           Laptop MSI Gaming Leopard GP76 11UG i7 11800H/16GB/1TB SSD/8GB RTX3070/240Hz/Balo/Chuột/Win10 (435VN)\n",
      "Gaming Leopard GP76 11UG 823VN           Laptop MSI Gaming Leopard GP76 11UG i7 11800H/16GB/1TB SSD/8GB RTX3070/300Hz/Balo/Chuột/Win10 (823VN)\n",
      "Gram 17 2021 17Z90P-G.AH76A5             Laptop LG Gram 17 2021 i7 1165G7/16GB/512GB/Win10 (17Z90P-G.AH76A5)\n",
      "Gram 16 2021 16Z90P-G.AH75A5             Laptop LG Gram 16 2021 i7 1165G7/16GB/512GB/Win10 (16Z90P-G.AH75A5)\n",
      "MacBook Pro M1 2020                      Laptop Apple MacBook Pro M1 2020 16GB/1TB SSD (Z11C000CJ)\n",
      "Yoga 9 14ITL5 82BG006EVN                 Laptop Lenovo Yoga 9 14ITL5 i7/1185G7/16GB/1TB SSD/Touch/Pen/Win10 (82BG006EVN)\n",
      "Gram 16 2021 16Z90P-G.AH73A5             Laptop LG Gram 16 2021 i7 1165G7/16GB/256GB/Win10 (16Z90P-G.AH73A5)\n",
      "Gram 14 2021 14Z90P-G.AH75A5             Laptop LG Gram 14 2021 i7 1165G7/16GB/512GB/Win 10 (14Z90P-G.AH75A5)\n",
      "Summit E16 Flip 082VN                    Laptop MSI Summit E16 Flip i7 1195G7/16GB/1TB SSD/4GB RTX3050/120Hz/Touch/Pen/Túi/Office365F/Win10 (082VN)\n",
      "ROG Zephyrus G14 Alan Walker GA401QEC K2064T Laptop Asus ROG Zephyrus G14 Alan Walker GA401QEC R9 5900HS/16GB 1TB/4GB RTX3050Ti/120Hz/Túi/Win10 (K2064T)\n",
      "ZenBook UX371EA HL725WS                  Laptop Asus ZenBook UX371EA i7 1165G7/16GB/1TB SSD/Touch/Pen/Cáp/Túi/Office H&S/Win11 (HL725WS)\n",
      "Predator Triton 300 PT315 53 75LQ NH.QDQSV.001 Laptop Acer Predator Triton 300 PT315 53 75LQ i7 11800H/16GB/512GB/6GB RTX3060/165Hz/Win10 (NH.QDQSV.001)\n",
      "ZBook Firefly 14 G8 275W0AV              Laptop HP ZBook Firefly 14 G8 i7 1165G7/16GB/1TB/4GB Quadro T500/Win10 Pro (275W0AV)\n",
      "EliteBook X360 830 G8 3G1A4PA            Laptop HP EliteBook X360 830 G8 i7 1165G7/16GB/512GB/Touch/Pen/Win10 Pro (3G1A4PA)\n",
      "MacBook Pro M1 2020                      Laptop Apple MacBook Pro M1 2020 16GB/512GB (Z11C)\n",
      "ZenBook UX371EA HL494TS                  Laptop Asus ZenBook UX371EA i7 1165G7/16GB/1TB SSD/Touch/Pen/Cáp/Túi/Office H&S2019/Win10 (HL494TS)\n",
      "Summit E13 Flip 211VN                    Laptop MSI Summit E13 Flip i7 1185G7/16GB/1TB SSD/Touch/Túi/Pen/Win10 (211VN)\n",
      "ZenBook Duo UX482EA KA111T               Laptop Asus ZenBook Duo UX482EA i7 1165G7/16GB/1TB SSD/Touch/Pen/Túi/Stand/Win10 (KA111T)\n",
      "ZenBook Duo UX482EA KA268T               Laptop Asus ZenBook Duo UX482EA i7 1165G7/16GB/1TB SSD/Touch/Pen/Túi/Stand/Win10 (KA268T)\n",
      "Predator Helios PH315 54 75YD NH.QC2SV.002 Laptop Acer Predator Helios PH315 54 75YD i7 11800H/16GB/512GB/6GB RTX3060/165Hz/Win10 (NH.QC2SV.002)\n",
      "MacBook Pro M1 2020                      Laptop Apple MacBook Pro M1 2020/16GB/256GB (Z11D000E5)\n",
      "MacBook Pro M1 2020                      Laptop Apple MacBook Pro M1 2020 8GB/512GB (MYD92SA/A)\n",
      "MacBook Air M1 2020                      Laptop Apple MacBook Air M1 2020 16GB/512GB/7-core GPU (Z12A00050)\n",
      "Envy 13 ba1031TU 2K0B7PA                 Laptop HP Envy 13 ba1031TU i7 1165G7/16GB/1TB SSD/Office H&S2019/Win10 (2K0B7PA)\n",
      "Gaming G15 5515 70258051                 Laptop Dell Gaming G15 5515 R7 5800H/16GB/512GB/4GB RTX3050Ti/120Hz/Office H&S2019/Win10 (70258051)\n",
      "Prestige 15 A11SC 052VN                  Laptop MSI Prestige 15 A11SC i7 1185G7/16GB/512GB/4GB GTX1650 Max-Q/Túi/Chuột/Win10 (052VN)\n",
      "YOGA Slim 7 Carbon 13ITL5 82EV0017VN     Laptop Lenovo YOGA Slim 7 Carbon 13ITL5 i7 1165G7/16GB/1TB SSD/Win10 (82EV0017VN)\n",
      "Predator Helios PH315 54 78W5 NH.QC5SV.001 Laptop Acer Predator Helios PH315 54 78W5 i7 11800H/8GB/512GB/4GB RTX3050Ti/144Hz/Win10 (NH.QC5SV.001)\n",
      "Gaming G3 P89F002G3500B                  Laptop Dell Gaming G3 i7 10750H/16GB/512GB/6GB GTX1660Ti/120Hz/Win10 (P89F002G3500B)\n",
      "ZenBook Flip UX363EA HP163T              Laptop Asus ZenBook Flip UX363EA i7 1165G7/16GB/512GB/OLED/Touch/Pen/Cáp/Túi/Win10 (HP163T)\n",
      "Gaming GF65 10UE 228VN                   Laptop MSI Gaming GF65 10UE i7 10750H/16GB/512GB/6GB RTX3060 Max-Q/Balo/Win10 (228VN)\n",
      "TUF Gaming FX516PM HN023T                Laptop Asus TUF Gaming FX516PM i7 11370H/16GB/512GB/6GB RTX3060/144Hz/Win10 (HN023T)\n",
      "TUF Gaming FX706HE HX011T                Laptop Asus TUF Gaming FX706HE i7 11800H/8GB/512GB/4GB RTX3050Ti/144Hz/Win10 (HX011T)\n",
      "Gaming G15 5515 70258049                 Laptop Dell Gaming G15 5515 R7 5800H/8GB/512GB/4GB RTX3050/120Hz/Office H&S2019/Win10 (70258049)\n",
      "ZenBook Duo UX482EA KA274T               Laptop Asus ZenBook Duo UX482EA i5 1135G7/8GB/512GB/Touch/Pen/Túi/Stand/Win10 (KA274T)\n",
      "MacBook Air M1 2020                      Laptop Apple MacBook Air M1 2020 16GB/256GB/7-core GPU (Z124000DE)\n",
      "Inspiron 7501 N5I5012W                   Laptop Dell Inspiron 7501 i5 10300H/8GB/512GB/4GB GTX1650Ti/Win10 (N5I5012W)\n",
      "Envy 13 ba1030TU 2K0B6PA                 Laptop HP Envy 13 ba1030TU i7 1165G7/8GB/512GB/Office H&S2019/Win10 (2K0B6PA)\n",
      "VivoBook Pro 15 OLED K3500PC L1046T      Laptop Asus VivoBook Pro 15 OLED K3500PC i7 11370H/16GB/512GB/4GB RTX3050/Win10 (L1046T)\n",
      "Envy 13 ba1535TU 4U6M4PA                 Laptop HP Envy 13 ba1535TU i7 1165G7/8GB/512GB/Win11 (4U6M4PA)\n",
      "Latitude 3520 70261780                   Laptop Dell Latitude 3520 i7 1165G7/8GB/512GB/Win10 Pro (70261780)\n",
      "TUF Gaming FX706HC HX009T                Laptop Asus TUF Gaming FX706HC i7 11800H/8GB/512GB/4GB RTX3050/144Hz/Win10 (HX009T)\n",
      "Inspiron 7400 N4I5134W                   Laptop Dell Inspiron 7400 i5 1135G7/16GB/512GB/2GB MX350/Win10 (N4I5134W)\n",
      "ZenBook UX425EA KI439T                   Laptop Asus ZenBook UX425EA i7 1165G7/16GB/512GB/Cáp/Túi/Win10 (KI439T)\n",
      "Gaming GF65 Thin 10UE 286VN              Laptop MSI Gaming GF65 Thin 10UE i5 10500H/16GB/512GB/6GB RTX3060 Max-Q/144Hz/Balo/Win10 (286VN)\n",
      "Gaming G3 15 P89F002DBL                  Laptop Dell Gaming G3 15 i7 10750H/16GB/512GB/4GB GTX1650Ti/120Hz/Win10 (P89F002DBL)\n",
      "Pavilion Gaming 15 dk1159TX 31J36PA      Laptop HP Pavilion Gaming 15 dk1159TX i7 10750H/8GB/32GB+512GB/4GB GTX1650Ti/Win10 (31J36PA)\n",
      "Yoga Duet 7 13IML05 82AS007CVN           Laptop Lenovo Yoga Duet 7 13IML05 i7 10510U/8GB/512GB/Touch/Pen/Win10 (82AS007CVN)\n",
      "Nitro 5 Gaming AN515 57 74NU NH.QD9SV.001 Laptop Acer Nitro 5 Gaming AN515 57 74NU i7 11800H/8GB/512GB/4GB RTX3050Ti/144Hz/Win10 (NH.QD9SV.001.)\n",
      "Rog Zephyrus Gaming G14 GA401QH HZ035T   Laptop Asus Rog Zephyrus Gaming G14 GA401QH R7 5800HS/8GB/512GB/4GB GTX1650/144Hz/Túi/Win10 (HZ035T)\n",
      "TUF Gaming FX516PC HN001T                Laptop Asus TUF Gaming FX516PC i7 11370H/8GB/512GB/4GB RTX3050/144Hz/Win10 (HN001T)\n",
      "Gaming G5 5S11130SH                      Laptop GIGABYTE Gaming G5 i5 10500H/16GB/512GB/6GB RTX3060/144Hz/Win10 (5S11130SH)\n",
      "TUF Gaming FX506HCB HN141T               Laptop Asus TUF Gaming FX506HCB i7 11800H/8GB/512GB/4GB RTX3050/144Hz/Win10 (HN141T)\n",
      "Nitro 5 Gaming AN515 57 54AF NH.QENSV.004 Laptop Acer Nitro 5 Gaming AN515 57 54AF i5 11400H/16GB/512GB/4GB RTX3050/144Hz/Win11 (NH.QENSV.004)\n",
      "YOGA Slim 7 Carbon 13ITL5 82EV0016VN     Laptop Lenovo YOGA Slim 7 Carbon 13ITL5 i5 1135G7/16GB/512GB/Win10 (82EV0016VN)\n",
      "Yoga Duet 7 13ITL6 82MA000PVN            Laptop Lenovo Yoga Duet 7 13ITL6 i5 1135G7/8GB/512GB/Touch/Pen/Win10 (82MA000PVN)\n",
      "Yoga 7 14ITL5 82BH00CKVN                 Laptop Lenovo Yoga 7 14ITL5 i7 1165G7/8GB/512GB/Touch/Pen/Win10 (82BH00CKVN)\n",
      "VivoBook Pro 15 OLED K3500PC L1045T      Laptop Asus VivoBook Pro 15 OLED K3500PC i5 11300H/16GB/512GB/4GB RTX3050/Win10 (L1045T)\n",
      "ThinkBook 14s Yoga ITL 20WE004EVN        Laptop Lenovo ThinkBook 14s Yoga ITL i7 1165G7/8GB/512GB/Touch/Pen/Win10 (20WE004EVN)\n",
      "Swift 5 SF514 53T 720R NX.H7HSV.002      Laptop Acer Swift 5 SF514 53T 720R i7 8565U/8GB/256GB/Touch/Win10 (NX.H7HSV.002)\n",
      "ZenBook Flip UX363EA HP726W              Laptop Asus ZenBook Flip UX363EA i5 1135G7/8GB/512GB/Touch/Pen/Cáp/Túi/Win11 (HP726W)\n",
      "Yoga Slim 7 14ITL05 82A300DQVN           Laptop Lenovo Yoga Slim 7 14ITL05 i7 1165G7/8GB/512GB/Win10 (82A300DQVN)\n",
      "ZenBook Flip UX363EA HP532T              Laptop Asus ZenBook Flip UX363EA i5 1135G7/8GB/512GB/Touch/Pen/Cáp/Túi/Win10 (HP532T)\n",
      "MacBook Air M1 2020                      Laptop Apple MacBook Air M1 2020 8GB/256GB/7-core GPU (MGN63SA/A)\n",
      "TUF Gaming FX706HC HX003T                Laptop Asus TUF Gaming FX706HC i5 11400H/8GB/512GB/4GB RTX3050/144Hz/Win10 (HX003T)\n",
      "Inspiron 14 5410 N4I5547W                Laptop Dell Inspiron 14 5410 i5 1155G7/8GB/512GB/2GB MX350/Touch/Pen/Office H&S2019/Win10 (N4I5547W)\n",
      "G5 GD-51S1123SH                          Laptop Gigabyte G5 i5 11400H/16GB/512GB/4GB RTX3050/144Hz/Win10 (GD-51S1123SH)\n",
      "Nitro 5 Gaming AN515 57 50FT NH.QD8SV.003 Laptop Acer Nitro 5 Gaming AN515 57 50FT i5 11400H/16GB/512GB/4GB RTX3050/144Hz/Win10 (NH.QD8SV.003)\n",
      "VivoBook Pro 15 OLED M3500QC L1105T      Laptop Asus VivoBook Pro 15 OLED M3500QC R5 5600H/8GB/512GB/4GB RTX3050/Win10 (L1105T)\n",
      "Yoga Duet 7 13IML05 82AS007BVN           Laptop Lenovo Yoga Duet 7 13IML05 i5 10210U/8GB/512GB/Touch/Pen/Win10 (82AS007BVN)\n",
      "Inspiron 15 3511 70267062                Laptop Dell Inspiron 15 3511 i7 1165G7/8GB/512GB/2GB MX350/Office H&S/Win10 (70267062)\n",
      "TUF Gaming FX506HCB HN139T               Laptop Asus TUF Gaming FX506HCB i5 11400H/8GB/512GB/4GB RTX3050/144Hz/Win10 (HN139T)\n",
      "TUF Gaming FX506HC HN002T                Laptop Asus TUF Gaming FX506HC i5 11400H/8GB/512GB/4GB RTX3050/144Hz/Win10 (HN002T)\n",
      "Gaming G5 51S1121SH                      Laptop Gigabyte Gaming G5 i5 11400H/16GB/512GB/4GB RTX3050/144Hz/Win10 (51S1121SH)\n",
      "Nitro 5 Gaming AN515 57 54MV NH.QENSV.003 Laptop Acer Nitro 5 Gaming AN515 57 54MV i5 11400H/8GB/512GB/4GB RTX3050/144Hz/Win11 (NH.QENSV.003)\n",
      "Gaming Bravo 15 B5DD 278VN               Laptop MSI Gaming Bravo 15 B5DD R7 5800H/8GB/512GB/4GB RX5500M/Balo/Chuột/Win11 (278VN)\n",
      "Vostro 3400 V4I7015W                     Laptop Dell Vostro 3400 i7 1165G7/8GB/512GB/2GB MX330/Win10 (V4I7015W)\n",
      "Ideapad Gaming 3 15IMH05 81Y4013UVN      Laptop Lenovo Ideapad Gaming 3 15IMH05 i7 10750H/8GB/512GB/4GB GTX1650Ti/120Hz/Win10 (81Y4013UVN)\n",
      "ZenBook UX325EA KG538W                   Laptop Asus ZenBook UX325EA i5 1135G7/8GB/512GB/OLED/Cáp/Túi/Win11 (KG538W)\n",
      "Gaming Bravo 15 B5DD 083VN               Laptop MSI Gaming Bravo 15 B5DD R7 5800H/8GB/512GB/4GB RX5500M/144Hz/Balo/Chuột/Win10 (083VN)\n",
      "Nitro 5 Gaming AN515 56 5256 NH.QBZSV.005 Laptop Acer Nitro 5 Gaming AN515 56 5256 i5 11300H/16GB/512GB/4GB GTX1650/144Hz/Win10 (NH.QBZSV.005)\n",
      "Gaming G15 5515 P105F004AGR              Laptop Dell Gaming G15 5515 R5 5600H/8GB/256GB/4GB RTX3050/120Hz/Win10 (P105F004AGR)\n",
      "ThinkBook 14s G2 ITL 20VA000MVN          Laptop Lenovo ThinkBook 14s G2 ITL i7 1165G7/8GB/512GB/Win10 (20VA000MVN)\n",
      "ThinkBook 14s Yoga ITL 20WE004CVN        Laptop Lenovo ThinkBook 14s Yoga ITL i5 1135G7/8GB/512GB/Touch/Pen/Win10 (20WE004CVN)\n",
      "Latitude 3520 70251593                   Laptop Dell Latitude 3520 i5 1135G7/8GB/256GB/Win10 (70251593)\n",
      "Inspiron 3501 70253898                   Laptop Dell Inspiron 3501 i7 1165G7/8GB/512GB/2GB MX330/OfficeH&S 2019/Win10 (70253898)\n",
      "Inspiron 14 5410 P143G001ASL             Laptop Dell Inspiron 14 5410 i5 11320H/8GB/512GB/Office H&S2019/Win10 (P143G001ASL)\n",
      "Inspiron 15 5515 N5R75700U104W           Laptop Dell Inspiron 15 5515 R7 5700U/8GB/512GB/Office H&S2019/Win10 (N5R75700U104W)\n",
      "ZenBook UX325EA KG363T                   Laptop Asus ZenBook UX325EA i5 1135G7/8GB/512GB/OLED/Cáp/Túi/Win10 (KG363T)\n",
      "ThinkBook 14s G2 ITL 20VA000NVN          Laptop Lenovo ThinkBook 14s G2 ITL i5 1135G7/8GB/512GB/Win10 (20VA000NVN)\n",
      "Vostro 5410 V4I5214W                     Laptop Dell Vostro 5410 i5 11320H/8GB/512GB/Office H&S2019/Win10 (V4I5214W)\n",
      "Yoga Slim 7 14ITL05 82A300DPVN           Laptop Lenovo Yoga Slim 7 14ITL05 i5 1135G7/8GB/512GB/Win10 (82A300DPVN)\n",
      "ZenBook UX425EA KI429T                   Laptop Asus ZenBook UX425EA i5 1135G7/8GB/512GBCáp/Túi/Win10 (KI429T)\n",
      "Gaming Modern 14 B11SBU 669VN            Laptop MSI Gaming Modern 14 B11SBU i5 1155G7/8GB/512GB/2GB MX450/Túi/Chuột/Win10 (669VN)\n",
      "Gaming GF63 Thin 10SC 480VN              Laptop MSI Gaming GF63 Thin 10SC i7 10750H/8GB/512GB/4GB GTX1650 Max-Q/144Hz/Balo/Chuột/Win10 (480VN)\n",
      "Ideapad 5 Pro 14ITL6 82L30094VN          Laptop Lenovo Ideapad 5 Pro 14ITL6 i5 1135G7/8GB/512GB/2GB MX450/Win10 (82L30094VN)\n",
      "Vostro 5510 70253901                     Laptop Dell Vostro 5510 i5 11300H/8GB/512GB/OfficeH&S 2019/Win10 (70253901)\n",
      "Inspiron 15 3511 70267060                Laptop Dell Inspiron 15 3511 i5 1135G7/8GB/512GB/2GB MX350/Office H&S/Win10 (70267060)\n",
      "Inspiron 15 5510 0WT8R1                  Laptop Dell Inspiron 15 5510 i5 11300H/8GB/256GB/Office H&S2019/Win10 (0WT8R1)\n",
      "Inspiron 3501 70253897                   Laptop Dell Inspiron 3501 i5 1135G7/8GB/512GB/2GB MX330/Office H&S2019/Win10 (70253897)\n",
      "IdeaPad 5 14ITL05 82FE00KNVN             Laptop Lenovo IdeaPad 5 14ITL05 i7 1165G7/8GB/512GB/Win10 (82FE00KNVN)\n",
      "TUF Gaming FX506LH HN002T                Laptop Asus TUF Gaming FX506LH i5 10300H/8GB/512GB/144Hz/4GB GTX1650/Win10 (HN002T)\n",
      "Modern 14 B11MOU 847VN                   Laptop MSI Modern 14 B11MOU i7 1195G7/8GB/512GB/Túi/Chuột/Win10 (847VN)\n",
      "Vostro 3400 YX51W3                       Laptop Dell Vostro 3400 i5 1135G7/8GB/512GB/2GB MX330/Office H&S2019/Win10 (YX51W3)\n",
      "IdeaPad Gaming 3 15IMH05 81Y4013VVN      Laptop Lenovo IdeaPad Gaming 3 15IMH05 i5 10300H/8GB/512GB/4GB GTX1650Ti/120Hz/Win10 (81Y4013VVN)\n",
      "Vostro 5415 V4R55500U015W                Laptop Dell Vostro 5415 R5 5500U/8GB/512GB/Office H&S2019/Win10 (V4R55500U015W)\n",
      "15s fq2556TU 46M24PA                     Laptop HP 15s fq2556TU i7 1165G7/8GB/512GB/Win11 (46M24PA)\n",
      "Vostro 3500 7G3983                       Laptop Dell Vostro 3500 i5 1135G7/8GB/512GB/Office H&S2019/Win10 (7G3983)\n",
      "Vostro 3510 7T2YC1                       Laptop Dell Vostro 3510 i5 1135G7/8GB/512GB/Office H&S/Win10 (7T2YC1)\n",
      "Vostro 5402 V4I5003W                     Laptop Dell Vostro 5402 i5 1135G7/8GB/256GB/Win10 (V4I5003W)\n",
      "VivoBook A515EP BN334T                   Laptop Asus VivoBook A515EP i5 1135G7/8GB/512GB/2GB MX330/Win10 (BN334T)\n",
      "VivoBook  A515EP BN544T                  Laptop Asus VivoBook  A515EP i5 1135G7/8GB/512GB/2GB MX330/Win10 (BN544T)\n",
      "ThinkBook 14 G2 ITL 20VD003KVN           Laptop Lenovo ThinkBook 14 G2 ITL i5 1135G7/8GB/512GB/Win10 (20VD003KVN)\n",
      "15s fq2558TU 46M26PA                     Laptop HP 15s fq2558TU i7 1165G7/8GB/512GB/Win11 (46M26PA)\n",
      "Inspiron 15 3511 P112F001BBL             Laptop Dell Inspiron 15 3511 i5 1135G7/4GB/512GB/OfficeH&S 2019/Win10 (P112F001BBL)\n",
      "Aspire 7 Gaming A715 42G R4ST NH.QAYSV.004 Laptop Acer Aspire 7 Gaming A715 42G R4ST R5 5500U/8GB/256GB/4GB GTX1650/Win10 (NH.QAYSV.004)\n",
      "Aspire A514 54 53T8 NX.A2ASV.006         Laptop Acer Aspire A514 54 53T8 i5 1135G7/8GB/1TB SSD/Win10 (NX.A2ASV.006)\n",
      "VivoBook A515EA OLED L12032T             Laptop Asus VivoBook A515EA OLED i5 1135G7/8GB/512GB/Win10 (L12032T)\n",
      "VivoBook A515EA L11169T                  Laptop Asus VivoBook A515EA i5 1135G7/8GB/512GB/Win10 (L11169T)\n",
      "VivoBook A515EA OLED L12032W             Laptop Asus VivoBook A515EA OLED i5 1135G7/8GB/512GB/Win11 (L12032W)\n",
      "340s G7 36A35PA                          Laptop HP 340s G7 i5 1035G1/8GB/512GB/Win10 (36A35PA)\n",
      "240 G8 518V7PA                           Laptop HP 240 G8 i5 1135G7/8GB/512GB/Win10 (518V7PA)\n",
      "Modern 15 A11MU 680VN                    Laptop MSI Modern 15 A11MU i5 1155G7/8GB/512GB/Túi/Chuột/Win10 (680VN)\n",
      "Inspiron 3501 P90F005N3501B              Laptop Dell Inspiron 3501 i5 1135G7/4GB/512GB/Win10 (P90F005N3501B)\n",
      "15s fq2559TU 46M27PA                     Laptop HP 15s fq2559TU i5 1135G7/8GB/512GB/Win10 (46M27PA)\n",
      "15s fq2559TU 46M27PA                     Laptop HP 15s fq2559TU i5 1135G7/8GB/512GB/Win11 (46M27PA)\n",
      "Vostro 3400 70253900                     Laptop Dell Vostro 3400 i5 1135G7/8GB/256GB//OfficeH&S 2019/Win10 (70253900)\n",
      "Pavilion 15 eg0507TU 46M06PA             Laptop HP Pavilion 15 eg0507TU i5 1135G7/8GB/256GB/Win10 (46M06PA)\n",
      "VivoBook X515EP BQ186T                   Laptop Asus VivoBook X515EP i5 1135G7/8GB/512GB/2GB MX330/Win10 (BQ186T)\n",
      "Vostro 3405 V4R53500U003W                Laptop Dell Vostro 3405 R5 3500U/8GB/512GB/Win10 (V4R53500U003W)\n",
      "240 G8 518V6PA                           Laptop HP 240 G8 i5 1135G7/8GB/256GB/Win10 (518V6PA)\n",
      "15s fq2561TU 46M29PA                     Laptop HP 15s fq2561TU i5 1135G7/8GB/512GB/Win11 (46M29PA)\n",
      "VivoBook X415EA EB637W                   Laptop Asus VivoBook X415EA i5 1135G7/8GB/512GB/Win11 (EB637W)\n",
      "VivoBook X415EA EB637T                   Laptop Asus VivoBook X415EA i5 1135G7/8GB/512GB/Win10 (EB637T)\n",
      "15s fq2602TU 4B6D3PA                     Laptop HP 15s fq2602TU i5 1135G7/8GB/256GB/Win11 (4B6D3PA)\n",
      "Vostro 3405 V4R53500U001W                Laptop Dell Vostro 3405 R5 3500U/4GB/256GB/Win10 (V4R53500U001W)\n",
      "VivoBook A515EA BN1624T                  Laptop Asus VivoBook A515EA i3 1115G4/8GB/512GB/Win10 (BN1624T)\n",
      "Probook 440 G8 51X01PA                   Laptop HP Probook 440 G8 i3 1115G4/4GB/512GB/Win10 (51X01PA)\n",
      "Vostro 3400 70270644                     Laptop Dell Vostro 3400 i3 1115G4/8GB/256GB/Office H&S/Win11 (70270644)\n",
      "Vostro 3400 70253899                     Laptop Dell Vostro 3400 i3 1115G4/8GB/256GB/OfficeH&S 2019/Win10 (70253899)\n",
      "Pavilion 15 eg0542TU 4P5G9PA             Laptop HP Pavilion 15 eg0542TU i3 1125G4/4GB/256GB/Win11 (4P5G9PA)\n",
      "245 G8 53Y22PA                           Laptop HP 245 G8 R5 5500U/4GB/256GB/Win10 (53Y22PA)\n",
      "ProBook 430 G8 2H0N5PA                   Laptop HP ProBook 430 G8 i3 1115G4/4GB/256GB/Win10 (2H0N5PA)\n",
      "Inspiron 15 3511 P112F001ABL             Laptop Dell Inspiron 15 3511 i3 1115G4/4GB/256GB/OfficeH&S 2019/Win10 (P112F001ABL)\n",
      "Inspiron 3501 P90F005N3501C              Laptop Dell Inspiron 3501 i3 1115G4/4GB/256GB/Win10 (P90F005N3501C)\n",
      "Modern 14 B11MOL 813VN                   Laptop MSI Modern 14 B11MOL i3 1115G4/8GB/256GB/Win10 (813VN)\n",
      "340s G7 224L1PA                          Laptop HP 340s G7 i3 1005G1/4GB/512GB/Win10 (224L1PA)\n",
      "VivoBook X415EA EB638T                   Laptop Asus VivoBook X415EA i3 1115G4/4GB/512GB/Win10 (EB638T)\n",
      "VivoBook X515EA BQ1415W                  Laptop Asus VivoBook X515EA i3 1115G4/8GB/256GB/Win11 (BQ1415W)\n",
      "VivoBook X415EA EB638W                   Laptop Asus VivoBook X415EA i3 1115G4/4GB/512GB/Win11 (EB638W)\n",
      "240 G8 519A8PA                           Laptop HP 240 G8 i3 1005G1/4GB/512GB/Win10 (519A8PA)\n",
      "Modern 14 B11MOU 849VN                   Laptop MSI Modern 14 B11MOU i3 1115G4/8GB/256GB/Win10 (849VN)\n",
      "VivoBook X515EA BQ994T                   Laptop Asus VivoBook X515EA i3 1115G4/4GB/256GB/Win10 (BQ994T)\n",
      "340s G7 240Q4PA                          Laptop HP 340s G7 i3 1005G1/4GB/256GB/Win10 (240Q4PA)\n",
      "Ideapad 3 14IML05 81WA00HPVN             Laptop Lenovo Ideapad 3 14IML05 i3 10110U/8GB/256GB/Win10 (81WA00HPVN)\n",
      "240 G8 519A7PA                           Laptop HP 240 G8 i3 1005G1/4GB/256GB/Win10 (519A7PA)\n",
      "Aspire A315 56 308N NX.HS5SV.00C         Laptop Acer Aspire A315 56 308N i3 1005G1/4GB/256GB/Win10 (NX.HS5SV.00C)\n"
     ]
    },
    {
     "name": "stderr",
     "output_type": "stream",
     "text": [
      "<ipython-input-6-5719c956388b>:81: SettingWithCopyWarning: \n",
      "A value is trying to be set on a copy of a slice from a DataFrame\n",
      "\n",
      "See the caveats in the documentation: https://pandas.pydata.org/pandas-docs/stable/user_guide/indexing.html#returning-a-view-versus-a-copy\n",
      "  result['screen_technology'][i] = 'IPS'\n",
      "/usr/local/lib/python3.8/dist-packages/pandas/core/indexing.py:1637: SettingWithCopyWarning: \n",
      "A value is trying to be set on a copy of a slice from a DataFrame\n",
      "\n",
      "See the caveats in the documentation: https://pandas.pydata.org/pandas-docs/stable/user_guide/indexing.html#returning-a-view-versus-a-copy\n",
      "  self._setitem_single_block(indexer, value, name)\n",
      "<ipython-input-6-5719c956388b>:85: SettingWithCopyWarning: \n",
      "A value is trying to be set on a copy of a slice from a DataFrame\n",
      "\n",
      "See the caveats in the documentation: https://pandas.pydata.org/pandas-docs/stable/user_guide/indexing.html#returning-a-view-versus-a-copy\n",
      "  result['screen_technology'][i] = 'VA'\n",
      "<ipython-input-6-5719c956388b>:83: SettingWithCopyWarning: \n",
      "A value is trying to be set on a copy of a slice from a DataFrame\n",
      "\n",
      "See the caveats in the documentation: https://pandas.pydata.org/pandas-docs/stable/user_guide/indexing.html#returning-a-view-versus-a-copy\n",
      "  result['screen_technology'][i] = 'OLED'\n",
      "<ipython-input-6-5719c956388b>:105: SettingWithCopyWarning: \n",
      "A value is trying to be set on a copy of a slice from a DataFrame\n",
      "\n",
      "See the caveats in the documentation: https://pandas.pydata.org/pandas-docs/stable/user_guide/indexing.html#returning-a-view-versus-a-copy\n",
      "  result['Surface'][i] = ', '.join(s)\n",
      "<ipython-input-4-c2c1c5c595fb>:19: DeprecationWarning: `np.object` is a deprecated alias for the builtin `object`. To silence this warning, use `object` by itself. Doing this will not modify any behavior and is safe. \n",
      "Deprecated in NumPy 1.20; for more details and guidance: https://numpy.org/devdocs/release/1.20.0-notes.html#deprecations\n",
      "  if df[c].dtypes == np.object:\n"
     ]
    }
   ],
   "source": [
    "scraped_tgdd = pd.read_csv(data_path+\"tgdd_dmx.csv\",index_col='url')\n",
    "cleaned_tgdd = clean_thegioididong(scraped_tgdd)\n",
    "# with pd.option_context('display.max_rows', None, 'display.max_columns', None):\n",
    "#     print(cleaned_tgdd.Series.value_counts(dropna=False))\n",
    "#     print(cleaned_tgdd)\n",
    "cleaned_tgdd.to_csv(data_path+'tgdd_dmx_cleaned.csv',encoding='utf-8')"
   ]
  },
  {
   "cell_type": "markdown",
   "metadata": {
    "id": "CGUkIlS0qcsx"
   },
   "source": [
    "## Fpt shop\n",
    "- Rename column to the same format as data form\n",
    "- Clean `Series`,`displ_rate`\n",
    "- `Rating`,`Rating_count`: (5,1) to (0,0)"
   ]
  },
  {
   "cell_type": "code",
   "execution_count": 8,
   "metadata": {
    "colab": {
     "base_uri": "https://localhost:8080/"
    },
    "id": "1WJMSYQZOz-1",
    "outputId": "32dbe31b-d167-4ea0-ed74-36baae592d1d"
   },
   "outputs": [
    {
     "name": "stderr",
     "output_type": "stream",
     "text": [
      "<ipython-input-4-c2c1c5c595fb>:19: DeprecationWarning: `np.object` is a deprecated alias for the builtin `object`. To silence this warning, use `object` by itself. Doing this will not modify any behavior and is safe. \n",
      "Deprecated in NumPy 1.20; for more details and guidance: https://numpy.org/devdocs/release/1.20.0-notes.html#deprecations\n",
      "  if df[c].dtypes == np.object:\n",
      "<ipython-input-8-bcb3578904c4>:54: SettingWithCopyWarning: \n",
      "A value is trying to be set on a copy of a slice from a DataFrame\n",
      "\n",
      "See the caveats in the documentation: https://pandas.pydata.org/pandas-docs/stable/user_guide/indexing.html#returning-a-view-versus-a-copy\n",
      "  cleaned_fpt.Series[i] = extract_r\n"
     ]
    },
    {
     "name": "stdout",
     "output_type": "stream",
     "text": [
      "nitro gaming an515-57-74nu/i7-11800h                     nh.qd9sv.001          nitro gaming an515-57-74nu nh.qd9sv.001\n",
      "modern 14 b11mou 852vn i5 1155g7/852vn                   852vn                 modern 14 b11mou 852vn\n",
      "inspiron n3511 i3 1115g4/p112f001abl                     p112f001              inspiron n3511 p112f001\n",
      "vostro v3500 i3 1115g4                                   v5i3001w              vostro v3500 v5i3001w\n",
      "ideapad slim 3 15itl6 i3 1115g4                          82h80040vn            ideapad slim 3 15itl6 82h80040vn\n",
      "inspiron n3511 i5 1135g7/p112f001bbl                     p112f001              inspiron n3511 p112f001\n",
      "ideapad slim 5 15itl05 i5 1135g7                         82fg00r0vn            ideapad slim 5 15itl05 82fg00r0vn\n",
      "gaming gf63 thin 10sc-481vn i7 10750h                    481vn                 gaming gf63 thin 10sc-481vn\n",
      "inspiron n5515 r5 5500u/p106f003asl                      p106f003asl           inspiron n5515 p106f003asl\n",
      "thinkbook 14 g3 acl r7 5700u/21a2004bvn                  21a2004bvn            thinkbook 14 g3 acl 21a2004bvn\n",
      "vostro v3400 i5 1135g7/70253900                          70253900              vostro v3400 70253900\n",
      "vivobook a515ea-l11970t/i5-1135g7                        a515ea-l11970t        vivobook a515ea-l11970t\n",
      "nitro gaming an515-57-57mx/i5-11400h                     nh.qd9sv.002          nitro gaming an515-57-57mx nh.qd9sv.002\n",
      "gaming katana gf66 11ud 697vn i7 11800h                  697vn                 gaming katana gf66 11ud 697vn\n",
      "inspiron n3502 n4020/nk                                  nk                    inspiron n3502 nk\n",
      "inspiron n3505 r5 3450u                                  2020                  inspiron n3505 2020\n",
      "inspiron n3510 celeron n4020                             2021                  inspiron n3510 2021\n",
      "inspiron n3510 pentium n5030                             2021                  inspiron n3510 2021\n",
      "gaming gf65 10ue 286vn i5 10500h                         286vn                 gaming gf65 10ue 286vn\n",
      "nitro gaming an515-57-54mv/i5-11400h                     nh.qensv.003          nitro gaming an515-57-54mv nh.qensv.003\n",
      "envy 13 ba1535tu i7 1165g7/4u6m4pa                       4u6m4pa               envy 13 ba1535tu 4u6m4pa\n",
      "vostro v3400 i5 1135g7/yx51w3                            yx51w3                vostro v3400 yx51w3\n",
      "vostro v3405 r5 3500u                                    v4r53500u003w         vostro v3405 v4r53500u003w\n",
      "gaming katana gf76 11uc 096vn i7 11800h                  096vn                 gaming katana gf76 11uc 096vn\n",
      "aspire 3 a315 56 37dv i3 1005g1/đen/nx.hs5sv.001         nx.hs5sv.001          aspire 3 a315 56 37dv nx.hs5sv.001\n",
      "ideapad slim 3 15itl6 i5 1135g7                          82h80044vn            ideapad slim 3 15itl6 82h80044vn\n",
      "yoga slim 7 14itl05 i5 1135g7                            82a30071vn            yoga slim 7 14itl05 82a30071vn\n",
      "aspire gaming a715-42g-r4st/r5-5500u                     nh.qaysv.004          aspire gaming a715-42g-r4st nh.qaysv.004\n",
      "inspiron n3501c i3 1115g4/4gb/256gb/15.6\"fhd/win 10      n3501c                inspiron n3501c\n",
      "pavilion 15 eg0513tu i3 1125g4                           46m12pa               pavilion 15 eg0513tu 46m12pa\n",
      "pavilion 15 eg0509tu i3 1125g4                           46m08pa               pavilion 15 eg0509tu 46m08pa\n",
      "vostro v3405 r5 3500u                                    v4r53500u001w         vostro v3405 v4r53500u001w\n",
      "zenbook ux325ea-kg363t/i5-1135g7                         ux325ea-kg363t        zenbook ux325ea-kg363t\n",
      "vostro v3400 i3 1115g4/70253899                          70253899              vostro v3400 70253899\n",
      "inspiron n3501b i5 1135g7                                p90f005               inspiron n3501b p90f005\n",
      "gaming victus 16 e0175ax r5 5600h/4r0u8pa                4r0u8pa               gaming victus 16 e0175ax 4r0u8pa\n",
      "nitro gaming an515-57-74rd/i7-11800h                     nh.qd8sv.001          nitro gaming an515-57-74rd nh.qd8sv.001\n",
      "predator helios gaming ph315-54-75yd/i7-11800h           nh.qc2sv.002          predator helios gaming ph315-54-75yd nh.qc2sv.002\n",
      "inspiron n5510 i5 11300h/0wt8r1                          0wt8r1                inspiron n5510 0wt8r1\n",
      "gaming 3 15ihu6 i7 11370h/82k100fbvn                     82k100fbvn            gaming 3 15ihu6 82k100fbvn\n",
      "prestige 14evo a11m-089vn i7-1185g7                      089vn                 prestige 14evo a11m-089vn\n",
      "gaming katana gf66 11uc 641vn i7 11800h                  641vn                 gaming katana gf66 11uc 641vn\n",
      "gaming alpha 15 b5eek 036vn r7 5800h/036vn               036vn                 gaming alpha 15 b5eek 036vn\n",
      "gaming pulse gl66 11udk 255vn i7 11800h                  255vn                 gaming pulse gl66 11udk 255vn\n",
      "inspiron n3505 r5 3500u/y1n1t5                           y1n1t5                inspiron n3505 y1n1t5\n",
      "gaming stealth 15m a11uek 232vn i7 11375h                232vn                 gaming stealth 15m a11uek 232vn\n",
      "zenbook ux425ea-ki439t/i7-1165g7                         90nb0sm1-m09310       zenbook ux425ea-ki439t 90nb0sm1-m09310\n",
      "tuf gaming fx516pm-hn002t/i7-11370h                      90nr05x1-m00480       tuf gaming fx516pm-hn002t 90nr05x1-m00480\n",
      "vivobook m513ua-l1230t/r5-5500u                          90nb0tp2-m03440       vivobook m513ua-l1230t 90nb0tp2-m03440\n",
      "summit e13 flip evo a11mt i7 1185g7                      220vn                 summit e13 flip evo a11mt 220vn\n",
      "prestie 15 a11sc 037vn i7 1185g7                         037vn                 prestie 15 a11sc 037vn\n",
      "flow gaming gv301qc-k6052t/r9-5900hx                     gv301qc-k6052t        flow gaming gv301qc-k6052t\n",
      "gaming zephyrus ga401ihr-hz009t/r7-4800hs                90nr07h3-m00090       gaming zephyrus ga401ihr-hz009t 90nr07h3-m00090\n",
      "zenbook flip ux363ea-hp548t/i7-1165g7                    90nb0rz1-m13430       zenbook flip ux363ea-hp548t 90nb0rz1-m13430\n",
      "240 g8 i5 1135g7/518v7pa                                 518v7pa               240 g8 518v7pa\n",
      "gaming tuf fa506qm-hn016t/r7-5800h                       90nr0606-m03570       gaming tuf fa506qm-hn016t 90nr0606-m03570\n",
      "nitro gaming an515-45-r0b6/r7-5800h                      nh.qbcsv.001          nitro gaming an515-45-r0b6 nh.qbcsv.001\n",
      "summit e16 flip a11uct i7 1195g7                         068vn                 summit e16 flip a11uct 068vn\n",
      "triton gaming pt315-53-75lq/i7-11800h                    nh.qdqsv.001          triton gaming pt315-53-75lq nh.qdqsv.001\n",
      "pavilion 15 eg0504tu i7 1165g7                           46m00pa               pavilion 15 eg0504tu 46m00pa\n",
      "vivobook x515ea-bq1004t/i3-1115g4                        x515ea-bq1004t        vivobook x515ea-bq1004t\n",
      "gaming tuf fx516pe-hn005t/i7-11370h                      fx516pe-hn005t        gaming tuf fx516pe-hn005t\n",
      "macbook pro 16\" 2021 m1 max 1tb                          mk1a3sa/a             macbook pro 2021 m1 max\n",
      "macbook pro 16\" 2021 m1 pro 512gb                        mk183sa/a             macbook pro 2021 m1 pro\n",
      "macbook pro 14\" 2021 m1 pro 512gb                        mkgp3sa/a             macbook pro 2021 m1 pro\n",
      "elitebook x360 1040 g8 i7 1165g7/3g1h5pa                 3g1h5pa               elitebook x360 1040 g8 3g1h5pa\n",
      "macbook pro 13\" 2020 touch bar 2.0ghz core i5            mwp42sa/a             macbook pro 2020 touch bar\n",
      "stealth gaming gs66 10se-407vn/i7-10750h                                       stealth gaming gs66 10se-407vn\n",
      "thinpad x1 nano i5 1130g7                                20un007hvn            thinpad x1 nano 20un007hvn\n",
      "triton gaming pt315-53-71dj/i7-11800h                    nh.qdssv.001          triton gaming pt315-53-71dj nh.qdssv.001\n",
      "thinkpad x1 carbon 9 i5 1135g7/20xw0077vn                20xw0077vn            thinkpad x1 carbon 9 20xw0077vn\n",
      "thinkpad x1 carbon 8 i5 10210u                           20u9007yvn            thinkpad x1 carbon 8 20u9007yvn\n",
      "gaming omen 16 b0141tx i5 11400h                         4y0z7pa               gaming omen 16 b0141tx 4y0z7pa\n",
      "zenbook ux371ea-hl494ts/i7-1165g7                        90nb0rz2-m12520       zenbook ux371ea-hl494ts 90nb0rz2-m12520\n",
      "macbook pro 13\" 2020 touch bar m1 16gb/256gb             z11b                  macbook pro 2020 touch bar m1\n",
      "surface pro 7 core i7-1065g7                             2019                  surface pro 7 core 2019\n",
      "zenbook duo ux482ea-ka268t/i7-1165g7                     90nb0s41-m05040       zenbook duo ux482ea-ka268t 90nb0s41-m05040\n",
      "gaming omen 16 b0142tx i5 11400h                         4y0z8pa               gaming omen 16 b0142tx 4y0z8pa\n",
      "gaming g5 15 core i7 10750h                              p89f003g5500b         gaming g5 15 core p89f003g5500b\n",
      "gaming g5 5500 i7 10750h                                 70252800              gaming g5 5500 70252800\n",
      "gaming g7 15 7500 i7 10750h                              p100f001              gaming g7 15 7500 p100f001\n",
      "expertbook b9400cea-kc0790t/i7-1165g7                    90nx0sx1-m10080       expertbook b9400cea-kc0790t 90nx0sx1-m10080\n",
      "nitro gaming an515-45-r9sc/r7-5800h                      nh.qbrsv.001          nitro gaming an515-45-r9sc nh.qbrsv.001\n",
      "macbook air 13\" 2020 m1 512gb                            mgn73sa/a             macbook air 2020 m1\n",
      "gaming stealth15m a11sdk 061vn i7 1185g7                 061vn                 gaming stealth15m a11sdk 061vn\n",
      "macbook pro 13\" 2020 touch bar m1 256gb                  myda2sa/a             macbook pro 2020 touch bar m1\n",
      "zbook firefly 14 g8 i5 1135g7/1a2f1av                    1a2f1av               zbook firefly 14 g8 1a2f1av\n",
      "leopard gl65 10sdk-242vn/core i7-10750h                  242vn                 leopard gl65 10sdk-242vn\n",
      "zenbook duo ux482ea-ka274t/i5-1135g7                     90nb0s41-m05030       zenbook duo ux482ea-ka274t 90nb0s41-m05030\n",
      "zenbook duo ux482ea-ka081t i5 1135g7                     90nb0s41-m02460       zenbook duo ux482ea-ka081t 90nb0s41-m02460\n",
      "nitro gaming an515-57-5831/i5-11400h                     nh.qdgsv.003          nitro gaming an515-57-5831 nh.qdgsv.003\n",
      "gaming g3 15 i7 10750h                                   p89f002bwh            gaming g3 15 p89f002bwh\n",
      "gaming g3 15 3500b i7 10750h/p89f002g3500b               p89f002g3500b         gaming g3 15 3500b p89f002g3500b\n"
     ]
    },
    {
     "name": "stdout",
     "output_type": "stream",
     "text": [
      "surface pro 7/core i5-1035g4                             2019                  surface pro 7 2019\n",
      "gaming g15 5515 r7 5800h/70258049                        70258049              gaming g15 5515 70258049\n",
      "envy 13 ba1030tu i7 1165g7/2k0b6pa                       2k0b6pa               envy 13 ba1030tu 2k0b6pa\n",
      "gaming g5 md i5 11400h/51s1123sh                         g5 md-51s1123sh       gaming g5 md g5 md-51s1123sh\n",
      "swift x sfx14-41g-r61a/r5-5600u                          nx.au3sv.001          swift x sfx14-41g-r61a nx.au3sv.001\n",
      "tuf gaming fx706hc-hx009t/i7-11800h                      fx706hc-hx009t        tuf gaming fx706hc-hx009t\n",
      "pavillion gaming 15 dk1159tx/i7 10750h                   31j36pa               pavillion gaming 15 dk1159tx 31j36pa\n",
      "gaming tuf fx516pc-hn001t/i7-11370h                      90nr05u1-m00940       gaming tuf fx516pc-hn001t 90nr05u1-m00940\n",
      "pavilion gaming 15 dk1074tx i7 10750h/1k3u8pa            1k3u8pa               pavilion gaming 15 dk1074tx 1k3u8pa\n",
      "envy x360 13 ay0069au r7 4700u/171n3pa                   171n3pa               envy x360 13 ay0069au 171n3pa\n",
      "yoga slim 7 14itl05 i7 1165g7                            82a30075vn            yoga slim 7 14itl05 82a30075vn\n",
      "gaming legion 5 r7 4800h                                 82b500rrvn            gaming legion 5 82b500rrvn\n",
      "ideapad 5 pro 14itl6 i7 1165g7/82l3005fvn                82l3005fvn            ideapad 5 pro 14itl6 82l3005fvn\n",
      "surface pro 7/core i5-1035g4                             2019                  surface pro 7 2019\n",
      "yoga 7 14acn6 r7 5800u/82n7002lvn                        82n7002lvn            yoga 7 14acn6 82n7002lvn\n",
      "vostro v3400 i7 1165g7                                   v4i7015w              vostro v3400 v4i7015w\n",
      "probook 440 g8 i7 1165g7                                 2z6j6pa               probook 440 g8 2z6j6pa\n",
      "nitro gaming an515-57-51g6/i5-11400h                     nh.qd8sv.002          nitro gaming an515-57-51g6 nh.qd8sv.002\n",
      "ch 9c13a1 i5 1135g7/4zr1c39165                           4zr1c39165            ch 9c13a1 4zr1c39165\n",
      "inspiron n3501 i7 1165g7/70253898                        70253898              inspiron n3501 70253898\n",
      "gaming 3 15ihu6 i5 11300h/82k1004yvn                     82k1004yvn            gaming 3 15ihu6 82k1004yvn\n",
      "vostro v3500 i7 1165g7                                   7g3982                vostro v3500 7g3982\n",
      "inspiron n5410 i5 1155g7/70262927                        70262927              inspiron n5410 70262927\n",
      "zenbook ux425ea-ki429t/i5-1135g7                         90nb0sm1-m09060       zenbook ux425ea-ki429t 90nb0sm1-m09060\n",
      "vivobook a515ep-bq196t/i7-1165g7                         a515ep-bq196t         vivobook a515ep-bq196t\n",
      "vivobook pro m3401qa-km040t/r7-5800h                     90nb0vz2-m00650       vivobook pro m3401qa-km040t 90nb0vz2-m00650\n",
      "inspiron n3501 i5 1135g7/70253897                        70253897              inspiron n3501 70253897\n",
      "modern 14 b11mou 460vn i7 1165g7                         460vn                 modern 14 b11mou 460vn\n",
      "gaming gf63 10sc 014vn i5 10200h                         014vn                 gaming gf63 10sc 014vn\n",
      "gaming gf63- 468vn i5 10500h                             468vn                 gaming gf63- 468vn\n",
      "modern 15 a11mu 678vn i5 1155g7                          678vn                 modern 15 a11mu 678vn\n",
      "surface laptop go/core i5-1035g1                         2020                  surface laptop go 2020\n",
      "gaming bravo 15 a4dcr 292vn r5 4600h                     292vn                 gaming bravo 15 a4dcr 292vn\n",
      "inspiron n5415 r5 5500u/70262929                         70262929              inspiron n5415 70262929\n",
      "vivobook a515ep-bq496t/i5-1135g7                         a515ep-bq496t         vivobook a515ep-bq496t\n",
      "ideapad slim 5 15alc05 r7 5700u                          82ln00apvn            ideapad slim 5 15alc05 82ln00apvn\n",
      "thinkbook 14 g3 acl r5 5500u/21a2004avn                  21a2004avn            thinkbook 14 g3 acl 21a2004avn\n",
      "vostro v5515 r3 5300u/70253897                           70253897              vostro v5515 70253897\n",
      "pavilion 14 dv0510tu i5-1135g7/46l79pa                   46l79pa               pavilion 14 dv0510tu 46l79pa\n",
      "liber ns14a9 r5 4500u/ns14a9vnv561-aba                   ns14a9vnv561-aba      liber ns14a9 ns14a9vnv561-aba\n",
      "liber ns14a9 r5 4500u/ns14a9vnv561-uga                   ns14a9vnv561-uga      liber ns14a9 ns14a9vnv561-uga\n",
      "pavilion 15 eg0540tu i5 1135g7                           4p5g7pa               pavilion 15 eg0540tu 4p5g7pa\n",
      "vivobook x515ea-br1409t/i5-1135g7                        90nb0ty1-m23210       vivobook x515ea-br1409t 90nb0ty1-m23210\n",
      "240 g8 i5 1135g7                                         518v6pa               240 g8 518v6pa\n",
      "modern 14 b5m r5 5500u/062vn                             062vn                 modern 14 b5m 062vn\n",
      "340s g7 i5 1035g1/36a43pa                                36a43pa               340s g7 36a43pa\n",
      "pavilion 14 dv0042tu i5-1135g7                           2h3l1pa               pavilion 14 dv0042tu 2h3l1pa\n",
      "ideapad slim 3 14itl6 i5 1135g7                          82h7003uvn            ideapad slim 3 14itl6 82h7003uvn\n",
      "vivobook a515ea-bn1688t/i3-1115g4                        a515ea-bn1688t        vivobook a515ea-bn1688t\n",
      "inspiron n3502 pentium n5030/nk                          nk                    inspiron n3502 nk\n",
      "inspiron n3510 n4020/p91k5_nk                            p91k5                 inspiron n3510 p91k5\n",
      "flip br1100fka-bp0531t/n4500                             90nx03a1-m06750       flip br1100fka-bp0531t 90nx03a1-m06750\n",
      "vivobook e210ka-gj031t/n4500                             90nb0u71-m00460       vivobook e210ka-gj031t 90nb0u71-m00460\n",
      "60     100\n",
      "144     33\n",
      "120      8\n",
      "165      3\n",
      "300      1\n",
      "90       1\n",
      "Name: displ_rate, dtype: int64\n"
     ]
    },
    {
     "name": "stderr",
     "output_type": "stream",
     "text": [
      "<ipython-input-8-bcb3578904c4>:61: SettingWithCopyWarning: \n",
      "A value is trying to be set on a copy of a slice from a DataFrame\n",
      "\n",
      "See the caveats in the documentation: https://pandas.pydata.org/pandas-docs/stable/user_guide/indexing.html#returning-a-view-versus-a-copy\n",
      "  cleaned_fpt.Rating[cleaned_fpt.Rating_count == 1] = 0\n",
      "<ipython-input-8-bcb3578904c4>:62: SettingWithCopyWarning: \n",
      "A value is trying to be set on a copy of a slice from a DataFrame\n",
      "\n",
      "See the caveats in the documentation: https://pandas.pydata.org/pandas-docs/stable/user_guide/indexing.html#returning-a-view-versus-a-copy\n",
      "  cleaned_fpt.Rating_count[cleaned_fpt.Rating_count == 1] = 0\n"
     ]
    },
    {
     "ename": "NameError",
     "evalue": "name 'source' is not defined",
     "output_type": "error",
     "traceback": [
      "\u001b[0;31m---------------------------------------------------------------------------\u001b[0m",
      "\u001b[0;31mNameError\u001b[0m                                 Traceback (most recent call last)",
      "\u001b[0;32m<ipython-input-8-bcb3578904c4>\u001b[0m in \u001b[0;36m<module>\u001b[0;34m\u001b[0m\n\u001b[1;32m     67\u001b[0m \u001b[0;34m\u001b[0m\u001b[0m\n\u001b[1;32m     68\u001b[0m \u001b[0;31m#screen_tech\u001b[0m\u001b[0;34m\u001b[0m\u001b[0;34m\u001b[0m\u001b[0;34m\u001b[0m\u001b[0m\n\u001b[0;32m---> 69\u001b[0;31m \u001b[0;32mfor\u001b[0m \u001b[0mi\u001b[0m\u001b[0;34m,\u001b[0m\u001b[0mr\u001b[0m \u001b[0;32min\u001b[0m \u001b[0msource\u001b[0m\u001b[0;34m.\u001b[0m\u001b[0mdispl_tech\u001b[0m\u001b[0;34m.\u001b[0m\u001b[0miteritems\u001b[0m\u001b[0;34m(\u001b[0m\u001b[0;34m)\u001b[0m\u001b[0;34m:\u001b[0m\u001b[0;34m\u001b[0m\u001b[0;34m\u001b[0m\u001b[0m\n\u001b[0m\u001b[1;32m     70\u001b[0m     \u001b[0;32mif\u001b[0m \u001b[0mpd\u001b[0m\u001b[0;34m.\u001b[0m\u001b[0misnull\u001b[0m\u001b[0;34m(\u001b[0m\u001b[0mr\u001b[0m\u001b[0;34m)\u001b[0m\u001b[0;34m:\u001b[0m\u001b[0;34m\u001b[0m\u001b[0;34m\u001b[0m\u001b[0m\n\u001b[1;32m     71\u001b[0m         \u001b[0;32mcontinue\u001b[0m\u001b[0;34m\u001b[0m\u001b[0;34m\u001b[0m\u001b[0m\n",
      "\u001b[0;31mNameError\u001b[0m: name 'source' is not defined"
     ]
    }
   ],
   "source": [
    "scraped_fpt = pd.read_csv(data_path+\"fptshop_scraped.csv\")\n",
    "cleaned_fpt = pd.read_csv(data_path+\"fpt-cleaned.csv\")\n",
    "cleaned_fpt.rename(columns={'PN':'P/N',\n",
    "                            'rating':'Rating',\n",
    "                            'rating_count':'Rating_count',\n",
    "                            'comment_count':'Comment_count',\n",
    "                            'price':'Price',\n",
    "                            'RAM':'ram_size',\n",
    "                            'RAM_upgradable':'ram_upgradable',\n",
    "                            'battery_wh':'Battery',\n",
    "                            'storage_upgradable':'storage_extra_slot',\n",
    "                            'screen_size':'displ_size',\n",
    "                            'display_resolution':'displ_resolution',\n",
    "                            'display_rating':'displ_rate',\n",
    "                            'weight':'Weight',\n",
    "                            'height':'thickness',\n",
    "                            'surface_material':'Surface',\n",
    "                            'release_year':'Release_year', \n",
    "                            'jack':'headphone_jack',\n",
    "                            'usb':'usb_a', \n",
    "                            'sd':'sd_card',\n",
    "                            'keyboard_light':'backlit_keyboard'\n",
    "                            },inplace=True)\n",
    "\n",
    "lower_all_string(cleaned_fpt)\n",
    "cleaned_fpt['P/N'] = cleaned_fpt['P/N'].fillna('').astype('object')\n",
    "# with pd.option_context('display.max_rows', None, 'display.max_columns', None):\n",
    "#     scraped_fpt.info()\n",
    "#     cleaned_fpt.info()\n",
    "#     print(cleaned_fpt['Series'].value_counts(dropna=False))\n",
    "for i,row in cleaned_fpt.iterrows():\n",
    "    r = row.Series\n",
    "    extract_r1 = re.search(r'([\\w\\s-]+)[ /]c?o?r?e?\\s?[ir\\d]{2}[- ]',r)\n",
    "    extract_r2 = re.search(r'([\\w\\s-]+)pentium',r)\n",
    "    extract_r3 = re.search(r'([\\w\\s-]+)celeron',r)\n",
    "    extract_r4 = re.search(r'([\\w\\s-]+)n4020',r)\n",
    "    extract_r5 = re.search(r'([\\w\\s-]+)/n4500',r)\n",
    "    if extract_r1: extract_r = extract_r1.group(1).strip()\n",
    "    elif extract_r2: extract_r = extract_r2.group(1).strip()\n",
    "    elif extract_r3: extract_r = extract_r3.group(1).strip()\n",
    "    elif extract_r4: extract_r = extract_r4.group(1).strip()\n",
    "    elif extract_r5: extract_r = extract_r5.group(1).strip()\n",
    "    else: extract_r = r.lower().strip()\n",
    "\n",
    "    specs_key = [r'\\d+gb',r'[\\d.]+ghz',r'\\d+gpu',r'\\d+tb','core i5',r'\\d+\"']\n",
    "    for k in specs_key:\n",
    "        extract_r = re.sub(k, '', extract_r).strip(' -/')\n",
    "        extract_r = ' '.join(extract_r.split())\n",
    "    #add P/N\n",
    "    if row['P/N'] not in extract_r and row.Brand != 'apple':\n",
    "        extract_r = f\"{extract_r} {row['P/N']}\"\n",
    "\n",
    "    print(f\"{r:55}  {row['P/N']:20}  {extract_r}\")\n",
    "    cleaned_fpt.Series[i] = extract_r\n",
    "\n",
    "#disp_rate\n",
    "cleaned_fpt.displ_rate = cleaned_fpt.displ_rate.replace(\"--\",60).fillna(60).astype('int64')\n",
    "print(cleaned_fpt.displ_rate.value_counts(dropna=False))\n",
    "\n",
    "#rating\n",
    "cleaned_fpt.Rating[cleaned_fpt.Rating_count == 1] = 0\n",
    "cleaned_fpt.Rating_count[cleaned_fpt.Rating_count == 1] = 0\n",
    "cleaned_fpt.Rating_count = cleaned_fpt.Rating_count.fillna(0).astype('int64')\n",
    "\n",
    "#Battery\n",
    "cleaned_fpt.Battery = cleaned_fpt.Battery\n",
    "\n",
    "#screen_tech\n",
    "for i,r in source.displ_tech.iteritems():\n",
    "    if pd.isnull(r):\n",
    "        continue\n",
    "    elif 'ips' in r.lower():\n",
    "        result['screen_technology'][i] = 'IPS'\n",
    "    elif 'oled' in r.lower():\n",
    "        result['screen_technology'][i] = 'OLED'\n",
    "    elif 'wva' in r.lower():\n",
    "        result['screen_technology'][i] = 'VA'\n",
    "\n",
    "#cpu_code\n",
    "cleaned_fpt.cpu_code.fillna('i5',inplace=True)"
   ]
  },
  {
   "cell_type": "code",
   "execution_count": null,
   "metadata": {
    "colab": {
     "base_uri": "https://localhost:8080/"
    },
    "id": "-59qiK_oKhRh",
    "outputId": "d7be1b79-03f1-48ff-ba63-e623445cfde1"
   },
   "outputs": [],
   "source": [
    "for c in cleaned_fpt.columns:\n",
    "    text_facet(cleaned_fpt,c)"
   ]
  },
  {
   "cell_type": "markdown",
   "metadata": {
    "id": "k6KfPwN4qgVd"
   },
   "source": [
    "## Cellphone S\n",
    "- Drop column `'1star', '2star', '3star', '4star', '5star'`\n",
    "- Rename column `comment_count`\n",
    "- Change Price to float\n",
    "- recleaned `Series`, `displ_size`"
   ]
  },
  {
   "cell_type": "code",
   "execution_count": null,
   "metadata": {
    "colab": {
     "base_uri": "https://localhost:8080/"
    },
    "id": "XBiNinHxMgXp",
    "outputId": "2df31ab4-c4a7-4b25-fa16-a53377cc81ec"
   },
   "outputs": [],
   "source": [
    "scraped_cellphones = pd.read_csv(data_path+\"cellphones_scraped.csv\",index_col='url')\n",
    "# cleaned_cellphones2 = pd.read_csv(\"Laptop-EDA/scraped_data/cellphones_cleaned.csv\",index_col='url')\n",
    "cleaned_cellphones = pd.read_csv(data_path+\"cellphones-cleaned.csv\",index_col='url')\n",
    "\n",
    "cleaned_cellphones.drop(columns=['1star', '2star', '3star', '4star', '5star'],inplace=True)\n",
    "cleaned_cellphones.rename(columns={'comment_count':'Comment_count',\n",
    "},inplace=True)\n",
    "cleaned_cellphones['Price'] = cleaned_cellphones['Price'].str.extract(r'([\\d.]+)',expand=False).str.replace(\".\",\"\").astype('float64')\n",
    "# with pd.option_context('display.max_rows', None, 'display.max_columns', None):\n",
    "#     scraped_cellphones.info()\n",
    "#     cleaned_cellphones.info()\n",
    "#     cleaned_cellphones2.info()\n",
    "#     # print(scraped_cellphones['Series'].value_counts(dropna=False))\n",
    "# cleaned_cellphones.head()\n",
    "\n",
    "for i,cleaned_row in cleaned_cellphones.Series.iteritems():\n",
    "    r = scraped_cellphones.item_name[i]\n",
    "    if not isinstance(r, str):\n",
    "        # print(r)\n",
    "        r = r[0]\n",
    "    black_key = [r'\\d+gb',r'\\d+inch',r'\\d+gpu',r'\\d+tb',\n",
    "                 'laptop','chính','hãng','việt','nam','nhập','khẩu','cũ','đẹp','bạc','mqd32',\n",
    "                 'apple','asus','msi','hp','lenovo','dell','acer','lg','microsoft','huawei','avita','gigabyte']\n",
    "    cpu_key = ['core','ryzen']\n",
    "    specs_key = [r'\\d+\\sgb',r'[\\d.]+\\sinch',r'\\d+\\sgpu',r'\\d+\\stb',\n",
    "                 'i\\d [\\d.]{3}','\\d+ cpu -','\\([\\w\\d]+\\)','\\dk ','radeon.+']\n",
    "    extract_r1 = []\n",
    "    for index,w in enumerate(r.lower().split()):\n",
    "        if w in cpu_key:\n",
    "            break\n",
    "        if not any(bool(re.match(k,w)) for k in black_key) or (w == 'laptop' and index!=0):\n",
    "            extract_r1.append(w)\n",
    "    extract_r1 = ' '.join(extract_r1).strip(' -')\n",
    "    for k in specs_key:\n",
    "        extract_r1 = re.sub(k, '', extract_r1).strip(' -')\n",
    "    extract_r1 = ' '.join(extract_r1.split())\n",
    "    # extract_r2 = re.search(r'([\\w\\s-]+)',r.lower())\n",
    "    # print('{0:80} {1}'.format(r,extract_r1))\n",
    "    print(f'{r:70} {cleaned_row:20} {extract_r1}')\n",
    "    cleaned_cellphones.Series[i] = extract_r1\n",
    "\n",
    "cleaned_cellphones.dropna(subset=['storage_size','displ_size'],inplace=True)\n",
    "cleaned_cellphones.Rating.fillna(0,inplace=True)\n",
    "#recleaned displ_size\n",
    "cleaned_cellphones.displ_size.loc['https://cellphones.com.vn/laptop-asus-rog-strix-g17-g713qr-hg073t.html'] = 17.3\n",
    "cleaned_cellphones.displ_size.loc['https://cellphones.com.vn/laptop-hp-15-dy2093dx-405f7ua.html'] = 15.6\n",
    "#lower all string attributes\n",
    "lower_all_string(cleaned_cellphones)\n",
    "#cpu_code fill na\n",
    "for i,r in cleaned_cellphones.cpu_code[cleaned_cellphones.Brand == 'apple'].iteritems():\n",
    "    if pd.isnull(r):\n",
    "        for key in ['i5','i7','m1']:\n",
    "            name = scraped_cellphones['item_name'][i]\n",
    "            cpu = scraped_cellphones['Loại CPU'][i]\n",
    "            if not isinstance(name,str):\n",
    "                name = name[0]\n",
    "            if not isinstance(cpu,str):\n",
    "                cpu = cpu[0]\n",
    "            if key in name.lower() or key in cpu.lower():\n",
    "                cleaned_cellphones.cpu_code[i] = key\n",
    "scraped_cellphones = pd.read_csv(data_path+\"cellphones_scraped.csv\",index_col='url')\n",
    "# cleaned_cellphones2 = pd.read_csv(\"Laptop-EDA/scraped_data/cellphones_cleaned.csv\",index_col='url')\n",
    "cleaned_cellphones = pd.read_csv(data_path+\"cellphones-cleaned.csv\",index_col='url')\n",
    "\n",
    "cleaned_cellphones.drop(columns=['1star', '2star', '3star', '4star', '5star'],inplace=True)\n",
    "cleaned_cellphones.rename(columns={'comment_count':'Comment_count',\n",
    "},inplace=True)\n",
    "cleaned_cellphones['Price'] = cleaned_cellphones['Price'].str.extract(r'([\\d.]+)',expand=False).str.replace(\".\",\"\").astype('float64')\n",
    "# with pd.option_context('display.max_rows', None, 'display.max_columns', None):\n",
    "#     scraped_cellphones.info()\n",
    "#     cleaned_cellphones.info()\n",
    "#     cleaned_cellphones2.info()\n",
    "#     # print(scraped_cellphones['Series'].value_counts(dropna=False))\n",
    "# cleaned_cellphones.head()\n",
    "\n",
    "for i,cleaned_row in cleaned_cellphones.Series.iteritems():\n",
    "    r = scraped_cellphones.item_name[i]\n",
    "    if not isinstance(r, str):\n",
    "        # print(r)\n",
    "        r = r[0]\n",
    "    black_key = [r'\\d+gb',r'\\d+inch',r'\\d+gpu',r'\\d+tb',\n",
    "                 'laptop','chính','hãng','việt','nam','nhập','khẩu','cũ','đẹp','bạc','mqd32',\n",
    "                 'apple','asus','msi','hp','lenovo','dell','acer','lg','microsoft','huawei','avita','gigabyte']\n",
    "    cpu_key = ['core','ryzen']\n",
    "    specs_key = [r'\\d+\\sgb',r'[\\d.]+\\sinch',r'\\d+\\sgpu',r'\\d+\\stb',\n",
    "                 'i\\d [\\d.]{3}','\\d+ cpu -','\\([\\w\\d]+\\)','\\dk ','radeon.+']\n",
    "    extract_r1 = []\n",
    "    for index,w in enumerate(r.lower().split()):\n",
    "        if w in cpu_key:\n",
    "            break\n",
    "        if not any(bool(re.match(k,w)) for k in black_key) or (w == 'laptop' and index!=0):\n",
    "            extract_r1.append(w)\n",
    "    extract_r1 = ' '.join(extract_r1).strip(' -')\n",
    "    for k in specs_key:\n",
    "        extract_r1 = re.sub(k, '', extract_r1).strip(' -')\n",
    "    extract_r1 = ' '.join(extract_r1.split())\n",
    "    # extract_r2 = re.search(r'([\\w\\s-]+)',r.lower())\n",
    "    # print('{0:80} {1}'.format(r,extract_r1))\n",
    "    print(f'{r:70} {cleaned_row:20} {extract_r1}')\n",
    "    cleaned_cellphones.Series[i] = extract_r1\n",
    "\n",
    "cleaned_cellphones.dropna(subset=['storage_size','displ_size'],inplace=True)\n",
    "cleaned_cellphones.Rating.fillna(0,inplace=True)\n",
    "#recleaned displ_size\n",
    "cleaned_cellphones.displ_size.loc['https://cellphones.com.vn/laptop-asus-rog-strix-g17-g713qr-hg073t.html'] = 17.3\n",
    "cleaned_cellphones.displ_size.loc['https://cellphones.com.vn/laptop-hp-15-dy2093dx-405f7ua.html'] = 15.6\n",
    "#lower all string attributes\n",
    "lower_all_string(cleaned_cellphones)\n",
    "#cpu_code fill na\n",
    "for i,r in cleaned_cellphones.cpu_code[cleaned_cellphones.Brand == 'apple'].iteritems():\n",
    "    if pd.isnull(r):\n",
    "        for key in ['i5','i7','m1']:\n",
    "            name = scraped_cellphones['item_name'][i]\n",
    "            cpu = scraped_cellphones['Loại CPU'][i]\n",
    "            if not isinstance(name,str):\n",
    "                name = name[0]\n",
    "            if not isinstance(cpu,str):\n",
    "                cpu = cpu[0]\n",
    "            if key in name.lower() or key in cpu.lower():\n",
    "                cleaned_cellphones.cpu_code[i] = key\n",
    "\n",
    "cleaned_cellphones.cpu_code.loc['https://cellphones.com.vn/macbook-pro-14-inch-2021-1tb.html'] = 'm1 pro'\n",
    "cleaned_cellphones.cpu_code.loc['https://cellphones.com.vn/macbook-pro-16-inch-2021-m1-max.html'] = 'm1 max'"
   ]
  },
  {
   "cell_type": "markdown",
   "metadata": {
    "id": "Ax-7TZvbcCgQ"
   },
   "source": [
    "## Laptop Arena\n"
   ]
  },
  {
   "cell_type": "code",
   "execution_count": null,
   "metadata": {
    "colab": {
     "base_uri": "https://localhost:8080/"
    },
    "id": "40f-hwmZcW-C",
    "outputId": "c27833a5-8c14-42ca-faa7-ffab4277f452"
   },
   "outputs": [],
   "source": [
    "la_mapping_cols = ['Brand','Family','Series','Model name','Part Number',\n",
    "                   'Processor manufacturer','Processor model','Internal memory',\n",
    "                   'Processor series','Processor family','Release Date',\n",
    "                   'Total storage capacity','Display diagonal','Maximum refresh rate']\n",
    "def import_laptoparena(data_path):\n",
    "    frames = []\n",
    "    for file_path in glob.glob(data_path+'laptoparena*'):\n",
    "        df = pd.read_csv(file_path,index_col='product_url')\n",
    "        frames.append(df)\n",
    "    df = pd.concat(frames)\n",
    "    return df.reindex(sorted(df.columns),axis=1)\n",
    "\n",
    "scraped_laptoparena = import_laptoparena(data_path)\n",
    "print(len(scraped_laptoparena.columns))\n"
   ]
  },
  {
   "cell_type": "code",
   "execution_count": null,
   "metadata": {
    "colab": {
     "base_uri": "https://localhost:8080/"
    },
    "id": "pgDqXqeRMblK",
    "outputId": "b4b116c7-5dd4-4d18-8d3f-eccdd270c28f"
   },
   "outputs": [],
   "source": [
    "print('Width: ', len(scraped_laptoparena.columns))\n",
    "print('Length: ',len(scraped_laptoparena))\n",
    "key_word = []\n",
    "for c in ['Family','Series']:\n",
    "    key_word.extend(scraped_laptoparena[c].fillna('').str.lower().tolist())\n",
    "    # text_facet(laptoparena_scrapped,c,print_all=True)\n",
    "key_word = list(set(\" \".join(key_word).split()))"
   ]
  },
  {
   "cell_type": "code",
   "execution_count": null,
   "metadata": {
    "colab": {
     "base_uri": "https://localhost:8080/"
    },
    "id": "_WS_wmyhEPbR",
    "outputId": "1a057f1e-2002-4fd4-e7fa-0b006c1d080b"
   },
   "outputs": [],
   "source": [
    "def remove_duplicate(l):\n",
    "    return list(dict.fromkeys(l))\n",
    "\n",
    "def clean_laptoparena(source,use_part_number=True):\n",
    "    result = pd.DataFrame()\n",
    "\n",
    "    result['Brand'] = source['Brand'].str.strip()\n",
    "\n",
    "    series = source[['Family','Series','Model name']]\n",
    "    series['product_title'] = source['product_title'].str.split().str[1:].str.join(\" \").str.split(' - ').str[0]\n",
    "    result['Series'] = series.fillna('').agg(' '.join, axis=1).str.split().apply(remove_duplicate).str.join(\" \")\n",
    "    text_facet(result,'Series',print_all=False)\n",
    "\n",
    "    result['cpu_brand'] = source['Processor manufacturer'].str.strip().str.lower()\n",
    "    source[['Processor family','Processor series']] = source[['Processor family','Processor series']].fillna('')\n",
    "    for i,r in source[source['Processor manufacturer'].isnull()].iterrows():\n",
    "        row = ' '.join(r[['Processor family','Processor series']]).lower()\n",
    "        for chip in ('intel','qualcomm','amd'):\n",
    "            if chip in row:\n",
    "                result.cpu_brand[i] = chip\n",
    "\n",
    "    # text_facet(source,'Processor model',print_all=False)\n",
    "    result['cpu_code'] = source['Processor model'].str.split('-').str[-1].str.strip()\n",
    "    # text_facet(result,'cpu_code',print_all=False)\n",
    "\n",
    "    # text_facet(source,'Internal memory',print_all=False)\n",
    "    result['ram_size'] = source['Internal memory'].str.extract(r'(\\d+)',expand=False).str.strip().astype('float64')\n",
    "    # text_facet(result,'ram_size',print_all=False)\n",
    "\n",
    "    # text_facet(source,'Total storage capacity',print_all=False)\n",
    "    result['storage_size'] = source['Total storage capacity'].str.extract(r'(\\d+)',expand=False).str.strip().astype('float64')\n",
    "    result['storage_size'][result['storage_size'] == 1000] = 1024\n",
    "    # text_facet(result,'storage_size',print_all=False)\n",
    "\n",
    "    # text_facet(source,'Display diagonal',print_all=False)\n",
    "    result['displ_size'] = source['Display diagonal'].str.extract(r'([\\d.]+)',expand=False).str.strip().astype('float64')\n",
    "    # text_facet(result,'displ_size',print_all=False)\n",
    "\n",
    "    # text_facet(source,'Maximum refresh rate',print_all=False)\n",
    "    result['displ_rate'] = source['Maximum refresh rate'].str.extract(r'([\\d.]+)',expand=False).str.strip().fillna(60).astype('int64')\n",
    "    # text_facet(result,'displ_rate',print_all=False)\n",
    "    result['Release_date'] = pd.to_datetime(source['Release Date'])\n",
    "    lower_all_string(result)\n",
    "\n",
    "\n",
    "    result.dropna(subset=mapping_cols+['Release_date'],inplace=True)\n",
    "    # for c in result.columns:\n",
    "    #     if len(result[result[c].isnull()]) > len(result)/2:\n",
    "    #         result.drop(columns=c,inplace=True)\n",
    "    #         continue\n",
    "    #     else:\n",
    "    #         text_facet(result,c,print_all=False)\n",
    "    result = result[result.Brand.isin(all_brands)]\n",
    "    return result\n",
    "\n",
    "cleaned_laptoparena = clean_laptoparena(laptoparena_scrapped)"
   ]
  },
  {
   "cell_type": "code",
   "execution_count": null,
   "metadata": {
    "id": "GyPJ9lziXeRp"
   },
   "outputs": [],
   "source": [
    "print(cleaned_laptoparena.cpu_code[cleaned_laptoparena.cpu_code.isnull()])"
   ]
  },
  {
   "cell_type": "code",
   "execution_count": null,
   "metadata": {
    "id": "k7XPtnsjiE2z"
   },
   "outputs": [],
   "source": [
    "with pd.option_context('display.max_columns', None):\n",
    "    print(scraped_laptoparena[['Processor manufacturer','Processor series','Processor family']][scraped_laptoparena['Processor manufacturer'].isnull()])\n",
    "# for c in .columns:\n",
    "#     if 'processor' in c.lower():\n",
    "#         text_facet(laptoparena,c)"
   ]
  },
  {
   "cell_type": "markdown",
   "metadata": {
    "id": "nt3WGthaAIdb"
   },
   "source": [
    "# Integrate\n",
    "cleaned data are saved as `cleaned_tgdd`,`cleaned_fpt`,`cleaned_cellphones`\n",
    "\n",
    "TODO\n",
    "- Chọn các attribute và xử lý các attribute đó trong cả 3 file - Series ✅\n",
    "- Kết nối 3 data của tgdd, cellphone và fpt bao gồm các mapping attribute và hợp nhất các retained attribute ✅ (cách hợp nhất các retained phải xem lại)\n",
    "- Kết nối data thu được ở bước 2 với data của laptop arena dựa vào các mapping attribute, giữ lại các retained.\n",
    "- Xử lý data đã map được ở bước 3 (loại bỏ các cột quá nhiều null, format dữ liệu, điền tay cho các máy của apple)\n"
   ]
  },
  {
   "cell_type": "markdown",
   "metadata": {
    "id": "u1hQHFUAqwpN"
   },
   "source": [
    "## Check out mapping attribute in TGDD, FPT and CellphoneS\n",
    "- Mapping attribute must be non-null, except for Apple brand ✅\n",
    "- Retained attribute type is float or int ✅\n",
    "- Three dataset must have same set of column ✅\n",
    "- No duplicated rows ✅"
   ]
  },
  {
   "cell_type": "code",
   "execution_count": null,
   "metadata": {
    "id": "KQmRCh7f0-gt"
   },
   "outputs": [],
   "source": [
    "cleaned_fpt[['Series','Brand','cpu_brand','cpu_code','ram_size','storage_size',\n",
    "             'displ_size','displ_rate',\n",
    "             'Price','Rating','Rating_count','Comment_count']].info()\n",
    "with pd.option_context('display.max_rows', None, 'display.max_columns', None):\n",
    "    print(cleaned_fpt.Brand[cleaned_fpt.cpu_code.isnull()])\n",
    "    print(cleaned_fpt[cleaned_fpt['P/N'].isnull()])\n",
    "cleaned_fpt.head(3)"
   ]
  },
  {
   "cell_type": "code",
   "execution_count": null,
   "metadata": {
    "colab": {
     "base_uri": "https://localhost:8080/",
     "height": 1000
    },
    "id": "_PTMFX-h01DO",
    "outputId": "28d3c059-3104-4bf2-b1a9-da3913663f9c"
   },
   "outputs": [],
   "source": [
    "cleaned_cellphones[all_cols].info()\n",
    "with pd.option_context('display.max_rows', None, 'display.max_columns', None):\n",
    "    print(cleaned_cellphones.Brand[cleaned_cellphones.Price.isnull()])\n",
    "    print(cleaned_cellphones.Brand[cleaned_cellphones.ram_size.isnull()])\n",
    "    print(cleaned_cellphones.Brand[cleaned_cellphones.storage_size.isnull()])\n",
    "    print(cleaned_cellphones.Brand[cleaned_cellphones.displ_size.isnull()])\n",
    "cleaned_cellphones.head(3)"
   ]
  },
  {
   "cell_type": "code",
   "execution_count": null,
   "metadata": {
    "id": "CwGgDQM71NQv"
   },
   "outputs": [],
   "source": [
    "cleaned_tgdd[['Series','Brand','cpu_brand','cpu_code','ram_size','storage_size','displ_size','displ_rate','Price','Rating','Rating_count','Comment_count']].info()\n",
    "with pd.option_context('display.max_rows', None, 'display.max_columns', None):\n",
    "    print(cleaned_tgdd.Brand[cleaned_tgdd.cpu_code.isnull()])\n",
    "cleaned_tgdd.head(3)"
   ]
  },
  {
   "cell_type": "code",
   "execution_count": null,
   "metadata": {
    "id": "nL43ljnbrIoX"
   },
   "outputs": [],
   "source": [
    "print(sorted(cleaned_fpt.columns))\n",
    "print(sorted(cleaned_tgdd.columns))\n",
    "print(sorted(cleaned_cellphones.columns))"
   ]
  },
  {
   "cell_type": "code",
   "execution_count": null,
   "metadata": {
    "id": "1v1RauXYUFu-"
   },
   "outputs": [],
   "source": [
    "print(f\"Duplicated tgdd: {any(cleaned_tgdd.duplicated())}\")\n",
    "print(f\"Duplicated cellphones: {any(cleaned_cellphones.duplicated())}\")\n",
    "print(f\"Duplicated fpt: {any(cleaned_fpt.duplicated())}\")"
   ]
  },
  {
   "cell_type": "markdown",
   "metadata": {
    "id": "04dhjGUdVzD3"
   },
   "source": [
    "Rating_count chia làm 2 tập"
   ]
  },
  {
   "cell_type": "code",
   "execution_count": null,
   "metadata": {
    "id": "9JOBRZyIcWmy"
   },
   "outputs": [],
   "source": [
    "# col = 'Rating'\n",
    "# col = 'Release_year'\n",
    "# col = 'Comment_count'\n",
    "# col = 'Brand'\n",
    "# col = 'storage_type'\n",
    "for col in mapping_cols:\n",
    "    for data in (cleaned_cellphones,cleaned_fpt,cleaned_tgdd):\n",
    "        text_facet(data[data.Brand == 'apple'],col)\n",
    "# data = cleaned_tgdd\n",
    "# data[data.Brand == 'apple'].Series"
   ]
  },
  {
   "cell_type": "markdown",
   "metadata": {
    "id": "gAYZQC6yrPtV"
   },
   "source": [
    "## Merge TGDD, FPT and CellphoneS\n",
    "Retained attributes:\n",
    "- Comment = Sum of 3\n",
    "- Rating Count = Sum of 3\n",
    "- Availabe_in = Number of existence in stores\n",
    "- Rating point = Average of `Rating` with weight is `Rating_count`\n",
    "- Price = Average of `Price`"
   ]
  },
  {
   "cell_type": "markdown",
   "metadata": {
    "id": "tmFDYiLrPAgV"
   },
   "source": [
    "String similarity\n",
    "<ol>\n",
    "<li><a href=\"http://en.wikipedia.org/wiki/Hamming_distance\">Hamming distance</a>  </li>\n",
    "<li><a href=\"http://en.wikipedia.org/wiki/Levenshtein_distance\">Levenshtein distance</a></li>\n",
    "<li><a href=\"http://en.wikipedia.org/wiki/Damerau%E2%80%93Levenshtein_distance\">Damerau–Levenshtein distance</a>  </li>\n",
    "<li><a href=\"http://en.wikipedia.org/wiki/Jaro%E2%80%93Winkler_distance\">Jaro–Winkler distance</a></li>\n",
    "</ol>\n",
    "\n",
    "Jellyfish: https://github.com/jamesturk/jellyfish"
   ]
  },
  {
   "cell_type": "code",
   "execution_count": null,
   "metadata": {
    "colab": {
     "base_uri": "https://localhost:8080/"
    },
    "id": "J4kF-t5Gshsg",
    "outputId": "207ee8bd-65d3-4faa-88de-3c603d1ae917"
   },
   "outputs": [],
   "source": [
    "'m1' in key_word"
   ]
  },
  {
   "cell_type": "code",
   "execution_count": null,
   "metadata": {
    "colab": {
     "base_uri": "https://localhost:8080/"
    },
    "id": "_isg3DYryUVF",
    "outputId": "2c482131-f322-44da-9710-6ac11eda839f"
   },
   "outputs": [],
   "source": [
    "max(1,2)"
   ]
  },
  {
   "cell_type": "code",
   "execution_count": null,
   "metadata": {
    "colab": {
     "base_uri": "https://localhost:8080/"
    },
    "id": "-5Yp3jiffAaN",
    "outputId": "7144b912-4692-42e5-ca0d-c128c22221ef"
   },
   "outputs": [],
   "source": [
    "lev = textdistance.Levenshtein(qval=None)\n",
    "hamming =  textdistance.Hamming(qval=None)\n",
    "def similar_str(a, b, algo):\n",
    "    '''\n",
    "    Compare string similarity with threshold\n",
    "    Input: a,b - string, thres - float \n",
    "    Output: float\n",
    "    '''\n",
    "    if algo == 'normal':\n",
    "        return SequenceMatcher(None, a, b).ratio()\n",
    "\n",
    "    elif algo == 'custom':\n",
    "        both = 0\n",
    "        a_word, b_word = 0,0\n",
    "        just_a, just_b = [],[]\n",
    "        for x in a.split():\n",
    "            if x in b.split() and x in key_word: both += 1\n",
    "            if x not in key_word or x not in b.split(): just_a.append(x)\n",
    "            if x in key_word: a_word += 1\n",
    "        for x in b.split():\n",
    "            if x in key_word: b_word += 1\n",
    "            if x not in a.split() or x not in key_word: just_b.append(x)\n",
    "        return 0.35*(both/max(a_word,1) + both/max(b_word,1)) + 0.3*fuzz.ratio(\" \".join(just_a),\" \".join(just_b))/100\n",
    "\n",
    "    elif algo == 'lev2':\n",
    "        return lev.normalized_similarity(a,b)\n",
    "    elif algo == 'lev':\n",
    "        return fuzz.ratio(a,b)/100\n",
    "\n",
    "s = [('gaming predator helios 300 ph315-54-78w5 nh.qc5sv.001','Predator Helios 300 PH315-53-781R NH.Q7YAA.001'.lower()),\n",
    "    ('Acer Nitro AN515-51-79DZ'.lower(), 'nitro 5 an515 57 74nu nh.qd9sv.00 1'),\n",
    "    ('macbook air 2020 m1','macbook pro m1 2020'),\n",
    "    ('gaming stealth15m a11sdk 061vn','gaming stealth 15m a11uek 254vn'),\n",
    "]\n",
    "# for i in ('Nitro','5','AN515-51-79DZ','NH.Q2QAA.007'):\n",
    "#     print(similar_str(i.lower(),s3[1],'lev'))\n",
    "#     print(similar_str(i.lower(),s3[1],'custom'))\n",
    "#     print('-----------------------------------------')\n",
    "for a,b in s:\n",
    "    print(similar_str(a,b,'lev'))\n",
    "    print(similar_str(a,b,'custom'))"
   ]
  },
  {
   "cell_type": "code",
   "execution_count": null,
   "metadata": {
    "id": "oBAPO1OrEMLU"
   },
   "outputs": [],
   "source": [
    "def merge(dfa,dfb,pref1='_df1',pref2='_df2',laptoparena_position=None,\n",
    "          min_score = 0.55, algo = 'lev'):\n",
    "\n",
    "    df1 = dfa.copy()\n",
    "    df2 = dfb.copy()\n",
    "\n",
    "    df1['Index'+pref1]=df1.index\n",
    "    df2['Index'+pref2]=df2.index\n",
    "\n",
    "    df1['match_index'+pref2] = np.nan\n",
    "    df1['match_score'+pref2] = np.nan\n",
    "    \n",
    "    choices = []\n",
    "    for i1,r1 in df1.iterrows():\n",
    "        score = df2['Series'].apply(similar_str,args=(r1['Series'],algo))\n",
    "        match_df2 = df2.loc[\n",
    "            (df2['ram_size'] == r1['ram_size']) &\n",
    "            (df2['cpu_brand'] == r1['cpu_brand']) &\n",
    "            (df2['cpu_code'] == r1['cpu_code']) &\n",
    "            (df2['Brand'] == r1['Brand']) &\n",
    "            (df2['storage_size'] == r1['storage_size']) &\n",
    "            (df2['displ_rate']  == r1['displ_rate']) &\n",
    "            (abs(r1['displ_size']-df2['displ_size'])<0.5) &\n",
    "            (score > min_score)\n",
    "        ]\n",
    "        choices.extend(list(zip(*[[i1]*len(match_df2),match_df2.index,score.loc[match_df2.index]])))\n",
    "\n",
    "    exclude1, exclude2 = [], []\n",
    "    for i1,i2,score in sorted(choices,key=lambda x:x[2],reverse=True):\n",
    "        if i1 not in exclude1 and i2 not in exclude2:\n",
    "            df1['match_index'+pref2][i1] = i2\n",
    "            df1['match_score'+pref2][i1] = score\n",
    "            exclude1.append(i1)\n",
    "            exclude2.append(i2)\n",
    "    \n",
    "    print(f\"Matched: {len(df1['match_index'+pref2][np.invert(df1['match_index'+pref2].isnull())])}\")\n",
    "\n",
    "    merged = pd.merge(df1, df2, suffixes=[pref1,pref2], \n",
    "                      left_on='match_index'+pref2, right_index = True, \n",
    "                      how = laptoparena_position if bool(laptoparena_position) else 'outer'\n",
    "                      )\n",
    "    merged.reset_index(inplace=True)\n",
    "    return merged.reindex(sorted(merged.columns), axis=1)\n",
    "\n",
    "def join_column_from_merged(df, pref1, pref2,priority='left',keep_cols=[]):\n",
    "    merged_retained = []\n",
    "    for c in df.columns:\n",
    "        # print(c)\n",
    "        if any(k+'_' in c for k in retained_cols + keep_cols):\n",
    "            merged_retained.append(c)\n",
    "    print(merged_retained)\n",
    "    result = df[merged_retained]\n",
    "\n",
    "    # to_merge = mapping_cols + other_cols\n",
    "    to_merge = all_cols\n",
    "    for c in to_merge:\n",
    "        result[c] = np.nan\n",
    "        for i,r in result.iterrows():\n",
    "            if pd.isnull(df[c+pref1][i]):\n",
    "                result[c][i] = df[c+pref2][i]\n",
    "            elif pd.isnull(df[c+pref2][i]):\n",
    "                result[c][i] = df[c+pref1][i]\n",
    "            elif priority == 'left':\n",
    "                result[c][i] = df[c+pref1][i]\n",
    "            elif priority == 'right':\n",
    "                result[c][i] = df[c+pref2][i]\n",
    "    return result\n",
    "\n",
    "def join_retained_atrr(dataframe, prefs):\n",
    "    df = dataframe.copy()\n",
    "    df['Availabe_in'] = len(prefs) - df[['Index'+p for p in prefs]].isnull().sum(axis=1)\n",
    "    for i,r in df.iterrows():\n",
    "        r.Rating_count = np.sum(r[['Rating_count'+p for p in prefs]])\n",
    "        if r.Rating_count ==0:\n",
    "            r.Rating = 0\n",
    "        else:\n",
    "            r.Rating = np.average(r[['Rating'+p for p in prefs]].fillna(0),\n",
    "                                weights = r[['Rating_count'+p for p in prefs]].fillna(0))\n",
    "        r.Comment_count = np.sum(r[['Comment_count'+p for p in prefs]])\n",
    "        r.Price = np.mean(r[['Price'+p for p in prefs]])\n",
    "        df.loc[i] = r\n",
    "\n",
    "    for c in retained_cols:\n",
    "        with pd.option_context('display.max_columns', None):\n",
    "            print(df[[c]+[c+p for p in prefs]])\n",
    "\n",
    "    for c in df.columns:\n",
    "        if any(k+'_' in c for k in retained_cols + ['Index'+p for p in prefs]):\n",
    "            df = df.drop(columns=c)\n",
    "    return df"
   ]
  },
  {
   "cell_type": "code",
   "execution_count": null,
   "metadata": {
    "colab": {
     "base_uri": "https://localhost:8080/",
     "height": 1000
    },
    "id": "vGCG73XOinEH",
    "outputId": "235ad60b-b0ed-428f-b752-94cbc5196737"
   },
   "outputs": [],
   "source": [
    "df = merge(cleaned_fpt, cleaned_tgdd,'_fpt','_tgdd',algo='custom')\n",
    "# df = merge(cleaned_tgdd, cleaned_fpt,'_tgdd','_fpt')\n",
    "df_2 = join_column_from_merged(df,'_fpt','_tgdd',priority='right',\n",
    "                               keep_cols=['Index','Series','match_score'])\n",
    "df_3 = merge(df_2,cleaned_cellphones,'_fpt_tgdd','_cellphones',algo='custom')\n",
    "df_4 = join_column_from_merged(df_3,'_fpt_tgdd','_cellphones',priority='left',keep_cols=['Index'])\n",
    "df_4.head()"
   ]
  },
  {
   "cell_type": "code",
   "execution_count": null,
   "metadata": {
    "colab": {
     "base_uri": "https://localhost:8080/",
     "height": 1000
    },
    "id": "k-dXj0vlZCrC",
    "outputId": "5b050572-22ba-462f-fc99-830e4dad2e49"
   },
   "outputs": [],
   "source": [
    "df_5 = join_retained_atrr(df_4,('_fpt','_tgdd','_cellphones'))\n",
    "df_5.head()"
   ]
  },
  {
   "cell_type": "code",
   "execution_count": null,
   "metadata": {
    "colab": {
     "base_uri": "https://localhost:8080/"
    },
    "id": "DCwOKXRRQK40",
    "outputId": "f671cb83-70d8-4406-ae74-0519d39a977a"
   },
   "outputs": [],
   "source": [
    "def print_merged_result(df, col, prefs=('_fpt','_tgdd','_cellphones'),sort=True):\n",
    "    '''prefs can be any length'''\n",
    "    print(f\"-------Column: {col} ---------------\")\n",
    "    if sort:\n",
    "        df = df.iloc[df[[col+p for p in prefs]].fillna('').agg(''.join, axis=1).argsort()]\n",
    "    for i, r in df.iterrows():\n",
    "        # if abs(r[col+pref1]-r[col+pref2]) >=0.5:\n",
    "        for p in prefs[1:]:\n",
    "            print(f\"{r['match_score'+p]:4.2f} |\",end=\" \")\n",
    "        for p in prefs:\n",
    "            print(f\"{r[col+p]:45} |\",end=\" \")\n",
    "        for p in prefs:\n",
    "            print(f\"{r['Index'+p]:80} |\",end=\" \")\n",
    "        print(\"\")\n",
    "# {r[col+pref1]:45} | {r[col+pref2]:40} | {r[col+pref3]:40} | {r['Index'+pref1]:10} | {r['Index'+pref2]:80} | {r['Index'+pref3]:80}\")\n",
    "\n",
    "\n",
    "# print_merged_result(df,col='Series')\n",
    "print_merged_result(df_3,col='Series',sort=True)\n"
   ]
  },
  {
   "cell_type": "code",
   "execution_count": null,
   "metadata": {
    "id": "G1vgVeN13iTg"
   },
   "outputs": [],
   "source": [
    "s1 = ('yoga slim 7 14itl05 82a300dpvn','yoga 7 14acn6 82n7002lvn')\n",
    "string_simil"
   ]
  },
  {
   "cell_type": "markdown",
   "metadata": {
    "id": "xA1BFMVPNvf0"
   },
   "source": [
    "## Join merged result with LaptopArena\n",
    "Differences when merging with LaptopArena compared to previous part\n",
    "- Condition of `Series` will be different\n",
    "- df1 and df2 has different set of columns\n",
    "- Mapping column may contains `NaN`\n"
   ]
  },
  {
   "cell_type": "code",
   "execution_count": null,
   "metadata": {
    "colab": {
     "base_uri": "https://localhost:8080/"
    },
    "id": "joZgicfNdiIv",
    "outputId": "858e7573-ce14-403e-aaa2-1ede2799d3b2"
   },
   "outputs": [],
   "source": [
    "df_5.info()"
   ]
  },
  {
   "cell_type": "code",
   "execution_count": null,
   "metadata": {
    "colab": {
     "base_uri": "https://localhost:8080/"
    },
    "id": "SFfcOnuIgKLs",
    "outputId": "0c0c968a-de06-4c11-ad95-9e0c57e60d67"
   },
   "outputs": [],
   "source": [
    "text_facet(df_5,'Series')"
   ]
  },
  {
   "cell_type": "code",
   "execution_count": null,
   "metadata": {
    "id": "Ud2xzy9KYFyK"
   },
   "outputs": [],
   "source": [
    "print(len(df_5))\n",
    "df_5.to_csv('merged_data.csv')"
   ]
  },
  {
   "cell_type": "code",
   "execution_count": null,
   "metadata": {
    "id": "mcLRPU_SN7HW"
   },
   "outputs": [],
   "source": [
    "df_a = merge(df_5,cleaned_laptoparena,pref1='_vnstore',pref2='_laptoparena',\n",
    "             laptoparena_position='left',min_score=0.55,algo='custom')"
   ]
  },
  {
   "cell_type": "code",
   "execution_count": null,
   "metadata": {
    "colab": {
     "base_uri": "https://localhost:8080/"
    },
    "id": "UONl5ee7KkeT",
    "outputId": "999038f7-5850-4419-c4b9-f2842b82dcfb"
   },
   "outputs": [],
   "source": [
    "print(len(df_a))\n",
    "print_merged_result(df_a,col='Series',prefs=('_vnstore','_laptoparena'))"
   ]
  },
  {
   "cell_type": "code",
   "execution_count": null,
   "metadata": {
    "colab": {
     "base_uri": "https://localhost:8080/"
    },
    "id": "40PWEqyex5jx",
    "outputId": "ac1d940f-f90e-4d9a-f876-4599ac66074a"
   },
   "outputs": [],
   "source": [
    "text_facet(df_a,'Release_date')"
   ]
  }
 ],
 "metadata": {
  "colab": {
   "collapsed_sections": [],
   "include_colab_link": true,
   "name": "DS Project 20211.ipynb",
   "provenance": [],
   "toc_visible": true
  },
  "kernelspec": {
   "display_name": "Python 3",
   "language": "python",
   "name": "python3"
  },
  "language_info": {
   "codemirror_mode": {
    "name": "ipython",
    "version": 3
   },
   "file_extension": ".py",
   "mimetype": "text/x-python",
   "name": "python",
   "nbconvert_exporter": "python",
   "pygments_lexer": "ipython3",
   "version": "3.8.10"
  }
 },
 "nbformat": 4,
 "nbformat_minor": 1
}
