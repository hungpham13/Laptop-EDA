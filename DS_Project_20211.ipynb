{
  "nbformat": 4,
  "nbformat_minor": 0,
  "metadata": {
    "colab": {
      "name": "DS Project 20211.ipynb",
      "provenance": [],
      "collapsed_sections": [],
      "include_colab_link": true
    },
    "kernelspec": {
      "name": "python3",
      "display_name": "Python 3"
    },
    "language_info": {
      "name": "python"
    }
  },
  "cells": [
    {
      "cell_type": "markdown",
      "metadata": {
        "id": "view-in-github",
        "colab_type": "text"
      },
      "source": [
        "<a href=\"https://colab.research.google.com/github/hungpham13/Laptop-EDA/blob/main/DS_Project_20211.ipynb\" target=\"_parent\"><img src=\"https://colab.research.google.com/assets/colab-badge.svg\" alt=\"Open In Colab\"/></a>"
      ]
    },
    {
      "cell_type": "markdown",
      "metadata": {
        "id": "qvBBWejs3Mrf"
      },
      "source": [
        "**[Guideline](https://husteduvn.sharepoint.com/sites/IntroductiontoDataScience-IT4142E-2021-2022/Class%20Materials/Capstone%20project/DS-Capstone%20project%20guidelines.pdf)**\n",
        "## Topic description assignment (20th of October, 2021)\n",
        "[Our project proposal](https://docs.google.com/document/d/16L1Mqy_HtDfhxB0xNXmCZSBNMKazWsYgwA9s1Vueih8/edit?usp=sharing)\n",
        "\n",
        "\n",
        "## Assginment for each member\n",
        "### **[On GG Sheet](https://docs.google.com/spreadsheets/d/11ldCYnPJwYuMKBba6jX7qPYnYtekAYjR9YvORww76hE/edit#)**\n",
        "\n",
        "Distinguish between programming tasks and analytic tasks. \n",
        "- Examples of programming tasks: data scraping for source A; implementing algorithm A,\n",
        "etc.\n",
        "- Examples of analytic tasks: proposing our subject, selecting the algorithms to be used to\n",
        "solve this problem, writing parts 1/2/3/4 of the report, writing parts 1/2/3/4 of the presentation, etc.\n",
        "\n",
        "For each task, provide a detailed contribution of each member to this task:\n",
        "- e.g.: Programming Task 1- data scraping from source A: member1 Mr X 40% ; member 2 Mrs Y 60% (no more than 2 members /task for programming tasks)...).\n",
        "- e.g.: Analytic Task 1– proposing our subject: member1 Mr X 40% ; member 2 Mrs Y 30% ; member 2 Mr Z 30% (can be more than 2 members /task for analytic\n",
        "tasks)...)\n",
        "\n",
        "## Final assignment (29th of December, 2021)\n",
        "    \n",
        "Create 1 directory named with group number, upload on the dedicated assignment on Teams:\n",
        "- Report: PDF file, no more than 15 pages (not included reference pages / first page / table of contents)\n",
        "- Code: put in a single .zip file, with a readme.txt file explaining your codes structure, how to run the project – if necessary.\n",
        "- Video demo of your Python code running in a notebook\n",
        "- Presentation: PDF file, no more than 10 slides. The first slide MUST contain the (recent) pictures of the students in the group, with student’s name/number"
      ]
    },
    {
      "cell_type": "markdown",
      "metadata": {
        "id": "DL72QSd1v1cL"
      },
      "source": [
        "# Materials\n",
        "\n",
        "1.Scrapy, Selenium, BeautifulSoup –Data scraping\n",
        "2.Numpy, Pandas, Seaborn –data analysis and visualization\n",
        "\n",
        "[Kaggle detailed EDA](https://www.kaggle.com/ekami66/detailed-exploratory-data-analysis-with-python)\n",
        "\n",
        "[Github DS project](https://github.com/veb-101/Data-Science-Projects)\n",
        "\n",
        "[Havard Data Science Course](http://cs109.github.io/2015/pages/videos.html)\n",
        "\n",
        "[Web Scraping with Python (Book)](https://vn1lib.org/book/3515980/5d50aa)\n",
        "\n",
        "[Web Scraping on Kaggle](https://www.kaggle.com/getting-started?search=web+scraping)"
      ]
    },
    {
      "cell_type": "code",
      "metadata": {
        "id": "I3Hj4-D73Ha_"
      },
      "source": [
        ""
      ],
      "execution_count": null,
      "outputs": []
    }
  ]
}