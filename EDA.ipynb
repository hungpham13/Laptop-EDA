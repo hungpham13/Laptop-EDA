{
  "cells": [
    {
      "cell_type": "markdown",
      "metadata": {
        "id": "view-in-github",
        "colab_type": "text"
      },
      "source": [
        "<a href=\"https://colab.research.google.com/github/hungpham13/Laptop-EDA/blob/main/EDA.ipynb\" target=\"_parent\"><img src=\"https://colab.research.google.com/assets/colab-badge.svg\" alt=\"Open In Colab\"/></a>"
      ]
    },
    {
      "cell_type": "code",
      "execution_count": 51,
      "metadata": {
        "colab": {
          "base_uri": "https://localhost:8080/"
        },
        "id": "0o0mLzCwpmVa",
        "outputId": "d5f6bc7c-0204-4eb5-8ae7-25887de7881e"
      },
      "outputs": [
        {
          "output_type": "stream",
          "name": "stdout",
          "text": [
            "fatal: destination path 'Laptop-EDA' already exists and is not an empty directory.\n"
          ]
        }
      ],
      "source": [
        "! git clone https://github.com/hungpham13/Laptop-EDA/"
      ]
    },
    {
      "cell_type": "markdown",
      "source": [
        "# Welcome to Laptop Market Exploratory Data Analysis !\n",
        "Here we are going to take a closer look at our Laptop data that was scraped from 3 main websites: fptshop.com.vn, cellphones.com and thegioididong.com.vn. \n",
        "\n",
        "\n",
        "---\n",
        "\n",
        "\n",
        "In this section, we will be analysing our data in a variety of aspect: \n",
        "+ We will divide the analysis into 3 main sections: \n",
        "  + Import data and preprocessing\n",
        "  + Examine Numerical Attributes, which focus on the distributions of importants attributes and determine the relationship with other numerical columns.\n",
        "  + Examine Categorical Attributes, which focus on the categories distribution and chi-square test to determine if an attribute affects others.\n",
        "\n",
        "**NOTE: REMOVE OUTLIER OF NUMERIC ATT**"
      ],
      "metadata": {
        "id": "ia_w1LJQ9hBu"
      }
    },
    {
      "cell_type": "markdown",
      "source": [
        "## I. Import libraries, Data and prepare data\n",
        "\n",
        "\n",
        "---\n",
        "\n",
        "Our data preparing includes importing data, drop unnecessary columns, handle missing value and prepare numerical/categorical attributes."
      ],
      "metadata": {
        "id": "vr-nniXbNCB2"
      }
    },
    {
      "cell_type": "markdown",
      "source": [
        "### Import libraries\n",
        "In our Analysis today, we will mostly use matplotlib and seaborn library for ploting data; scipy library is also needed for calculating entropy and chisquare statistics - we will see in the third section."
      ],
      "metadata": {
        "id": "CAK7SoP4EI8S"
      }
    },
    {
      "cell_type": "code",
      "execution_count": 52,
      "metadata": {
        "id": "sIfJ0u0ep1cn"
      },
      "outputs": [],
      "source": [
        "import numpy as np\n",
        "import matplotlib as mpl\n",
        "import matplotlib.pyplot as plt\n",
        "from matplotlib.gridspec import GridSpec\n",
        "%matplotlib inline\n",
        "import seaborn as sns\n",
        "from matplotlib import cm\n",
        "plt.style.use('ggplot')\n",
        "cmap = cm.get_cmap('Spectral')\n",
        "\n",
        "import pandas as pd\n",
        "from pandas.api.types import is_numeric_dtype\n",
        "\n",
        "import warnings\n",
        "warnings.filterwarnings('ignore')\n",
        "\n",
        "import scipy\n",
        "from scipy import stats\n",
        "from scipy.stats import chi2_contingency, entropy"
      ]
    },
    {
      "cell_type": "markdown",
      "source": [
        "### Import and explore the data\n",
        "File name: `merged_data.csv`\n",
        "\n",
        "Here we notice that the original indexes from scraped data are not useful anymore, so we should drop them. Without dropping those columns, our data later on wil have noise in calculating correlation as well as numerical attributes analysis."
      ],
      "metadata": {
        "id": "8rMCA0iYEa7s"
      }
    },
    {
      "cell_type": "code",
      "execution_count": 53,
      "metadata": {
        "colab": {
          "base_uri": "https://localhost:8080/",
          "height": 426
        },
        "id": "r3IVJYhbqL45",
        "outputId": "bf320f1c-6aaa-4a38-cbfe-3a9530a9376c"
      },
      "outputs": [
        {
          "output_type": "execute_result",
          "data": {
            "text/html": [
              "\n",
              "  <div id=\"df-f4be0e4d-16db-47e0-9b81-1963809ff48a\">\n",
              "    <div class=\"colab-df-container\">\n",
              "      <div>\n",
              "<style scoped>\n",
              "    .dataframe tbody tr th:only-of-type {\n",
              "        vertical-align: middle;\n",
              "    }\n",
              "\n",
              "    .dataframe tbody tr th {\n",
              "        vertical-align: top;\n",
              "    }\n",
              "\n",
              "    .dataframe thead th {\n",
              "        text-align: right;\n",
              "    }\n",
              "</style>\n",
              "<table border=\"1\" class=\"dataframe\">\n",
              "  <thead>\n",
              "    <tr style=\"text-align: right;\">\n",
              "      <th></th>\n",
              "      <th>GPU</th>\n",
              "      <th>Comment_count</th>\n",
              "      <th>Price</th>\n",
              "      <th>Rating</th>\n",
              "      <th>Rating_count</th>\n",
              "      <th>Brand</th>\n",
              "      <th>cpu_brand</th>\n",
              "      <th>cpu_code</th>\n",
              "      <th>ram_size</th>\n",
              "      <th>storage_size</th>\n",
              "      <th>displ_size</th>\n",
              "      <th>displ_rate</th>\n",
              "      <th>Battery</th>\n",
              "      <th>OS</th>\n",
              "      <th>displ_resolution</th>\n",
              "      <th>hdmi</th>\n",
              "      <th>Release_year</th>\n",
              "      <th>Surface</th>\n",
              "      <th>Weight</th>\n",
              "      <th>backlit_keyboard</th>\n",
              "      <th>lan</th>\n",
              "      <th>length</th>\n",
              "      <th>ram_upgradable</th>\n",
              "      <th>screen_technology</th>\n",
              "      <th>sd_card</th>\n",
              "      <th>storage_extra_slot</th>\n",
              "      <th>storage_type</th>\n",
              "      <th>headphone_jack</th>\n",
              "      <th>thickness</th>\n",
              "      <th>type_c</th>\n",
              "      <th>usb_a</th>\n",
              "      <th>width</th>\n",
              "      <th>Availabe_in</th>\n",
              "      <th>GPU_brand</th>\n",
              "    </tr>\n",
              "  </thead>\n",
              "  <tbody>\n",
              "    <tr>\n",
              "      <th>0</th>\n",
              "      <td>nvidia geforce rtx 3050 ti</td>\n",
              "      <td>906.0</td>\n",
              "      <td>2.862633e+07</td>\n",
              "      <td>NaN</td>\n",
              "      <td>0.0</td>\n",
              "      <td>acer</td>\n",
              "      <td>intel</td>\n",
              "      <td>11800h</td>\n",
              "      <td>8.0</td>\n",
              "      <td>512.0</td>\n",
              "      <td>15.6</td>\n",
              "      <td>144.0</td>\n",
              "      <td>57.0</td>\n",
              "      <td>windows 10</td>\n",
              "      <td>1920 x 1080</td>\n",
              "      <td>yes</td>\n",
              "      <td>2021.0</td>\n",
              "      <td>plastic</td>\n",
              "      <td>2.20</td>\n",
              "      <td>yes</td>\n",
              "      <td>yes</td>\n",
              "      <td>363.40</td>\n",
              "      <td>yes</td>\n",
              "      <td>ips</td>\n",
              "      <td>no</td>\n",
              "      <td>yes</td>\n",
              "      <td>ssd</td>\n",
              "      <td>yes</td>\n",
              "      <td>23.9</td>\n",
              "      <td>yes</td>\n",
              "      <td>yes</td>\n",
              "      <td>255.00</td>\n",
              "      <td>3</td>\n",
              "      <td>nvidia</td>\n",
              "    </tr>\n",
              "    <tr>\n",
              "      <th>1</th>\n",
              "      <td>nvidia geforce mx450</td>\n",
              "      <td>400.0</td>\n",
              "      <td>2.125967e+07</td>\n",
              "      <td>NaN</td>\n",
              "      <td>0.0</td>\n",
              "      <td>msi</td>\n",
              "      <td>intel</td>\n",
              "      <td>1155g7</td>\n",
              "      <td>8.0</td>\n",
              "      <td>512.0</td>\n",
              "      <td>14.0</td>\n",
              "      <td>60.0</td>\n",
              "      <td>39.0</td>\n",
              "      <td>windows 10</td>\n",
              "      <td>1920 x 1080</td>\n",
              "      <td>yes</td>\n",
              "      <td>2021.0</td>\n",
              "      <td>metal</td>\n",
              "      <td>1.30</td>\n",
              "      <td>yes</td>\n",
              "      <td>no</td>\n",
              "      <td>319.00</td>\n",
              "      <td>yes</td>\n",
              "      <td>ips</td>\n",
              "      <td>yes</td>\n",
              "      <td>no</td>\n",
              "      <td>ssd</td>\n",
              "      <td>yes</td>\n",
              "      <td>16.9</td>\n",
              "      <td>yes</td>\n",
              "      <td>yes</td>\n",
              "      <td>219.00</td>\n",
              "      <td>3</td>\n",
              "      <td>nvidia</td>\n",
              "    </tr>\n",
              "    <tr>\n",
              "      <th>2</th>\n",
              "      <td>intel uhd graphics</td>\n",
              "      <td>322.0</td>\n",
              "      <td>1.529450e+07</td>\n",
              "      <td>3.7</td>\n",
              "      <td>18.0</td>\n",
              "      <td>dell</td>\n",
              "      <td>intel</td>\n",
              "      <td>1115g4</td>\n",
              "      <td>4.0</td>\n",
              "      <td>256.0</td>\n",
              "      <td>15.6</td>\n",
              "      <td>60.0</td>\n",
              "      <td>41.0</td>\n",
              "      <td>windows 10</td>\n",
              "      <td>1920 x 1080</td>\n",
              "      <td>yes</td>\n",
              "      <td>2021.0</td>\n",
              "      <td>plastic</td>\n",
              "      <td>1.70</td>\n",
              "      <td>no</td>\n",
              "      <td>no</td>\n",
              "      <td>358.50</td>\n",
              "      <td>yes</td>\n",
              "      <td>va</td>\n",
              "      <td>yes</td>\n",
              "      <td>yes</td>\n",
              "      <td>ssd</td>\n",
              "      <td>yes</td>\n",
              "      <td>18.9</td>\n",
              "      <td>no</td>\n",
              "      <td>yes</td>\n",
              "      <td>235.50</td>\n",
              "      <td>2</td>\n",
              "      <td>intel</td>\n",
              "    </tr>\n",
              "    <tr>\n",
              "      <th>3</th>\n",
              "      <td>intel uhd graphics</td>\n",
              "      <td>378.0</td>\n",
              "      <td>1.499900e+07</td>\n",
              "      <td>5.0</td>\n",
              "      <td>4.0</td>\n",
              "      <td>lenovo</td>\n",
              "      <td>intel</td>\n",
              "      <td>1115g4</td>\n",
              "      <td>8.0</td>\n",
              "      <td>512.0</td>\n",
              "      <td>15.6</td>\n",
              "      <td>60.0</td>\n",
              "      <td>NaN</td>\n",
              "      <td>windows 10</td>\n",
              "      <td>1920 x 1080</td>\n",
              "      <td>yes</td>\n",
              "      <td>2021.0</td>\n",
              "      <td>plastic</td>\n",
              "      <td>1.65</td>\n",
              "      <td>yes</td>\n",
              "      <td>yes</td>\n",
              "      <td>359.00</td>\n",
              "      <td>yes</td>\n",
              "      <td>led</td>\n",
              "      <td>yes</td>\n",
              "      <td>yes</td>\n",
              "      <td>ssd</td>\n",
              "      <td>yes</td>\n",
              "      <td>19.9</td>\n",
              "      <td>yes</td>\n",
              "      <td>yes</td>\n",
              "      <td>237.70</td>\n",
              "      <td>1</td>\n",
              "      <td>intel</td>\n",
              "    </tr>\n",
              "    <tr>\n",
              "      <th>4</th>\n",
              "      <td>intel iris xe graphics</td>\n",
              "      <td>1244.0</td>\n",
              "      <td>1.879900e+07</td>\n",
              "      <td>5.0</td>\n",
              "      <td>5.0</td>\n",
              "      <td>lenovo</td>\n",
              "      <td>intel</td>\n",
              "      <td>1135g7</td>\n",
              "      <td>16.0</td>\n",
              "      <td>512.0</td>\n",
              "      <td>15.6</td>\n",
              "      <td>60.0</td>\n",
              "      <td>45.0</td>\n",
              "      <td>windows 10</td>\n",
              "      <td>1920 x 1080</td>\n",
              "      <td>yes</td>\n",
              "      <td>2021.0</td>\n",
              "      <td>metal, plastic</td>\n",
              "      <td>1.66</td>\n",
              "      <td>yes</td>\n",
              "      <td>yes</td>\n",
              "      <td>356.67</td>\n",
              "      <td>yes</td>\n",
              "      <td>ips</td>\n",
              "      <td>yes</td>\n",
              "      <td>yes</td>\n",
              "      <td>ssd</td>\n",
              "      <td>yes</td>\n",
              "      <td>17.9</td>\n",
              "      <td>yes</td>\n",
              "      <td>yes</td>\n",
              "      <td>233.13</td>\n",
              "      <td>1</td>\n",
              "      <td>intel</td>\n",
              "    </tr>\n",
              "  </tbody>\n",
              "</table>\n",
              "</div>\n",
              "      <button class=\"colab-df-convert\" onclick=\"convertToInteractive('df-f4be0e4d-16db-47e0-9b81-1963809ff48a')\"\n",
              "              title=\"Convert this dataframe to an interactive table.\"\n",
              "              style=\"display:none;\">\n",
              "        \n",
              "  <svg xmlns=\"http://www.w3.org/2000/svg\" height=\"24px\"viewBox=\"0 0 24 24\"\n",
              "       width=\"24px\">\n",
              "    <path d=\"M0 0h24v24H0V0z\" fill=\"none\"/>\n",
              "    <path d=\"M18.56 5.44l.94 2.06.94-2.06 2.06-.94-2.06-.94-.94-2.06-.94 2.06-2.06.94zm-11 1L8.5 8.5l.94-2.06 2.06-.94-2.06-.94L8.5 2.5l-.94 2.06-2.06.94zm10 10l.94 2.06.94-2.06 2.06-.94-2.06-.94-.94-2.06-.94 2.06-2.06.94z\"/><path d=\"M17.41 7.96l-1.37-1.37c-.4-.4-.92-.59-1.43-.59-.52 0-1.04.2-1.43.59L10.3 9.45l-7.72 7.72c-.78.78-.78 2.05 0 2.83L4 21.41c.39.39.9.59 1.41.59.51 0 1.02-.2 1.41-.59l7.78-7.78 2.81-2.81c.8-.78.8-2.07 0-2.86zM5.41 20L4 18.59l7.72-7.72 1.47 1.35L5.41 20z\"/>\n",
              "  </svg>\n",
              "      </button>\n",
              "      \n",
              "  <style>\n",
              "    .colab-df-container {\n",
              "      display:flex;\n",
              "      flex-wrap:wrap;\n",
              "      gap: 12px;\n",
              "    }\n",
              "\n",
              "    .colab-df-convert {\n",
              "      background-color: #E8F0FE;\n",
              "      border: none;\n",
              "      border-radius: 50%;\n",
              "      cursor: pointer;\n",
              "      display: none;\n",
              "      fill: #1967D2;\n",
              "      height: 32px;\n",
              "      padding: 0 0 0 0;\n",
              "      width: 32px;\n",
              "    }\n",
              "\n",
              "    .colab-df-convert:hover {\n",
              "      background-color: #E2EBFA;\n",
              "      box-shadow: 0px 1px 2px rgba(60, 64, 67, 0.3), 0px 1px 3px 1px rgba(60, 64, 67, 0.15);\n",
              "      fill: #174EA6;\n",
              "    }\n",
              "\n",
              "    [theme=dark] .colab-df-convert {\n",
              "      background-color: #3B4455;\n",
              "      fill: #D2E3FC;\n",
              "    }\n",
              "\n",
              "    [theme=dark] .colab-df-convert:hover {\n",
              "      background-color: #434B5C;\n",
              "      box-shadow: 0px 1px 3px 1px rgba(0, 0, 0, 0.15);\n",
              "      filter: drop-shadow(0px 1px 2px rgba(0, 0, 0, 0.3));\n",
              "      fill: #FFFFFF;\n",
              "    }\n",
              "  </style>\n",
              "\n",
              "      <script>\n",
              "        const buttonEl =\n",
              "          document.querySelector('#df-f4be0e4d-16db-47e0-9b81-1963809ff48a button.colab-df-convert');\n",
              "        buttonEl.style.display =\n",
              "          google.colab.kernel.accessAllowed ? 'block' : 'none';\n",
              "\n",
              "        async function convertToInteractive(key) {\n",
              "          const element = document.querySelector('#df-f4be0e4d-16db-47e0-9b81-1963809ff48a');\n",
              "          const dataTable =\n",
              "            await google.colab.kernel.invokeFunction('convertToInteractive',\n",
              "                                                     [key], {});\n",
              "          if (!dataTable) return;\n",
              "\n",
              "          const docLinkHtml = 'Like what you see? Visit the ' +\n",
              "            '<a target=\"_blank\" href=https://colab.research.google.com/notebooks/data_table.ipynb>data table notebook</a>'\n",
              "            + ' to learn more about interactive tables.';\n",
              "          element.innerHTML = '';\n",
              "          dataTable['output_type'] = 'display_data';\n",
              "          await google.colab.output.renderOutput(dataTable, element);\n",
              "          const docLink = document.createElement('div');\n",
              "          docLink.innerHTML = docLinkHtml;\n",
              "          element.appendChild(docLink);\n",
              "        }\n",
              "      </script>\n",
              "    </div>\n",
              "  </div>\n",
              "  "
            ],
            "text/plain": [
              "                          GPU  Comment_count  ...  Availabe_in  GPU_brand\n",
              "0  nvidia geforce rtx 3050 ti          906.0  ...            3     nvidia\n",
              "1        nvidia geforce mx450          400.0  ...            3     nvidia\n",
              "2          intel uhd graphics          322.0  ...            2      intel\n",
              "3          intel uhd graphics          378.0  ...            1      intel\n",
              "4      intel iris xe graphics         1244.0  ...            1      intel\n",
              "\n",
              "[5 rows x 34 columns]"
            ]
          },
          "metadata": {},
          "execution_count": 53
        }
      ],
      "source": [
        "source_data = pd.read_csv('./Laptop-EDA/merged_data.csv')\n",
        "to_drop = ['Index_fpt','Index_cellphones','Index_tgdd','Unnamed: 0','P/N','Series']\n",
        "main_data = source_data.drop(to_drop, axis = 1)\n",
        "main_data.head()"
      ]
    },
    {
      "cell_type": "code",
      "execution_count": 54,
      "metadata": {
        "colab": {
          "base_uri": "https://localhost:8080/"
        },
        "id": "hAcUzM1-In5B",
        "outputId": "5137948f-9b0a-4101-e859-834a14d9e998"
      },
      "outputs": [
        {
          "output_type": "stream",
          "name": "stdout",
          "text": [
            "(552, 34)\n",
            "<class 'pandas.core.frame.DataFrame'>\n",
            "RangeIndex: 552 entries, 0 to 551\n",
            "Data columns (total 34 columns):\n",
            " #   Column              Non-Null Count  Dtype  \n",
            "---  ------              --------------  -----  \n",
            " 0   GPU                 548 non-null    object \n",
            " 1   Comment_count       552 non-null    float64\n",
            " 2   Price               496 non-null    float64\n",
            " 3   Rating              168 non-null    float64\n",
            " 4   Rating_count        552 non-null    float64\n",
            " 5   Brand               552 non-null    object \n",
            " 6   cpu_brand           552 non-null    object \n",
            " 7   cpu_code            552 non-null    object \n",
            " 8   ram_size            552 non-null    float64\n",
            " 9   storage_size        552 non-null    float64\n",
            " 10  displ_size          552 non-null    float64\n",
            " 11  displ_rate          552 non-null    float64\n",
            " 12  Battery             489 non-null    float64\n",
            " 13  OS                  548 non-null    object \n",
            " 14  displ_resolution    545 non-null    object \n",
            " 15  hdmi                548 non-null    object \n",
            " 16  Release_year        286 non-null    float64\n",
            " 17  Surface             371 non-null    object \n",
            " 18  Weight              548 non-null    float64\n",
            " 19  backlit_keyboard    423 non-null    object \n",
            " 20  lan                 548 non-null    object \n",
            " 21  length              528 non-null    float64\n",
            " 22  ram_upgradable      493 non-null    object \n",
            " 23  screen_technology   451 non-null    object \n",
            " 24  sd_card             549 non-null    object \n",
            " 25  storage_extra_slot  325 non-null    object \n",
            " 26  storage_type        545 non-null    object \n",
            " 27  headphone_jack      548 non-null    object \n",
            " 28  thickness           527 non-null    float64\n",
            " 29  type_c              548 non-null    object \n",
            " 30  usb_a               548 non-null    object \n",
            " 31  width               527 non-null    float64\n",
            " 32  Availabe_in         552 non-null    int64  \n",
            " 33  GPU_brand           548 non-null    object \n",
            "dtypes: float64(14), int64(1), object(19)\n",
            "memory usage: 146.8+ KB\n",
            "None\n"
          ]
        }
      ],
      "source": [
        "print(main_data.shape)\n",
        "print(main_data.info())"
      ]
    },
    {
      "cell_type": "markdown",
      "source": [
        "This dataset contains 552 rows and 34 columns.\n",
        "\n",
        "Here, I will explain the meaning of each columns:\n",
        "\n",
        "+ The most important attributes to follow along is `Comment_count` (total number of comments on each product, summarized from all 3 sources), `Rating` (Rating score on scale 5 for each laptop) and the last one is `Rating_count` (number of feedback given on each laptop).\n",
        "  + `Comment_count` represents the crowd attention or popularity of a product.\n",
        "  + `Rating` and `Rating_count` represent how good or bad the product is, or how satisfactory customer feels with that product. \n",
        "+ `Price`: the sale price of each laptop in Vietnamese currency (VND)\n",
        "+ `Brand` and `Series`: Name of laptop's brand and its particular model name \n",
        "+ `cpu_brand` and `cpu_code`: Name of CPU's manufacturer and the CPU model number\n",
        "- Ram specs (2 variables)\n",
        "    - `ram_size` (GB)\n",
        "    - `ram_upgradable`: has extra slot to expand ram capacity or not\n",
        "- Storage specs (3 variables)\n",
        "    - `storage_size`: storage capacity of laptop's hard drive (GB)\n",
        "    - `storage_type`: hard drive type (SSD, HDD, eMMC)\n",
        "    - `storage_extra_slot`: has extra slot to expand storage capacity or not\n",
        "- Display specs (4 variables)\n",
        "    - `displ_size`: display size (inch)\n",
        "    - `displ_resolution`: display resolution (1920 x 1080, 2560 x 1600,...)\n",
        "    - `displ_rate`: display refresh rate (Hz)\n",
        "    - `screen_technology`: panel type (IPS, VA, OLED,..)\n",
        "- Size and Weight of the product (4 variables)\n",
        "    - `Weight` (kg)\n",
        "    - `length`, `width`, `thickness` (mm)\t\t\n",
        "- `GPU`: main graphics card (integrated or discrete)\n",
        "- `Battery`: battery capacity (Wh)\n",
        "- `OS`: Operating system pre-installed on the device\n",
        "- `Surface`: Material of the case (plastic, aluminum, carbon,...)\n",
        "- `Release_year`: Release year of the laptop\n",
        "<!-- + For more precise look and better insights, we will need to examine some other attributes ralated to the technological details of our products such as: -->\n",
        "- Ports and special features (7 variables)\n",
        "    - `hdmi`: has hdmi socket or not\n",
        "    - `headphone_jack`: has 3.5mm headphone plug or not\n",
        "    - `lan`: has ethernet lan port or not\n",
        "    - `type_c`: has USB Type-C socket or not\n",
        "    - `usb_a`: has USB socket or not\n",
        "    - `sd_card`: has sd card socket or not \n",
        "    - `backlit_keyboard`: whether the keyboard have backlight under the keys or not"
      ],
      "metadata": {
        "id": "QhzybX-Wg4Th"
      }
    },
    {
      "cell_type": "markdown",
      "source": [
        "### Normalize `Rating_count` and `Comment_count`"
      ],
      "metadata": {
        "id": "3GxlN3yMFA6p"
      }
    },
    {
      "cell_type": "code",
      "source": [
        "main_data['Comment_count'] = main_data['Comment_count']/main_data['Availabe_in']\n",
        "main_data['Rating_count'] = main_data['Rating_count']/main_data['Availabe_in']\n",
        "main_data = main_data.drop('Availabe_in',axis=1)"
      ],
      "metadata": {
        "id": "bKeWk7IhU_Fd"
      },
      "execution_count": 55,
      "outputs": []
    },
    {
      "cell_type": "markdown",
      "source": [
        "### Identify cagetorical and numeric variables"
      ],
      "metadata": {
        "id": "Es6Y5Mu1Epos"
      }
    },
    {
      "cell_type": "code",
      "source": [
        "def add_number(ax,orient='h'):\n",
        "    if orient == 'h':\n",
        "        for p in ax.patches:\n",
        "            # plt.text(x = , y = p.get_y() + 0.55 * p.get_height(), s = f'{int(p.get_width())}')\n",
        "            ax.annotate(f\"{float(p.get_width()):.1f}\",\n",
        "                            xy = (p.get_width(), p.get_y() + 0.5*p.get_height()), \n",
        "                             va = 'center', \n",
        "                            xytext = (5, 0), \n",
        "                            textcoords = 'offset points')\n",
        "    elif orient == 'v':\n",
        "        for p in ax.patches:\n",
        "            ax.annotate(f\"{float(p.get_height()):.1f}\", \n",
        "                            xy = (p.get_x() + p.get_width() /2, p.get_height()), \n",
        "                            ha = 'center', va = 'center', \n",
        "                            xytext = (0, 8), \n",
        "                            textcoords = 'offset points')"
      ],
      "metadata": {
        "id": "oF2hozgx7aWw"
      },
      "execution_count": 56,
      "outputs": []
    },
    {
      "cell_type": "code",
      "source": [
        "numeric_attributes = main_data[[c for c in main_data.columns \n",
        "                                # if main_data[c].value_counts().count() > 20\n",
        "                                if is_numeric_dtype(main_data[c])]]\n",
        "categorical_attributes = main_data[[c for c in main_data.columns if c not in numeric_attributes.columns]]"
      ],
      "metadata": {
        "id": "LSD1EI86FJ-k"
      },
      "execution_count": 57,
      "outputs": []
    },
    {
      "cell_type": "code",
      "execution_count": 58,
      "metadata": {
        "colab": {
          "base_uri": "https://localhost:8080/",
          "height": 618
        },
        "id": "FBQ8ZEl3vMn0",
        "outputId": "bddeb558-8bb3-4158-ee96-264045535e96"
      },
      "outputs": [
        {
          "output_type": "display_data",
          "data": {
            "image/png": "[encoded data removed]",
            "text/plain": [
              "<Figure size 864x576 with 3 Axes>"
            ]
          },
          "metadata": {}
        },
        {
          "output_type": "display_data",
          "data": {
            "text/plain": [
              "<Figure size 360x432 with 0 Axes>"
            ]
          },
          "metadata": {}
        }
      ],
      "source": [
        "fig = plt.figure(constrained_layout=True,figsize=(12,8))\n",
        "gs = fig.add_gridspec(3, 2)\n",
        "ax0 = fig.add_subplot(gs[0:2,0])\n",
        "ax1 = fig.add_subplot(gs[0:2,1])\n",
        "ax2 = fig.add_subplot(gs[2,:])\n",
        "\n",
        "numeric_unique = numeric_attributes.nunique().sort_values(ascending=False)\n",
        "sns.barplot(y=numeric_unique.index,x=numeric_unique.values,ax=ax0)\n",
        "ax0.set_title('Numerical attributes')\n",
        "ax0.set_xlabel('Number of unique values')\n",
        "add_number(ax0)\n",
        "\n",
        "cate_unique = categorical_attributes.nunique().sort_values(ascending=False)\n",
        "sns.barplot(y=cate_unique.index,x=cate_unique.values,ax=ax1)\n",
        "ax1.set_title('Categorical attributes')\n",
        "ax1.set_xlabel('Number of unique values')\n",
        "add_number(ax1)\n",
        "\n",
        "fig = plt.figure(figsize=(5,6))\n",
        "y = [len(categorical_attributes.columns), len(numeric_attributes.columns)]\n",
        "sns.barplot(y=['Categorical', 'Numerical'],x= y,ax=ax2)\n",
        "ax2.set_title('Numerical and Categorical Att Count')\n",
        "ax1.set_xlabel('Number of columns')\n",
        "add_number(ax2)\n"
      ]
    },
    {
      "cell_type": "markdown",
      "source": [
        "### Fill null\n",
        "After checking the information of the remaining data, there are a lot of columns that still have null value. To handle this, we might choose either to drop all the missing row or to fill in the null values with appropriate value. \n",
        "\n",
        "Since our data is quite small in size, dropping all rows with null value is wasting information so filling in the missing value should be considered. For numerical attributes, we fill null by the mean of that columns. For categorical attributes, we simply replace null with \"NaN\""
      ],
      "metadata": {
        "id": "rLQ0y391Ezri"
      }
    },
    {
      "cell_type": "code",
      "source": [
        "null_list = [[c,main_data[c].isnull().sum(axis=0)/len(main_data)*100] for c in main_data.columns \n",
        "             if main_data[c].isnull().sum(axis=0) != 0]\n",
        "df_null = pd.DataFrame.from_records(null_list, columns=['col','missing_percent'])\n",
        "df_null = df_null.sort_values('missing_percent',axis=0, ascending = False)\n",
        "df_null['type'] = np.where(df_null.col.str.contains('|'.join(categorical_attributes.columns)), 'categorical','numerical')\n",
        "# print(df_null)\n",
        "\n",
        "plt.figure(figsize=(12,6))\n",
        "ax = sns.barplot(data=df_null, y='col', x='missing_percent', hue='type')\n",
        "add_number(ax,orient='h')\n",
        "# plt.xticks(rotation = 45,ha='right')\n",
        "plt.title('Columns with missing data')\n",
        "plt.xlabel('Percentage (%)')\n",
        "plt.ylabel('Columns')"
      ],
      "metadata": {
        "colab": {
          "base_uri": "https://localhost:8080/",
          "height": 425
        },
        "id": "1nKXlR_Q6Nz_",
        "outputId": "d2c45b64-e07b-4364-f149-8d1dc3d0ea70"
      },
      "execution_count": 59,
      "outputs": [
        {
          "output_type": "execute_result",
          "data": {
            "text/plain": [
              "Text(0, 0.5, 'Columns')"
            ]
          },
          "metadata": {},
          "execution_count": 59
        },
        {
          "output_type": "display_data",
          "data": {
            "image/png": "[encoded data removed]",
            "text/plain": [
              "<Figure size 864x432 with 1 Axes>"
            ]
          },
          "metadata": {}
        }
      ]
    },
    {
      "cell_type": "code",
      "execution_count": 60,
      "metadata": {
        "id": "kb5TCkao6iRe"
      },
      "outputs": [],
      "source": [
        "# for att in numeric_attributes.columns:\n",
        "#     main_data[att].fillna(main_data[att].mean(), inplace = True)\n",
        "for att in categorical_attributes.columns:\n",
        "    main_data[att].fillna('NaN', inplace = True)"
      ]
    },
    {
      "cell_type": "code",
      "source": [
        "def text_facet(col, df=main_data, print_all=True,ascending=False):\n",
        "    if print_all:\n",
        "        with pd.option_context('display.max_rows', 1000, 'display.max_columns', None):\n",
        "            print(f\"---------- {col} ------------\")\n",
        "            print(df[col].value_counts(dropna=False,ascending=ascending))\n",
        "    else:\n",
        "        print(f\"---------- {col} ------------\")\n",
        "        print(df[col].value_counts(dropna=False,ascending=ascending))\n",
        "        print(f\"Number of null: {df[col].isna().sum()}\")\n",
        "\n",
        "text_facet('Battery')"
      ],
      "metadata": {
        "colab": {
          "base_uri": "https://localhost:8080/"
        },
        "id": "JW0vWwlyu_XD",
        "outputId": "d2c41c90-db15-43fa-c89e-a6d27a6f0287"
      },
      "execution_count": 61,
      "outputs": [
        {
          "output_type": "stream",
          "name": "stdout",
          "text": [
            "---------- Battery ------------\n",
            "NaN      63\n",
            "41.0     58\n",
            "42.0     49\n",
            "45.0     32\n",
            "48.0     29\n",
            "65.0     23\n",
            "90.0     23\n",
            "37.0     21\n",
            "56.0     18\n",
            "76.0     15\n",
            "50.0     13\n",
            "80.0     13\n",
            "52.0     12\n",
            "67.0     12\n",
            "60.0     12\n",
            "57.0     12\n",
            "39.0     10\n",
            "51.0     10\n",
            "54.0      9\n",
            "40.0      8\n",
            "58.0      7\n",
            "38.0      6\n",
            "66.0      6\n",
            "53.0      6\n",
            "70.0      5\n",
            "59.0      5\n",
            "36.0      5\n",
            "57.5      5\n",
            "68.0      4\n",
            "82.0      4\n",
            "150.0     4\n",
            "63.0      4\n",
            "35.0      4\n",
            "99.0      4\n",
            "43.0      4\n",
            "99.9      3\n",
            "72.0      3\n",
            "200.0     3\n",
            "120.0     2\n",
            "240.0     2\n",
            "100.0     2\n",
            "180.0     2\n",
            "60.7      2\n",
            "32.0      2\n",
            "62.0      2\n",
            "33.0      1\n",
            "49.0      1\n",
            "52.5      1\n",
            "30.0      1\n",
            "170.0     1\n",
            "53.5      1\n",
            "75.0      1\n",
            "44.5      1\n",
            "64.0      1\n",
            "56.5      1\n",
            "47.0      1\n",
            "71.0      1\n",
            "70.9      1\n",
            "36.7      1\n",
            "Name: Battery, dtype: int64\n"
          ]
        }
      ]
    },
    {
      "cell_type": "markdown",
      "source": [
        "### Detect outliers\n",
        "In this part, we will use Z-score function defined in scipy library to detect the outliers. The threshold for detection is 3"
      ],
      "metadata": {
        "id": "_ThLVGZ_E7_8"
      }
    },
    {
      "cell_type": "code",
      "source": [
        "col_to_detect = ['Weight','length','thickness','width']\n",
        "df_to_detect = numeric_attributes[col_to_detect].dropna()\n",
        "# with pd.option_context('display.max_rows', 1000, 'display.max_columns', None):\n",
        "df_to_detect[(np.abs(stats.zscore(df_to_detect)) > 3)].append(df_to_detect[df_to_detect.Weight == 0]).join(source_data[['Series','Index_fpt','Index_tgdd','Index_cellphones']])"
      ],
      "metadata": {
        "id": "2bdOEGEbWGNP",
        "colab": {
          "base_uri": "https://localhost:8080/",
          "height": 1000
        },
        "outputId": "70d41e1a-9d62-44d2-8419-45a959b2c462"
      },
      "execution_count": 62,
      "outputs": [
        {
          "output_type": "execute_result",
          "data": {
            "text/html": [
              "\n",
              "  <div id=\"df-8ae52ceb-eafd-4161-b8b8-abf400112ac8\">\n",
              "    <div class=\"colab-df-container\">\n",
              "      <div>\n",
              "<style scoped>\n",
              "    .dataframe tbody tr th:only-of-type {\n",
              "        vertical-align: middle;\n",
              "    }\n",
              "\n",
              "    .dataframe tbody tr th {\n",
              "        vertical-align: top;\n",
              "    }\n",
              "\n",
              "    .dataframe thead th {\n",
              "        text-align: right;\n",
              "    }\n",
              "</style>\n",
              "<table border=\"1\" class=\"dataframe\">\n",
              "  <thead>\n",
              "    <tr style=\"text-align: right;\">\n",
              "      <th></th>\n",
              "      <th>Weight</th>\n",
              "      <th>length</th>\n",
              "      <th>thickness</th>\n",
              "      <th>width</th>\n",
              "      <th>Series</th>\n",
              "      <th>Index_fpt</th>\n",
              "      <th>Index_tgdd</th>\n",
              "      <th>Index_cellphones</th>\n",
              "    </tr>\n",
              "  </thead>\n",
              "  <tbody>\n",
              "    <tr>\n",
              "      <th>153</th>\n",
              "      <td>0.775</td>\n",
              "      <td>201.0</td>\n",
              "      <td>292.0</td>\n",
              "      <td>8.5</td>\n",
              "      <td>surface pro 7 core 2019</td>\n",
              "      <td>75.0</td>\n",
              "      <td>NaN</td>\n",
              "      <td>https://cellphones.com.vn/surface-laptop-pro-7...</td>\n",
              "    </tr>\n",
              "    <tr>\n",
              "      <th>153</th>\n",
              "      <td>0.775</td>\n",
              "      <td>201.0</td>\n",
              "      <td>292.0</td>\n",
              "      <td>8.5</td>\n",
              "      <td>surface pro 7 core 2019</td>\n",
              "      <td>75.0</td>\n",
              "      <td>NaN</td>\n",
              "      <td>https://cellphones.com.vn/surface-laptop-pro-7...</td>\n",
              "    </tr>\n",
              "    <tr>\n",
              "      <th>153</th>\n",
              "      <td>0.775</td>\n",
              "      <td>201.0</td>\n",
              "      <td>292.0</td>\n",
              "      <td>8.5</td>\n",
              "      <td>surface pro 7 core 2019</td>\n",
              "      <td>75.0</td>\n",
              "      <td>NaN</td>\n",
              "      <td>https://cellphones.com.vn/surface-laptop-pro-7...</td>\n",
              "    </tr>\n",
              "    <tr>\n",
              "      <th>158</th>\n",
              "      <td>0.775</td>\n",
              "      <td>201.0</td>\n",
              "      <td>292.0</td>\n",
              "      <td>8.5</td>\n",
              "      <td>surface pro 7 2019</td>\n",
              "      <td>93.0</td>\n",
              "      <td>NaN</td>\n",
              "      <td>https://cellphones.com.vn/surface-laptop-pro-7...</td>\n",
              "    </tr>\n",
              "    <tr>\n",
              "      <th>158</th>\n",
              "      <td>0.775</td>\n",
              "      <td>201.0</td>\n",
              "      <td>292.0</td>\n",
              "      <td>8.5</td>\n",
              "      <td>surface pro 7 2019</td>\n",
              "      <td>93.0</td>\n",
              "      <td>NaN</td>\n",
              "      <td>https://cellphones.com.vn/surface-laptop-pro-7...</td>\n",
              "    </tr>\n",
              "    <tr>\n",
              "      <th>158</th>\n",
              "      <td>0.775</td>\n",
              "      <td>201.0</td>\n",
              "      <td>292.0</td>\n",
              "      <td>8.5</td>\n",
              "      <td>surface pro 7 2019</td>\n",
              "      <td>93.0</td>\n",
              "      <td>NaN</td>\n",
              "      <td>https://cellphones.com.vn/surface-laptop-pro-7...</td>\n",
              "    </tr>\n",
              "    <tr>\n",
              "      <th>159</th>\n",
              "      <td>0.775</td>\n",
              "      <td>201.0</td>\n",
              "      <td>292.0</td>\n",
              "      <td>8.5</td>\n",
              "      <td>surface pro 7 2019</td>\n",
              "      <td>106.0</td>\n",
              "      <td>NaN</td>\n",
              "      <td>https://cellphones.com.vn/surface-laptop-pro-7...</td>\n",
              "    </tr>\n",
              "    <tr>\n",
              "      <th>159</th>\n",
              "      <td>0.775</td>\n",
              "      <td>201.0</td>\n",
              "      <td>292.0</td>\n",
              "      <td>8.5</td>\n",
              "      <td>surface pro 7 2019</td>\n",
              "      <td>106.0</td>\n",
              "      <td>NaN</td>\n",
              "      <td>https://cellphones.com.vn/surface-laptop-pro-7...</td>\n",
              "    </tr>\n",
              "    <tr>\n",
              "      <th>159</th>\n",
              "      <td>0.775</td>\n",
              "      <td>201.0</td>\n",
              "      <td>292.0</td>\n",
              "      <td>8.5</td>\n",
              "      <td>surface pro 7 2019</td>\n",
              "      <td>106.0</td>\n",
              "      <td>NaN</td>\n",
              "      <td>https://cellphones.com.vn/surface-laptop-pro-7...</td>\n",
              "    </tr>\n",
              "    <tr>\n",
              "      <th>162</th>\n",
              "      <td>1.810</td>\n",
              "      <td>361.4</td>\n",
              "      <td>199.0</td>\n",
              "      <td>249.0</td>\n",
              "      <td>vostro v3500 7g3982</td>\n",
              "      <td>114.0</td>\n",
              "      <td>NaN</td>\n",
              "      <td>https://cellphones.com.vn/laptop-dell-vostro-1...</td>\n",
              "    </tr>\n",
              "    <tr>\n",
              "      <th>171</th>\n",
              "      <td>1.410</td>\n",
              "      <td>383.0</td>\n",
              "      <td>305.0</td>\n",
              "      <td>69.0</td>\n",
              "      <td>pavilion 14 dv0042tu 2h3l1pa</td>\n",
              "      <td>139.0</td>\n",
              "      <td>NaN</td>\n",
              "      <td>https://cellphones.com.vn/laptop-hp-pavilion-1...</td>\n",
              "    </tr>\n",
              "    <tr>\n",
              "      <th>171</th>\n",
              "      <td>1.410</td>\n",
              "      <td>383.0</td>\n",
              "      <td>305.0</td>\n",
              "      <td>69.0</td>\n",
              "      <td>pavilion 14 dv0042tu 2h3l1pa</td>\n",
              "      <td>139.0</td>\n",
              "      <td>NaN</td>\n",
              "      <td>https://cellphones.com.vn/laptop-hp-pavilion-1...</td>\n",
              "    </tr>\n",
              "    <tr>\n",
              "      <th>269</th>\n",
              "      <td>4.460</td>\n",
              "      <td>547.0</td>\n",
              "      <td>11.5</td>\n",
              "      <td>461.0</td>\n",
              "      <td>imac 24 2021 m1 i</td>\n",
              "      <td>NaN</td>\n",
              "      <td>NaN</td>\n",
              "      <td>https://cellphones.com.vn/imac-2021.html</td>\n",
              "    </tr>\n",
              "    <tr>\n",
              "      <th>269</th>\n",
              "      <td>4.460</td>\n",
              "      <td>547.0</td>\n",
              "      <td>11.5</td>\n",
              "      <td>461.0</td>\n",
              "      <td>imac 24 2021 m1 i</td>\n",
              "      <td>NaN</td>\n",
              "      <td>NaN</td>\n",
              "      <td>https://cellphones.com.vn/imac-2021.html</td>\n",
              "    </tr>\n",
              "    <tr>\n",
              "      <th>269</th>\n",
              "      <td>4.460</td>\n",
              "      <td>547.0</td>\n",
              "      <td>11.5</td>\n",
              "      <td>461.0</td>\n",
              "      <td>imac 24 2021 m1 i</td>\n",
              "      <td>NaN</td>\n",
              "      <td>NaN</td>\n",
              "      <td>https://cellphones.com.vn/imac-2021.html</td>\n",
              "    </tr>\n",
              "    <tr>\n",
              "      <th>270</th>\n",
              "      <td>4.460</td>\n",
              "      <td>547.0</td>\n",
              "      <td>11.5</td>\n",
              "      <td>461.0</td>\n",
              "      <td>imac 24 2021 m1</td>\n",
              "      <td>NaN</td>\n",
              "      <td>NaN</td>\n",
              "      <td>https://cellphones.com.vn/imac-2021-16gb.html</td>\n",
              "    </tr>\n",
              "    <tr>\n",
              "      <th>270</th>\n",
              "      <td>4.460</td>\n",
              "      <td>547.0</td>\n",
              "      <td>11.5</td>\n",
              "      <td>461.0</td>\n",
              "      <td>imac 24 2021 m1</td>\n",
              "      <td>NaN</td>\n",
              "      <td>NaN</td>\n",
              "      <td>https://cellphones.com.vn/imac-2021-16gb.html</td>\n",
              "    </tr>\n",
              "    <tr>\n",
              "      <th>270</th>\n",
              "      <td>4.460</td>\n",
              "      <td>547.0</td>\n",
              "      <td>11.5</td>\n",
              "      <td>461.0</td>\n",
              "      <td>imac 24 2021 m1</td>\n",
              "      <td>NaN</td>\n",
              "      <td>NaN</td>\n",
              "      <td>https://cellphones.com.vn/imac-2021-16gb.html</td>\n",
              "    </tr>\n",
              "    <tr>\n",
              "      <th>271</th>\n",
              "      <td>4.460</td>\n",
              "      <td>547.0</td>\n",
              "      <td>11.5</td>\n",
              "      <td>461.0</td>\n",
              "      <td>imac 24 2021 m1 i</td>\n",
              "      <td>NaN</td>\n",
              "      <td>NaN</td>\n",
              "      <td>https://cellphones.com.vn/imac-2021-8gpu.html</td>\n",
              "    </tr>\n",
              "    <tr>\n",
              "      <th>271</th>\n",
              "      <td>4.460</td>\n",
              "      <td>547.0</td>\n",
              "      <td>11.5</td>\n",
              "      <td>461.0</td>\n",
              "      <td>imac 24 2021 m1 i</td>\n",
              "      <td>NaN</td>\n",
              "      <td>NaN</td>\n",
              "      <td>https://cellphones.com.vn/imac-2021-8gpu.html</td>\n",
              "    </tr>\n",
              "    <tr>\n",
              "      <th>271</th>\n",
              "      <td>4.460</td>\n",
              "      <td>547.0</td>\n",
              "      <td>11.5</td>\n",
              "      <td>461.0</td>\n",
              "      <td>imac 24 2021 m1 i</td>\n",
              "      <td>NaN</td>\n",
              "      <td>NaN</td>\n",
              "      <td>https://cellphones.com.vn/imac-2021-8gpu.html</td>\n",
              "    </tr>\n",
              "    <tr>\n",
              "      <th>272</th>\n",
              "      <td>4.460</td>\n",
              "      <td>547.0</td>\n",
              "      <td>11.5</td>\n",
              "      <td>461.0</td>\n",
              "      <td>imac 24 2021 m1 i</td>\n",
              "      <td>NaN</td>\n",
              "      <td>NaN</td>\n",
              "      <td>https://cellphones.com.vn/imac-2021-8gpu-16gb....</td>\n",
              "    </tr>\n",
              "    <tr>\n",
              "      <th>272</th>\n",
              "      <td>4.460</td>\n",
              "      <td>547.0</td>\n",
              "      <td>11.5</td>\n",
              "      <td>461.0</td>\n",
              "      <td>imac 24 2021 m1 i</td>\n",
              "      <td>NaN</td>\n",
              "      <td>NaN</td>\n",
              "      <td>https://cellphones.com.vn/imac-2021-8gpu-16gb....</td>\n",
              "    </tr>\n",
              "    <tr>\n",
              "      <th>272</th>\n",
              "      <td>4.460</td>\n",
              "      <td>547.0</td>\n",
              "      <td>11.5</td>\n",
              "      <td>461.0</td>\n",
              "      <td>imac 24 2021 m1 i</td>\n",
              "      <td>NaN</td>\n",
              "      <td>NaN</td>\n",
              "      <td>https://cellphones.com.vn/imac-2021-8gpu-16gb....</td>\n",
              "    </tr>\n",
              "    <tr>\n",
              "      <th>273</th>\n",
              "      <td>4.460</td>\n",
              "      <td>547.0</td>\n",
              "      <td>11.5</td>\n",
              "      <td>461.0</td>\n",
              "      <td>imac 24 2021 m1 i</td>\n",
              "      <td>NaN</td>\n",
              "      <td>NaN</td>\n",
              "      <td>https://cellphones.com.vn/imac-2021-8gpu-16gb-...</td>\n",
              "    </tr>\n",
              "    <tr>\n",
              "      <th>273</th>\n",
              "      <td>4.460</td>\n",
              "      <td>547.0</td>\n",
              "      <td>11.5</td>\n",
              "      <td>461.0</td>\n",
              "      <td>imac 24 2021 m1 i</td>\n",
              "      <td>NaN</td>\n",
              "      <td>NaN</td>\n",
              "      <td>https://cellphones.com.vn/imac-2021-8gpu-16gb-...</td>\n",
              "    </tr>\n",
              "    <tr>\n",
              "      <th>273</th>\n",
              "      <td>4.460</td>\n",
              "      <td>547.0</td>\n",
              "      <td>11.5</td>\n",
              "      <td>461.0</td>\n",
              "      <td>imac 24 2021 m1 i</td>\n",
              "      <td>NaN</td>\n",
              "      <td>NaN</td>\n",
              "      <td>https://cellphones.com.vn/imac-2021-8gpu-16gb-...</td>\n",
              "    </tr>\n",
              "    <tr>\n",
              "      <th>274</th>\n",
              "      <td>4.460</td>\n",
              "      <td>547.0</td>\n",
              "      <td>11.5</td>\n",
              "      <td>461.0</td>\n",
              "      <td>imac 24 2021 m1 i</td>\n",
              "      <td>NaN</td>\n",
              "      <td>NaN</td>\n",
              "      <td>https://cellphones.com.vn/imac-2021-8gpu-512gb...</td>\n",
              "    </tr>\n",
              "    <tr>\n",
              "      <th>274</th>\n",
              "      <td>4.460</td>\n",
              "      <td>547.0</td>\n",
              "      <td>11.5</td>\n",
              "      <td>461.0</td>\n",
              "      <td>imac 24 2021 m1 i</td>\n",
              "      <td>NaN</td>\n",
              "      <td>NaN</td>\n",
              "      <td>https://cellphones.com.vn/imac-2021-8gpu-512gb...</td>\n",
              "    </tr>\n",
              "    <tr>\n",
              "      <th>274</th>\n",
              "      <td>4.460</td>\n",
              "      <td>547.0</td>\n",
              "      <td>11.5</td>\n",
              "      <td>461.0</td>\n",
              "      <td>imac 24 2021 m1 i</td>\n",
              "      <td>NaN</td>\n",
              "      <td>NaN</td>\n",
              "      <td>https://cellphones.com.vn/imac-2021-8gpu-512gb...</td>\n",
              "    </tr>\n",
              "    <tr>\n",
              "      <th>275</th>\n",
              "      <td>5.440</td>\n",
              "      <td>528.0</td>\n",
              "      <td>17.5</td>\n",
              "      <td>450.0</td>\n",
              "      <td>imac 21.5 2020</td>\n",
              "      <td>NaN</td>\n",
              "      <td>NaN</td>\n",
              "      <td>https://cellphones.com.vn/imac-21-5-inch-2020....</td>\n",
              "    </tr>\n",
              "    <tr>\n",
              "      <th>275</th>\n",
              "      <td>5.440</td>\n",
              "      <td>528.0</td>\n",
              "      <td>17.5</td>\n",
              "      <td>450.0</td>\n",
              "      <td>imac 21.5 2020</td>\n",
              "      <td>NaN</td>\n",
              "      <td>NaN</td>\n",
              "      <td>https://cellphones.com.vn/imac-21-5-inch-2020....</td>\n",
              "    </tr>\n",
              "    <tr>\n",
              "      <th>275</th>\n",
              "      <td>5.440</td>\n",
              "      <td>528.0</td>\n",
              "      <td>17.5</td>\n",
              "      <td>450.0</td>\n",
              "      <td>imac 21.5 2020</td>\n",
              "      <td>NaN</td>\n",
              "      <td>NaN</td>\n",
              "      <td>https://cellphones.com.vn/imac-21-5-inch-2020....</td>\n",
              "    </tr>\n",
              "    <tr>\n",
              "      <th>276</th>\n",
              "      <td>5.480</td>\n",
              "      <td>528.0</td>\n",
              "      <td>17.5</td>\n",
              "      <td>450.0</td>\n",
              "      <td>imac 21.5 2020</td>\n",
              "      <td>NaN</td>\n",
              "      <td>NaN</td>\n",
              "      <td>https://cellphones.com.vn/imac-21-5-inch-2020-...</td>\n",
              "    </tr>\n",
              "    <tr>\n",
              "      <th>276</th>\n",
              "      <td>5.480</td>\n",
              "      <td>528.0</td>\n",
              "      <td>17.5</td>\n",
              "      <td>450.0</td>\n",
              "      <td>imac 21.5 2020</td>\n",
              "      <td>NaN</td>\n",
              "      <td>NaN</td>\n",
              "      <td>https://cellphones.com.vn/imac-21-5-inch-2020-...</td>\n",
              "    </tr>\n",
              "    <tr>\n",
              "      <th>276</th>\n",
              "      <td>5.480</td>\n",
              "      <td>528.0</td>\n",
              "      <td>17.5</td>\n",
              "      <td>450.0</td>\n",
              "      <td>imac 21.5 2020</td>\n",
              "      <td>NaN</td>\n",
              "      <td>NaN</td>\n",
              "      <td>https://cellphones.com.vn/imac-21-5-inch-2020-...</td>\n",
              "    </tr>\n",
              "    <tr>\n",
              "      <th>278</th>\n",
              "      <td>8.920</td>\n",
              "      <td>650.0</td>\n",
              "      <td>20.3</td>\n",
              "      <td>516.0</td>\n",
              "      <td>imac 27 2020</td>\n",
              "      <td>NaN</td>\n",
              "      <td>NaN</td>\n",
              "      <td>https://cellphones.com.vn/imac-27-inch-2020-5k...</td>\n",
              "    </tr>\n",
              "    <tr>\n",
              "      <th>278</th>\n",
              "      <td>8.920</td>\n",
              "      <td>650.0</td>\n",
              "      <td>20.3</td>\n",
              "      <td>516.0</td>\n",
              "      <td>imac 27 2020</td>\n",
              "      <td>NaN</td>\n",
              "      <td>NaN</td>\n",
              "      <td>https://cellphones.com.vn/imac-27-inch-2020-5k...</td>\n",
              "    </tr>\n",
              "    <tr>\n",
              "      <th>278</th>\n",
              "      <td>8.920</td>\n",
              "      <td>650.0</td>\n",
              "      <td>20.3</td>\n",
              "      <td>516.0</td>\n",
              "      <td>imac 27 2020</td>\n",
              "      <td>NaN</td>\n",
              "      <td>NaN</td>\n",
              "      <td>https://cellphones.com.vn/imac-27-inch-2020-5k...</td>\n",
              "    </tr>\n",
              "    <tr>\n",
              "      <th>294</th>\n",
              "      <td>2.200</td>\n",
              "      <td>750.0</td>\n",
              "      <td>23.0</td>\n",
              "      <td>145.0</td>\n",
              "      <td>gaming predator helios 300 ph315-53-78tn nh.qa...</td>\n",
              "      <td>NaN</td>\n",
              "      <td>NaN</td>\n",
              "      <td>https://cellphones.com.vn/laptop-acer-predator...</td>\n",
              "    </tr>\n",
              "    <tr>\n",
              "      <th>306</th>\n",
              "      <td>0.000</td>\n",
              "      <td>320.0</td>\n",
              "      <td>14.9</td>\n",
              "      <td>203.0</td>\n",
              "      <td>expertbookb9450fa-bm0616r</td>\n",
              "      <td>NaN</td>\n",
              "      <td>NaN</td>\n",
              "      <td>https://cellphones.com.vn/laptop-asus-expertbo...</td>\n",
              "    </tr>\n",
              "    <tr>\n",
              "      <th>410</th>\n",
              "      <td>2.000</td>\n",
              "      <td>210.0</td>\n",
              "      <td>14.7</td>\n",
              "      <td>200.0</td>\n",
              "      <td>inspiron 3511 5g8tf</td>\n",
              "      <td>NaN</td>\n",
              "      <td>NaN</td>\n",
              "      <td>https://cellphones.com.vn/laptop-dell-inspiron...</td>\n",
              "    </tr>\n",
              "    <tr>\n",
              "      <th>505</th>\n",
              "      <td>0.000</td>\n",
              "      <td>323.4</td>\n",
              "      <td>16.8</td>\n",
              "      <td>209.8</td>\n",
              "      <td>gram 2020 14z90n-v.ar52a5</td>\n",
              "      <td>NaN</td>\n",
              "      <td>NaN</td>\n",
              "      <td>https://cellphones.com.vn/laptop-lg-gram-14z90...</td>\n",
              "    </tr>\n",
              "    <tr>\n",
              "      <th>506</th>\n",
              "      <td>0.000</td>\n",
              "      <td>323.4</td>\n",
              "      <td>16.8</td>\n",
              "      <td>209.8</td>\n",
              "      <td>gram 2020 14zd90n-v.ax55a5</td>\n",
              "      <td>NaN</td>\n",
              "      <td>NaN</td>\n",
              "      <td>https://cellphones.com.vn/laptop-lg-gram-14zd9...</td>\n",
              "    </tr>\n",
              "    <tr>\n",
              "      <th>511</th>\n",
              "      <td>0.000</td>\n",
              "      <td>313.4</td>\n",
              "      <td>16.8</td>\n",
              "      <td>215.2</td>\n",
              "      <td>gram 2021 14zd90p-g.ax56a5</td>\n",
              "      <td>NaN</td>\n",
              "      <td>NaN</td>\n",
              "      <td>https://cellphones.com.vn/laptop-lg-gram-2021-...</td>\n",
              "    </tr>\n",
              "    <tr>\n",
              "      <th>512</th>\n",
              "      <td>0.000</td>\n",
              "      <td>380.2</td>\n",
              "      <td>17.8</td>\n",
              "      <td>260.1</td>\n",
              "      <td>gram 2021 14zd90p-g.ax51a5</td>\n",
              "      <td>NaN</td>\n",
              "      <td>NaN</td>\n",
              "      <td>https://cellphones.com.vn/laptop-lg-gram-2021-...</td>\n",
              "    </tr>\n",
              "    <tr>\n",
              "      <th>550</th>\n",
              "      <td>0.000</td>\n",
              "      <td>292.0</td>\n",
              "      <td>85.0</td>\n",
              "      <td>201.0</td>\n",
              "      <td>surface pro 7</td>\n",
              "      <td>NaN</td>\n",
              "      <td>NaN</td>\n",
              "      <td>https://cellphones.com.vn/surface-laptop-pro-7...</td>\n",
              "    </tr>\n",
              "    <tr>\n",
              "      <th>551</th>\n",
              "      <td>0.000</td>\n",
              "      <td>292.0</td>\n",
              "      <td>85.0</td>\n",
              "      <td>201.0</td>\n",
              "      <td>surface pro 7 plus</td>\n",
              "      <td>NaN</td>\n",
              "      <td>NaN</td>\n",
              "      <td>https://cellphones.com.vn/surface-pro-7-plus.html</td>\n",
              "    </tr>\n",
              "  </tbody>\n",
              "</table>\n",
              "</div>\n",
              "      <button class=\"colab-df-convert\" onclick=\"convertToInteractive('df-8ae52ceb-eafd-4161-b8b8-abf400112ac8')\"\n",
              "              title=\"Convert this dataframe to an interactive table.\"\n",
              "              style=\"display:none;\">\n",
              "        \n",
              "  <svg xmlns=\"http://www.w3.org/2000/svg\" height=\"24px\"viewBox=\"0 0 24 24\"\n",
              "       width=\"24px\">\n",
              "    <path d=\"M0 0h24v24H0V0z\" fill=\"none\"/>\n",
              "    <path d=\"M18.56 5.44l.94 2.06.94-2.06 2.06-.94-2.06-.94-.94-2.06-.94 2.06-2.06.94zm-11 1L8.5 8.5l.94-2.06 2.06-.94-2.06-.94L8.5 2.5l-.94 2.06-2.06.94zm10 10l.94 2.06.94-2.06 2.06-.94-2.06-.94-.94-2.06-.94 2.06-2.06.94z\"/><path d=\"M17.41 7.96l-1.37-1.37c-.4-.4-.92-.59-1.43-.59-.52 0-1.04.2-1.43.59L10.3 9.45l-7.72 7.72c-.78.78-.78 2.05 0 2.83L4 21.41c.39.39.9.59 1.41.59.51 0 1.02-.2 1.41-.59l7.78-7.78 2.81-2.81c.8-.78.8-2.07 0-2.86zM5.41 20L4 18.59l7.72-7.72 1.47 1.35L5.41 20z\"/>\n",
              "  </svg>\n",
              "      </button>\n",
              "      \n",
              "  <style>\n",
              "    .colab-df-container {\n",
              "      display:flex;\n",
              "      flex-wrap:wrap;\n",
              "      gap: 12px;\n",
              "    }\n",
              "\n",
              "    .colab-df-convert {\n",
              "      background-color: #E8F0FE;\n",
              "      border: none;\n",
              "      border-radius: 50%;\n",
              "      cursor: pointer;\n",
              "      display: none;\n",
              "      fill: #1967D2;\n",
              "      height: 32px;\n",
              "      padding: 0 0 0 0;\n",
              "      width: 32px;\n",
              "    }\n",
              "\n",
              "    .colab-df-convert:hover {\n",
              "      background-color: #E2EBFA;\n",
              "      box-shadow: 0px 1px 2px rgba(60, 64, 67, 0.3), 0px 1px 3px 1px rgba(60, 64, 67, 0.15);\n",
              "      fill: #174EA6;\n",
              "    }\n",
              "\n",
              "    [theme=dark] .colab-df-convert {\n",
              "      background-color: #3B4455;\n",
              "      fill: #D2E3FC;\n",
              "    }\n",
              "\n",
              "    [theme=dark] .colab-df-convert:hover {\n",
              "      background-color: #434B5C;\n",
              "      box-shadow: 0px 1px 3px 1px rgba(0, 0, 0, 0.15);\n",
              "      filter: drop-shadow(0px 1px 2px rgba(0, 0, 0, 0.3));\n",
              "      fill: #FFFFFF;\n",
              "    }\n",
              "  </style>\n",
              "\n",
              "      <script>\n",
              "        const buttonEl =\n",
              "          document.querySelector('#df-8ae52ceb-eafd-4161-b8b8-abf400112ac8 button.colab-df-convert');\n",
              "        buttonEl.style.display =\n",
              "          google.colab.kernel.accessAllowed ? 'block' : 'none';\n",
              "\n",
              "        async function convertToInteractive(key) {\n",
              "          const element = document.querySelector('#df-8ae52ceb-eafd-4161-b8b8-abf400112ac8');\n",
              "          const dataTable =\n",
              "            await google.colab.kernel.invokeFunction('convertToInteractive',\n",
              "                                                     [key], {});\n",
              "          if (!dataTable) return;\n",
              "\n",
              "          const docLinkHtml = 'Like what you see? Visit the ' +\n",
              "            '<a target=\"_blank\" href=https://colab.research.google.com/notebooks/data_table.ipynb>data table notebook</a>'\n",
              "            + ' to learn more about interactive tables.';\n",
              "          element.innerHTML = '';\n",
              "          dataTable['output_type'] = 'display_data';\n",
              "          await google.colab.output.renderOutput(dataTable, element);\n",
              "          const docLink = document.createElement('div');\n",
              "          docLink.innerHTML = docLinkHtml;\n",
              "          element.appendChild(docLink);\n",
              "        }\n",
              "      </script>\n",
              "    </div>\n",
              "  </div>\n",
              "  "
            ],
            "text/plain": [
              "     Weight  ...                                   Index_cellphones\n",
              "153   0.775  ...  https://cellphones.com.vn/surface-laptop-pro-7...\n",
              "153   0.775  ...  https://cellphones.com.vn/surface-laptop-pro-7...\n",
              "153   0.775  ...  https://cellphones.com.vn/surface-laptop-pro-7...\n",
              "158   0.775  ...  https://cellphones.com.vn/surface-laptop-pro-7...\n",
              "158   0.775  ...  https://cellphones.com.vn/surface-laptop-pro-7...\n",
              "158   0.775  ...  https://cellphones.com.vn/surface-laptop-pro-7...\n",
              "159   0.775  ...  https://cellphones.com.vn/surface-laptop-pro-7...\n",
              "159   0.775  ...  https://cellphones.com.vn/surface-laptop-pro-7...\n",
              "159   0.775  ...  https://cellphones.com.vn/surface-laptop-pro-7...\n",
              "162   1.810  ...  https://cellphones.com.vn/laptop-dell-vostro-1...\n",
              "171   1.410  ...  https://cellphones.com.vn/laptop-hp-pavilion-1...\n",
              "171   1.410  ...  https://cellphones.com.vn/laptop-hp-pavilion-1...\n",
              "269   4.460  ...           https://cellphones.com.vn/imac-2021.html\n",
              "269   4.460  ...           https://cellphones.com.vn/imac-2021.html\n",
              "269   4.460  ...           https://cellphones.com.vn/imac-2021.html\n",
              "270   4.460  ...      https://cellphones.com.vn/imac-2021-16gb.html\n",
              "270   4.460  ...      https://cellphones.com.vn/imac-2021-16gb.html\n",
              "270   4.460  ...      https://cellphones.com.vn/imac-2021-16gb.html\n",
              "271   4.460  ...      https://cellphones.com.vn/imac-2021-8gpu.html\n",
              "271   4.460  ...      https://cellphones.com.vn/imac-2021-8gpu.html\n",
              "271   4.460  ...      https://cellphones.com.vn/imac-2021-8gpu.html\n",
              "272   4.460  ...  https://cellphones.com.vn/imac-2021-8gpu-16gb....\n",
              "272   4.460  ...  https://cellphones.com.vn/imac-2021-8gpu-16gb....\n",
              "272   4.460  ...  https://cellphones.com.vn/imac-2021-8gpu-16gb....\n",
              "273   4.460  ...  https://cellphones.com.vn/imac-2021-8gpu-16gb-...\n",
              "273   4.460  ...  https://cellphones.com.vn/imac-2021-8gpu-16gb-...\n",
              "273   4.460  ...  https://cellphones.com.vn/imac-2021-8gpu-16gb-...\n",
              "274   4.460  ...  https://cellphones.com.vn/imac-2021-8gpu-512gb...\n",
              "274   4.460  ...  https://cellphones.com.vn/imac-2021-8gpu-512gb...\n",
              "274   4.460  ...  https://cellphones.com.vn/imac-2021-8gpu-512gb...\n",
              "275   5.440  ...  https://cellphones.com.vn/imac-21-5-inch-2020....\n",
              "275   5.440  ...  https://cellphones.com.vn/imac-21-5-inch-2020....\n",
              "275   5.440  ...  https://cellphones.com.vn/imac-21-5-inch-2020....\n",
              "276   5.480  ...  https://cellphones.com.vn/imac-21-5-inch-2020-...\n",
              "276   5.480  ...  https://cellphones.com.vn/imac-21-5-inch-2020-...\n",
              "276   5.480  ...  https://cellphones.com.vn/imac-21-5-inch-2020-...\n",
              "278   8.920  ...  https://cellphones.com.vn/imac-27-inch-2020-5k...\n",
              "278   8.920  ...  https://cellphones.com.vn/imac-27-inch-2020-5k...\n",
              "278   8.920  ...  https://cellphones.com.vn/imac-27-inch-2020-5k...\n",
              "294   2.200  ...  https://cellphones.com.vn/laptop-acer-predator...\n",
              "306   0.000  ...  https://cellphones.com.vn/laptop-asus-expertbo...\n",
              "410   2.000  ...  https://cellphones.com.vn/laptop-dell-inspiron...\n",
              "505   0.000  ...  https://cellphones.com.vn/laptop-lg-gram-14z90...\n",
              "506   0.000  ...  https://cellphones.com.vn/laptop-lg-gram-14zd9...\n",
              "511   0.000  ...  https://cellphones.com.vn/laptop-lg-gram-2021-...\n",
              "512   0.000  ...  https://cellphones.com.vn/laptop-lg-gram-2021-...\n",
              "550   0.000  ...  https://cellphones.com.vn/surface-laptop-pro-7...\n",
              "551   0.000  ...  https://cellphones.com.vn/surface-pro-7-plus.html\n",
              "\n",
              "[48 rows x 8 columns]"
            ]
          },
          "metadata": {},
          "execution_count": 62
        }
      ]
    },
    {
      "cell_type": "markdown",
      "source": [
        "## II. Numeric attributes analysis\n",
        "\n",
        "---\n",
        "\n",
        "\n",
        "For numerical attributes, the first thing to pay attention is the distribution of that attributes, and the distribution among multiple attributes. From there, we can explore and come up with deep insight of our data. In this section, we will plot out some statistics of the most important properties to know better about our data's balance, relation and deduce some conclusion."
      ],
      "metadata": {
        "id": "foNFlhFPFbkV"
      }
    },
    {
      "cell_type": "markdown",
      "source": [
        "Firstly, we will head up to the analysis of our 3 most important variables - the respond variables: `Comment_count`, `Rating`, `Rating_count`"
      ],
      "metadata": {
        "id": "Yh93QCUkHFre"
      }
    },
    {
      "cell_type": "code",
      "execution_count": 63,
      "metadata": {
        "id": "8E--dIYs7MaL"
      },
      "outputs": [],
      "source": [
        "def plot_statistics(df: pd.DataFrame, bins = 100, title = None,discrete=False):\n",
        "    fig, (ax_box, ax_hist) = plt.subplots(2, sharex= True, gridspec_kw={\"height_ratios\": (.15, .85)})\n",
        "    fig.set_figheight(5)\n",
        "    fig.set_figwidth(10)\n",
        "    ax_box.set_title(title)\n",
        "    sns.boxplot(df, ax=ax_box)\n",
        "    if not discrete:\n",
        "        sns.distplot(df, ax=ax_hist, bins = bins)\n",
        "    else:\n",
        "        sns.countplot(df.sort_values(),ax=ax_hist)\n",
        "    sns.despine(ax=ax_hist)\n",
        "    sns.despine(ax=ax_box, left=True)\n"
      ]
    },
    {
      "cell_type": "markdown",
      "source": [
        "### `Comment_count`, `Rating` and `Rating_count`"
      ],
      "metadata": {
        "id": "g-Kz1d7XDp7Z"
      }
    },
    {
      "cell_type": "markdown",
      "source": [
        "With our 3 primary attributes of concern, distribution of each feature is also needed along with the statistics information."
      ],
      "metadata": {
        "id": "AHG_KTv8Srzo"
      }
    },
    {
      "cell_type": "code",
      "execution_count": 64,
      "metadata": {
        "id": "ruz-MVWK6iRg",
        "colab": {
          "base_uri": "https://localhost:8080/",
          "height": 370
        },
        "outputId": "670ca42a-ab8b-41e6-f31e-7ad58f8d4a17"
      },
      "outputs": [
        {
          "output_type": "display_data",
          "data": {
            "image/png": "[encoded data removed]",
            "text/plain": [
              "<Figure size 1440x504 with 6 Axes>"
            ]
          },
          "metadata": {}
        }
      ],
      "source": [
        "primary_attributes = main_data[['Comment_count','Rating','Rating_count']]\n",
        "fig, ax = plt.subplots(nrows = 2, ncols = 3, figsize = (20,7),sharex='col',gridspec_kw={\"height_ratios\": (.15, .85)})\n",
        "for i, att in enumerate(primary_attributes.columns):\n",
        "    sns.boxplot(primary_attributes[att], ax=ax[0,i])\n",
        "    sns.distplot(primary_attributes[att], ax = ax[1,i])\n",
        "    sns.despine(ax=ax[1,i])\n",
        "    sns.despine(ax=ax[0,i], left=True)\n",
        "    ax[0,i].set_title('Distribution of '+att)"
      ]
    },
    {
      "cell_type": "markdown",
      "source": [
        "Taken the very first look at the Density plot of 3 above features, it can be seen clearly that these features are significantly imbalance. The maximum values of *Comment_count* and *Rating_count* lies far beyond the center distribution and almost remain values is 0.\n",
        "\n",
        "We will examine the statistical information of each attributes and histogram plot to get a better look.\n",
        "\n",
        "The first attributes is *Comment_count*:"
      ],
      "metadata": {
        "id": "PtRu77W5XVQ7"
      }
    },
    {
      "cell_type": "code",
      "execution_count": 65,
      "metadata": {
        "id": "D-VvORXDxMFT",
        "colab": {
          "base_uri": "https://localhost:8080/",
          "height": 510
        },
        "outputId": "c95a6e08-93b9-4f86-b56b-c2562bc2719c"
      },
      "outputs": [
        {
          "output_type": "stream",
          "name": "stdout",
          "text": [
            "count     552.000000\n",
            "mean      102.116244\n",
            "std       197.811320\n",
            "min         0.000000\n",
            "25%        11.000000\n",
            "50%        33.000000\n",
            "75%       104.250000\n",
            "max      1756.000000\n",
            "Name: Comment_count, dtype: float64\n"
          ]
        },
        {
          "output_type": "display_data",
          "data": {
            "image/png": "[encoded data removed]",
            "text/plain": [
              "<Figure size 720x360 with 2 Axes>"
            ]
          },
          "metadata": {}
        }
      ],
      "source": [
        "print(main_data.Comment_count.describe())\n",
        "plot_statistics(main_data.Comment_count, bins = 100, title = 'Distribution of Comment_count')"
      ]
    },
    {
      "cell_type": "markdown",
      "source": [
        "Almost all comment count on product are from 0 to 104 comments (75% quantile), but some products seems to have the high interest controversial and has so much comment (1756 comments count). \n",
        "<!-- Checking that outliers might be useful for enhancing sale experience, but not really help in general analysis, so we will head to the next attributes `Rating`. -->"
      ],
      "metadata": {
        "id": "7d-shpZNY88d"
      }
    },
    {
      "cell_type": "code",
      "execution_count": 66,
      "metadata": {
        "id": "eSAHzRWu6iRi",
        "colab": {
          "base_uri": "https://localhost:8080/",
          "height": 510
        },
        "outputId": "4e90b98f-7bf0-4351-f15a-8b76cc1e051e"
      },
      "outputs": [
        {
          "output_type": "stream",
          "name": "stdout",
          "text": [
            "count    552.000000\n",
            "mean       2.551932\n",
            "std        9.917868\n",
            "min        0.000000\n",
            "25%        0.000000\n",
            "50%        0.000000\n",
            "75%        1.000000\n",
            "max      126.000000\n",
            "Name: Rating_count, dtype: float64\n"
          ]
        },
        {
          "output_type": "display_data",
          "data": {
            "image/png": "[encoded data removed]",
            "text/plain": [
              "<Figure size 720x360 with 2 Axes>"
            ]
          },
          "metadata": {}
        }
      ],
      "source": [
        "print(main_data.Rating_count.describe())\n",
        "plot_statistics(main_data.Rating_count, bins = 100, title = 'rating count main')"
      ]
    },
    {
      "cell_type": "code",
      "execution_count": 67,
      "metadata": {
        "id": "Pi5jBkxA6iRj"
      },
      "outputs": [],
      "source": [
        "low_rating_count = main_data[main_data.Rating_count <= main_data.Rating_count.mean()]\n",
        "high_rating_count = main_data[main_data.Rating_count > main_data.Rating_count.mean()]"
      ]
    },
    {
      "cell_type": "code",
      "execution_count": 68,
      "metadata": {
        "id": "K-9S3gd36iRk",
        "colab": {
          "base_uri": "https://localhost:8080/",
          "height": 1000
        },
        "outputId": "651922a5-8921-4837-9589-fc256c0dba58"
      },
      "outputs": [
        {
          "output_type": "display_data",
          "data": {
            "image/png": "[encoded data removed]",
            "text/plain": [
              "<Figure size 720x360 with 2 Axes>"
            ]
          },
          "metadata": {}
        },
        {
          "output_type": "display_data",
          "data": {
            "image/png": "[encoded data removed]",
            "text/plain": [
              "<Figure size 720x360 with 2 Axes>"
            ]
          },
          "metadata": {}
        },
        {
          "output_type": "display_data",
          "data": {
            "image/png": "[encoded data removed]",
            "text/plain": [
              "<Figure size 720x360 with 2 Axes>"
            ]
          },
          "metadata": {}
        }
      ],
      "source": [
        "plot_statistics(main_data.Rating_count, bins = 50,title='Distribution of Rating_count')\n",
        "plot_statistics(low_rating_count.Rating_count, bins = 10, title = '<= mean')\n",
        "plot_statistics(high_rating_count.Rating_count, bins = 50, title = '> mean')"
      ]
    },
    {
      "cell_type": "code",
      "execution_count": 69,
      "metadata": {
        "id": "szkfG4vj6iRi",
        "colab": {
          "base_uri": "https://localhost:8080/"
        },
        "outputId": "4e42cc04-3352-4af0-b983-a771f8ce1a93"
      },
      "outputs": [
        {
          "output_type": "execute_result",
          "data": {
            "text/plain": [
              "count    168.000000\n",
              "mean       4.224201\n",
              "std        0.880984\n",
              "min        1.000000\n",
              "25%        3.765000\n",
              "50%        4.464286\n",
              "75%        5.000000\n",
              "max        5.000000\n",
              "Name: Rating, dtype: float64"
            ]
          },
          "metadata": {},
          "execution_count": 69
        }
      ],
      "source": [
        "main_data.Rating.describe()"
      ]
    },
    {
      "cell_type": "code",
      "execution_count": 70,
      "metadata": {
        "id": "IuN_NkPm7fOG",
        "colab": {
          "base_uri": "https://localhost:8080/",
          "height": 167
        },
        "outputId": "6d127254-4779-4678-b6f1-58bc21fb2c0d"
      },
      "outputs": [
        {
          "output_type": "error",
          "ename": "NameError",
          "evalue": "ignored",
          "traceback": [
            "\u001b[0;31m---------------------------------------------------------------------------\u001b[0m",
            "\u001b[0;31mNameError\u001b[0m                                 Traceback (most recent call last)",
            "\u001b[0;32m<ipython-input-70-b95faf6005a6>\u001b[0m in \u001b[0;36m<module>\u001b[0;34m()\u001b[0m\n\u001b[0;32m----> 1\u001b[0;31m \u001b[0mplot_statistics\u001b[0m\u001b[0;34m(\u001b[0m\u001b[0mrating\u001b[0m\u001b[0;34m,\u001b[0m \u001b[0mtitle\u001b[0m \u001b[0;34m=\u001b[0m \u001b[0;34m'Rating Distribution'\u001b[0m\u001b[0;34m)\u001b[0m\u001b[0;34m\u001b[0m\u001b[0;34m\u001b[0m\u001b[0m\n\u001b[0m",
            "\u001b[0;31mNameError\u001b[0m: name 'rating' is not defined"
          ]
        }
      ],
      "source": [
        "# đplot_statistics(rating, title = 'Rating Distributionđ)"
      ]
    },
    {
      "cell_type": "code",
      "execution_count": null,
      "metadata": {
        "id": "OKNUChwV7gvP"
      },
      "outputs": [],
      "source": [
        "normalized_numeric_attributes = (numeric_attributes - numeric_attributes.mean())/numeric_attributes.std()\n",
        "correlation = normalized_numeric_attributes.corr()\n",
        "f , ax = plt.subplots(figsize = (14,12))\n",
        "sns.heatmap(correlation, cmap=cmap, square = True, annot = True)"
      ]
    },
    {
      "cell_type": "code",
      "execution_count": null,
      "metadata": {
        "id": "-BhM2p8O6iRk"
      },
      "outputs": [],
      "source": [
        "sns.set()\n",
        "cols = correlation.nlargest(k, 'Comment_count').index\n",
        "#cols = numeric_attributes.columns\n",
        "print(cols)\n",
        "sns.pairplot(main_data[cols],size = 2 ,kind ='scatter',diag_kind='kde')\n",
        "plt.show()"
      ]
    },
    {
      "cell_type": "markdown",
      "source": [
        "### `Price`"
      ],
      "metadata": {
        "id": "3zlbD3KWAvxf"
      }
    },
    {
      "cell_type": "code",
      "execution_count": 71,
      "metadata": {
        "id": "89PZT_m76iRf",
        "colab": {
          "base_uri": "https://localhost:8080/",
          "height": 493
        },
        "outputId": "d3a42804-6f0b-4fe7-a462-5f1f48604413"
      },
      "outputs": [
        {
          "output_type": "stream",
          "name": "stdout",
          "text": [
            "count    4.960000e+02\n",
            "mean     2.675048e+07\n",
            "std      1.294145e+07\n",
            "min      7.290000e+06\n",
            "25%      1.826575e+07\n",
            "50%      2.363542e+07\n",
            "75%      3.154088e+07\n",
            "max      9.299000e+07\n",
            "Name: Price, dtype: float64\n"
          ]
        },
        {
          "output_type": "display_data",
          "data": {
            "image/png": "[encoded data removed]",
            "text/plain": [
              "<Figure size 720x360 with 2 Axes>"
            ]
          },
          "metadata": {}
        }
      ],
      "source": [
        "#Summarize some statistics information of Price and plot the distribution\n",
        "print(main_data['Price'].describe())\n",
        "plot_statistics(main_data['Price'])"
      ]
    },
    {
      "cell_type": "markdown",
      "source": [
        "As the plot tells, this attribute *Price* has many outliers beyond the 75% quantiles. Another point told is that the distribution of price over all product is not located at the middle but is left-shifted.\n",
        "\n",
        "The most common price lies between 20.000.000 to 30.000.000 VND. (~ 1000 - 1500 USD)\n",
        "\n",
        "The lowest price to afford a laptop from those sites is 7.000.000 VND (~ 350 USD) and the most luxury laptop costs ~ 93.000.000 VND (~ 4500 USD)\n",
        "\n",
        "For further exploration, we will divide the price to 3 dimension: low, average and high by the quantile (0, 0.33, 0.67, 1.00)"
      ],
      "metadata": {
        "id": "K1lKV2uwKMS5"
      }
    },
    {
      "cell_type": "code",
      "execution_count": 72,
      "metadata": {
        "id": "mSK24ETz6iRg",
        "colab": {
          "base_uri": "https://localhost:8080/",
          "height": 248
        },
        "outputId": "d9b8bb4e-3680-4371-9e90-afc054976bbc"
      },
      "outputs": [
        {
          "output_type": "display_data",
          "data": {
            "image/png": "[encoded data removed]",
            "text/plain": [
              "<Figure size 432x288 with 1 Axes>"
            ]
          },
          "metadata": {}
        }
      ],
      "source": [
        "# low_price = main_data[main_data['Price'] < main_data['Price'].quantile(0.33)]\n",
        "# avr_price = main_data[(main_data['Price'] > main_data['Price'].quantile(0.33)) &  \n",
        "#                           (main_data['Price'] < main_data['Price'].quantile(0.67))]\n",
        "# high_price = main_data[main_data['Price'] > main_data['Price'].quantile(0.67)]\n",
        "# ultra_high_price = 0\n",
        "\n",
        "low_price = main_data['Price'] <= 15000000\n",
        "avr_price = (main_data['Price'] > 15000000) & (main_data['Price'] <= 30000000)\n",
        "high_price = main_data['Price'] > 30000000\n",
        "main_data['price_segment'] = np.select([low_price, avr_price, high_price],['low','avr','high'], default=np.nan)\n",
        "# print('low_price:  {} \\navr_price:  {} \\nhigh_price: {}'.format(len(low_price), len(avr_price), len(high_price)))\n",
        "main_data['price_segment'].value_counts().plot(kind='pie',xlabel=\"Number of price segement\")\n",
        "plt.show()"
      ]
    },
    {
      "cell_type": "code",
      "source": [
        "plt.subplots(figsize=(20, 5))\n",
        "sns.boxplot(x='Comment_count', y='price_segment', data=main_data, showmeans=True, meanprops={\"marker\":\"o\", \n",
        "                                                                    \"markerfacecolor\":\"white\", \n",
        "                                                                    \"markeredgecolor\":\"black\",\n",
        "                                                                    \"markersize\":\"10\"})\n",
        "# plt.ylim([0,400])\n",
        "plt.show()"
      ],
      "metadata": {
        "colab": {
          "base_uri": "https://localhost:8080/",
          "height": 274
        },
        "id": "CSx7SGO6FXOy",
        "outputId": "609ee691-fb98-45ea-9456-d390b5d2b49c"
      },
      "execution_count": 73,
      "outputs": [
        {
          "output_type": "display_data",
          "data": {
            "image/png": "[encoded data removed]",
            "text/plain": [
              "<Figure size 1440x360 with 1 Axes>"
            ]
          },
          "metadata": {}
        }
      ]
    },
    {
      "cell_type": "code",
      "execution_count": null,
      "metadata": {
        "id": "SgegU_vb6iRh"
      },
      "outputs": [],
      "source": [
        "#Plot statistics for each price dimension\n",
        "plot_statistics(main_data.Price[low_price])\n",
        "print('Low price dimension statistics: ', main_data.Price[low_price].describe())\n",
        "plot_statistics(main_data.Price[avr_price])\n",
        "print('Average price dimension statistics: ', main_data.Price[avr_price].describe())\n",
        "plot_statistics(main_data.Price[high_price])\n",
        "print('High price dimension statistics: ', main_data.Price[high_price].describe())"
      ]
    },
    {
      "cell_type": "code",
      "execution_count": null,
      "metadata": {
        "id": "NDF13euhxjec",
        "scrolled": false
      },
      "outputs": [],
      "source": [
        "x = ['low', 'avr', 'high']\n",
        "y = [low_price['Comment_count'].mean(), avr_price['Comment_count'].mean(), high_price['Comment_count'].mean()]\n",
        "plt.bar(x,y)"
      ]
    },
    {
      "cell_type": "code",
      "execution_count": null,
      "metadata": {
        "id": "v6TPeZHc6iRj"
      },
      "outputs": [],
      "source": [
        "plt.bar(['low', 'avr', 'high'],\n",
        "        [low_price['Rating_count'].mean(), avr_price['Rating_count'].mean(), high_price['Rating_count'].mean()])"
      ]
    },
    {
      "cell_type": "code",
      "execution_count": null,
      "metadata": {
        "id": "ilDsQRKkGMay"
      },
      "outputs": [],
      "source": [
        "ax = sns.distplot(main_data.skew())\n",
        "ax.set_title('skew')\n",
        "main_data.skew()"
      ]
    },
    {
      "cell_type": "code",
      "execution_count": null,
      "metadata": {
        "id": "rMwj0RIT6iRk"
      },
      "outputs": [],
      "source": [
        "fig, ax = plt.subplots(figsize = (20,9), nrows = 1, ncols = 3)\n",
        "k = 8\n",
        "count = 0\n",
        "list_attributes = [low_price, avr_price, high_price]\n",
        "for j in range(len(list_attributes)):\n",
        "    att = list_attributes[j]\n",
        "    normalized_att = (att - att.mean())/att.std()\n",
        "    correlation = normalized_att.corr()\n",
        "    cols = correlation.abs().nlargest(k, 'Comment_count').index\n",
        "    zoomed_corr = np.corrcoef(main_data[cols].values.T)\n",
        "    sns.heatmap(zoomed_corr,square=True,cmap=cmap, linewidths=0.01,linecolor=\"white\",annot=True,\n",
        "        xticklabels = cols.values ,yticklabels = cols.values, ax = ax[j], annot_kws = {'size':8})"
      ]
    },
    {
      "cell_type": "markdown",
      "source": [
        "### `Battery`"
      ],
      "metadata": {
        "id": "Rh0TlVoWHgXv"
      }
    },
    {
      "cell_type": "code",
      "source": [
        "plot_statistics(main_data.Battery)"
      ],
      "metadata": {
        "id": "1KOY9qqHIoB8"
      },
      "execution_count": null,
      "outputs": []
    },
    {
      "cell_type": "markdown",
      "source": [
        "### Discrete numeric attributes\n",
        "\n",
        "`displ_rate`, `displ_size`, `ram_size`, `storage_size`"
      ],
      "metadata": {
        "id": "RKdK76aAvhuy"
      }
    },
    {
      "cell_type": "code",
      "source": [
        "plot_statistics(main_data['displ_rate'])\n",
        "plot_statistics(main_data['displ_size'])\n",
        "plot_statistics(main_data['ram_size'])\n",
        "plot_statistics(main_data['storage_size'])\n",
        "# plot_statistics(main_data['Release_year'])"
      ],
      "metadata": {
        "id": "T5VVANJTvrWh"
      },
      "execution_count": null,
      "outputs": []
    },
    {
      "cell_type": "code",
      "source": [
        "plot_statistics(main_data['displ_rate'],discrete=True)\n",
        "plot_statistics(main_data['displ_size'],discrete=True)\n",
        "plot_statistics(main_data['ram_size'],discrete=True)\n",
        "plot_statistics(main_data['storage_size'],discrete=True)\n",
        "plot_statistics(main_data['Release_year'],discrete=True)"
      ],
      "metadata": {
        "id": "wocQpw-bGDim"
      },
      "execution_count": null,
      "outputs": []
    },
    {
      "cell_type": "code",
      "source": [
        "plt.figure(figsize=(15, 15))\n",
        "# sns.relplot(data=main_data, x=\"ram_size\", y=\"storage_size\",size=\"Comment_count\",hue=\"Comment_count\",palette=cmap,s=0.1,alpha=.5)\n",
        "sns.heatmap(data=main_data.pivot(\"ram_size\",\"storage_size\",\"Comment_count\"))\n",
        "# plt.xlim([200,300])\n",
        "# plt.ylim([300,400])\n",
        "plt.show()"
      ],
      "metadata": {
        "id": "j7_yAxN_8YgS"
      },
      "execution_count": null,
      "outputs": []
    },
    {
      "cell_type": "markdown",
      "source": [
        "### Weight and size"
      ],
      "metadata": {
        "id": "Vvc1KGzxJHN-"
      }
    },
    {
      "cell_type": "code",
      "source": [
        "ncols,nrows = 2,2\n",
        "spec = GridSpec(ncols=ncols, nrows=nrows)\n",
        "cols = ['Weight','thickness','width','length']\n",
        "fig, ax = plt.subplots(nrows = 2, ncols = 2, figsize = (15,7))\n",
        "for i, att in enumerate(cols):\n",
        "    plt.subplot(spec[i])\n",
        "    sns.distplot(main_data[att])\n",
        "    plt.xlabel('Distribution of ' + att)\n",
        "plt.tight_layout()"
      ],
      "metadata": {
        "id": "iDEqdKpkJM6r"
      },
      "execution_count": null,
      "outputs": []
    },
    {
      "cell_type": "code",
      "source": [
        "def mean_normalize(series):\n",
        "    return (series-series.mean())/series.std()"
      ],
      "metadata": {
        "id": "soIFETsoauyY"
      },
      "execution_count": null,
      "outputs": []
    },
    {
      "cell_type": "code",
      "source": [
        "plt.figure(figsize=(15, 15))\n",
        "sns.relplot(data=main_data, x=\"width\", y=\"length\",size=\"Comment_count\",hue=\"Comment_count\",palette=cmap,alpha=.5)\n",
        "# sns.heatmap(data=main_data.pivot(\"width\",\"length\",\"Comment_count\")kk)\n",
        "plt.xlim([200,300])\n",
        "plt.ylim([300,400])\n",
        "plt.show()"
      ],
      "metadata": {
        "id": "UdbGIenoQxmC"
      },
      "execution_count": null,
      "outputs": []
    },
    {
      "cell_type": "code",
      "execution_count": null,
      "metadata": {
        "id": "SXiDqZaM6iRl"
      },
      "outputs": [],
      "source": [
        "att_list = ['Weight', 'Comment_count', 'ram_size', 'storage_size']\n",
        "fig, axis = plt.subplots(len(att_list), len(att_list),figsize=(20, 16))\n",
        "for i in range(len(att_list)):\n",
        "    for j in range(len(att_list)):\n",
        "        var1 = att_list[i]\n",
        "        var2 = att_list[j]\n",
        "        if var1 == 'Rating':\n",
        "            var1_data = main_data[var1].round()\n",
        "        else: \n",
        "            var1_data = main_data[var1].round()\n",
        "        data = pd.concat([main_data[var2], var1_data], axis=1)\n",
        "        try:\n",
        "          sns.boxplot(x = var1, y = var2, data = data, ax = axis[i,j])\n",
        "        except:\n",
        "          continue"
      ]
    },
    {
      "cell_type": "code",
      "execution_count": null,
      "metadata": {
        "id": "UA15AjZ06iRl"
      },
      "outputs": [],
      "source": [
        "fig, ax = plt.subplots(nrows = 1, ncols = 3, figsize = (20, 7), sharey = True)\n",
        "plt.xticks(rotation=90)\n",
        "for i, att in enumerate(primary_attributes):\n",
        "    ax[i].plot(correlation[att])\n",
        "    ax[i].set_xticklabels(labels = correlation.columns,rotation=45, ha='right')"
      ]
    },
    {
      "cell_type": "markdown",
      "source": [
        "## III. Categorical analysis\n",
        "\n",
        "---\n",
        "\n"
      ],
      "metadata": {
        "id": "gFEMFyWJu6E7"
      }
    },
    {
      "cell_type": "code",
      "source": [
        "def plot_cate(col_name):\n",
        "    # counter = categorical_attributes[col_name].value_counts()\n",
        "    # sns.barplot(counter.values, counter.index)\n",
        "\n",
        "    sns.countplot(y=main_data[col_name].sort_values())\n",
        "    plt.xlabel('Number of laptops')\n",
        "    plt.ylabel(col_name)\n",
        "    plt.title('Market share of ' + col_name)\n",
        "\n",
        "\n",
        "def plot_boxplot(x, y):\n",
        "    sns.boxplot(y=y, x=x, data=main_data, showmeans=True, meanprops={\"marker\":\"o\", \n",
        "                                                                    \"markerfacecolor\":\"white\", \n",
        "                                                                    \"markeredgecolor\":\"black\",\n",
        "                                                                    \"markersize\":\"10\"})"
      ],
      "metadata": {
        "id": "gOZjVKO1zNiz"
      },
      "execution_count": null,
      "outputs": []
    },
    {
      "cell_type": "markdown",
      "source": [
        "### Brand"
      ],
      "metadata": {
        "id": "wTJL97cNOsys"
      }
    },
    {
      "cell_type": "code",
      "source": [
        "plt.subplots(figsize=(10, 6))\n",
        "plot_cate('Brand')"
      ],
      "metadata": {
        "id": "Va7wYxeSOvhD"
      },
      "execution_count": null,
      "outputs": []
    },
    {
      "cell_type": "code",
      "source": [
        "plt.figure(figsize=(20, 10))\n",
        "sns.histplot(x='Comment_count', hue='Brand', data=main_data[main_data['Comment_count'] > 0], kde=True, element=\"step\")"
      ],
      "metadata": {
        "id": "nbmJwd2EO9xJ"
      },
      "execution_count": null,
      "outputs": []
    },
    {
      "cell_type": "code",
      "source": [
        "main_data['is_commented'] = main_data['Comment_count'] > 0\n",
        "main_data.groupby('Brand')['is_commented'].value_counts().unstack().plot(kind='barh', stacked=True, figsize=(20, 6), colormap=cmap)\n",
        "plt.xlabel('Number of laptops')\n",
        "plt.title('Count the number of laptops receiving comments from customers')\n",
        "plt.show()"
      ],
      "metadata": {
        "id": "XIhQY8CkPDmh"
      },
      "execution_count": null,
      "outputs": []
    },
    {
      "cell_type": "code",
      "source": [
        "range_lower = list(range(-15, 1760, 15))\n",
        "range_upper = list(range(0, 1760, 15))\n",
        "labels = []\n",
        "for i, j in zip(range_lower, range_upper):\n",
        "    labels.append(str([i + 1, j]))\n",
        "\n",
        "main_data['Comment_count_range'] = pd.cut(main_data[\"Comment_count\"],\n",
        "       bins=range_lower, \n",
        "       labels=labels)\n",
        "\n",
        "plt.figure(figsize=(20, 10))\n",
        "main_data.groupby('Brand')['Comment_count_range'].value_counts().groupby(level=0).apply(lambda x:\n",
        "                                                 100 * x / float(x.sum())).unstack().plot(kind='barh', stacked=True, figsize=(20, 10), colormap=cmap)\n",
        "plt.xlabel('Percentage of laptops')\n",
        "plt.title('Comment count of laptops by brand')\n",
        "plt.legend(title = 'Comment_count_range', loc=\"lower left\", mode = \"expand\", ncol=10, bbox_to_anchor=(0, -0.3, 1, 0.4))\n",
        "plt.show()"
      ],
      "metadata": {
        "id": "AP-GU7YHPPD0"
      },
      "execution_count": null,
      "outputs": []
    },
    {
      "cell_type": "code",
      "source": [
        "plt.subplots(figsize=(20, 6))\n",
        "sns.boxplot(y='Brand', x=\"Comment_count\", data=main_data, showmeans=True, meanprops={\"marker\":\"o\", \n",
        "                                                                    \"markerfacecolor\":\"white\", \n",
        "                                                                    \"markeredgecolor\":\"black\",\n",
        "                                                                    \"markersize\":\"10\"})\n",
        "plt.xlim([-1, 420])\n",
        "plt.show()"
      ],
      "metadata": {
        "id": "QiYh8yMuPX4G"
      },
      "execution_count": null,
      "outputs": []
    },
    {
      "cell_type": "code",
      "source": [
        "main_data['is_rated'] = main_data['Rating_count'] > 0\n",
        "main_data.groupby('Brand')['is_rated'].value_counts().groupby(level=0).apply(lambda x:\n",
        "                                                 100 * x / float(x.sum())).unstack().plot(kind='barh', stacked=True, figsize=(20, 10), colormap=cmap)\n",
        "plt.xlabel('Percentage of laptops')\n",
        "plt.title('Percentage of laptops rated from customers')\n",
        "plt.show()"
      ],
      "metadata": {
        "id": "W8pauG83PsbL"
      },
      "execution_count": null,
      "outputs": []
    },
    {
      "cell_type": "code",
      "source": [
        "range_lower = list(range(-5, 130, 5))\n",
        "range_upper = list(range(0, 130, 5))\n",
        "labels = []\n",
        "for i, j in zip(range_lower, range_upper):\n",
        "    labels.append(str([i + 1, j]))\n",
        "\n",
        "main_data['Rating_count_range'] = pd.cut(main_data[\"Rating_count\"],\n",
        "       bins=range_lower, \n",
        "       labels=labels)\n",
        "\n",
        "plt.figure(figsize=(20, 10))\n",
        "main_data.groupby('Brand')['Rating_count_range'].value_counts().groupby(level=0).apply(lambda x:\n",
        "                                                 100 * x / float(x.sum())).unstack().plot(kind='barh', stacked=True, figsize=(20, 10), colormap=cmap)\n",
        "plt.xlabel('Percentage of laptops')\n",
        "plt.title('Rating count of laptops by brand')\n",
        "plt.legend(title = 'Rating_count range', loc=\"lower left\", mode = \"expand\", ncol=15, bbox_to_anchor=(0, -0.2, 1, 0.4))\n",
        "plt.show()"
      ],
      "metadata": {
        "id": "D_cDstJ4PuvO"
      },
      "execution_count": null,
      "outputs": []
    },
    {
      "cell_type": "code",
      "source": [
        "plt.subplots(figsize=(20, 6))\n",
        "sns.boxplot(y='Brand', x=\"Rating\", data=main_data, showmeans=True, meanprops={\"marker\":\"o\", \n",
        "                                                                    \"markerfacecolor\":\"white\", \n",
        "                                                                    \"markeredgecolor\":\"black\",\n",
        "                                                                    \"markersize\":\"10\"})\n",
        "plt.xlim([-1, 6])\n",
        "plt.show()"
      ],
      "metadata": {
        "id": "s1J22kr-P2j9"
      },
      "execution_count": null,
      "outputs": []
    },
    {
      "cell_type": "markdown",
      "source": [
        "### CPU"
      ],
      "metadata": {
        "id": "Qsdpmj5MP8-z"
      }
    },
    {
      "cell_type": "code",
      "source": [
        "#CPU brand and CPU code distribution\n",
        "plt.figure(figsize=(15, 30))\n",
        "categorical_attributes.groupby('cpu_brand')['cpu_code'].value_counts().unstack().plot(kind='barh', stacked=True, figsize=(15, 5), colormap=cmap)\n",
        "plt.xlabel('Number of laptops')\n",
        "plt.legend(title = 'cpu_code', loc=\"lower left\", mode = \"expand\", ncol=10, bbox_to_anchor=(0, -0.6, 1, 0.4))\n",
        "plt.title(\"Market share of CPU\")\n",
        "plt.show()"
      ],
      "metadata": {
        "id": "1YvQ65SMvkIT"
      },
      "execution_count": null,
      "outputs": []
    },
    {
      "cell_type": "code",
      "source": [
        "range_lower = list(range(-15, 1760, 15))\n",
        "range_upper = list(range(0, 1760, 15))\n",
        "labels = []\n",
        "for i, j in zip(range_lower, range_upper):\n",
        "    labels.append(str([i + 1, j]))\n",
        "\n",
        "main_data['Comment_count_range'] = pd.cut(main_data[\"Comment_count\"],\n",
        "       bins=range_lower, \n",
        "       labels=labels)\n",
        "\n",
        "plt.figure(figsize=(20, 15))\n",
        "main_data.groupby('cpu_brand')['Comment_count_range'].value_counts().groupby(level=0).apply(lambda x:\n",
        "                                                 100 * x / float(x.sum())).unstack().plot(kind='barh', stacked=True, figsize=(20, 5), colormap=cmap)\n",
        "plt.xlabel('Percentage of laptops')\n",
        "plt.title('Comment count of laptops by CPU_brand')\n",
        "plt.legend(title = 'Comment_count_range', loc=\"lower left\", mode = \"expand\", ncol=10, bbox_to_anchor=(0, -0.6, 1, 0.4))\n",
        "plt.show()"
      ],
      "metadata": {
        "id": "16jpFV4sR0ia"
      },
      "execution_count": null,
      "outputs": []
    },
    {
      "cell_type": "code",
      "source": [
        "range_lower = list(range(-5, 130, 5))\n",
        "range_upper = list(range(0, 130, 5))\n",
        "labels = []\n",
        "for i, j in zip(range_lower, range_upper):\n",
        "    labels.append(str([i + 1, j]))\n",
        "\n",
        "main_data['Rating_count_range'] = pd.cut(main_data[\"Rating_count\"],\n",
        "       bins=range_lower, \n",
        "       labels=labels)\n",
        "\n",
        "plt.figure(figsize=(20, 5))\n",
        "main_data.groupby('cpu_brand')['Rating_count_range'].value_counts().groupby(level=0).apply(lambda x:\n",
        "                                                 100 * x / float(x.sum())).unstack().plot(kind='barh', stacked=True, figsize=(20, 5), colormap=cmap)\n",
        "plt.xlabel('Percentage of laptops')\n",
        "plt.title('Rating count of laptops by CPU Brand')\n",
        "plt.legend(title = 'Rating_count range', loc=\"lower left\", mode = \"expand\", ncol=15, bbox_to_anchor=(0, -0.4, 1, 0.4))\n",
        "plt.show()"
      ],
      "metadata": {
        "id": "aE2L278cGAlT"
      },
      "execution_count": null,
      "outputs": []
    },
    {
      "cell_type": "code",
      "source": [
        "plt.subplots(figsize=(10, 3))\n",
        "sns.boxplot(y='cpu_brand', x=\"Rating\", data=main_data, showmeans=True, meanprops={\"marker\":\"o\", \n",
        "                                                                    \"markerfacecolor\":\"white\", \n",
        "                                                                    \"markeredgecolor\":\"black\",\n",
        "                                                                    \"markersize\":\"10\"})\n",
        "plt.xlim([-1, 6])\n",
        "plt.show()"
      ],
      "metadata": {
        "id": "67VTcc_iG29l"
      },
      "execution_count": null,
      "outputs": []
    },
    {
      "cell_type": "markdown",
      "source": [
        "### GPU"
      ],
      "metadata": {
        "id": "PbsPb5KlQ8t5"
      }
    },
    {
      "cell_type": "code",
      "source": [
        "plt.figure(figsize=(20, 15))\n",
        "# plot_cate('GPU')\n",
        "categorical_attributes.groupby('GPU_brand')['GPU'].value_counts().unstack().plot(kind='barh', stacked=True, figsize=(20, 7), colormap=cmap)\n",
        "plt.xlabel('Number of laptops')\n",
        "plt.legend(title = 'GPU', loc=\"lower left\", mode = \"expand\", ncol=5, bbox_to_anchor=(0, -0.6, 1, 0.4))\n",
        "plt.show()"
      ],
      "metadata": {
        "id": "HZTVZcFxQ-R5"
      },
      "execution_count": null,
      "outputs": []
    },
    {
      "cell_type": "code",
      "source": [
        "range_lower = list(range(-15, 1760, 15))\n",
        "range_upper = list(range(0, 1760, 15))\n",
        "labels = []\n",
        "for i, j in zip(range_lower, range_upper):\n",
        "    labels.append(str([i + 1, j]))\n",
        "\n",
        "main_data['Comment_count_range'] = pd.cut(main_data[\"Comment_count\"],\n",
        "       bins=range_lower, \n",
        "       labels=labels)\n",
        "\n",
        "plt.figure(figsize=(20, 15))\n",
        "main_data.groupby('GPU_brand')['Comment_count_range'].value_counts().groupby(level=0).apply(lambda x:\n",
        "                                                 100 * x / float(x.sum())).unstack().plot(kind='barh', stacked=True, figsize=(20, 7), colormap=cmap)\n",
        "plt.xlabel('Percentage of laptops')\n",
        "plt.title('Comment count of laptops by GPU Brand')\n",
        "plt.legend(title = 'Comment_count_range', loc=\"lower left\", mode = \"expand\", ncol=10, bbox_to_anchor=(0, -0.4, 1, 0.4))\n",
        "plt.show()"
      ],
      "metadata": {
        "id": "vXWEM6CDNgs8"
      },
      "execution_count": null,
      "outputs": []
    },
    {
      "cell_type": "code",
      "source": [
        "range_lower = list(range(-5, 130, 5))\n",
        "range_upper = list(range(0, 130, 5))\n",
        "labels = []\n",
        "for i, j in zip(range_lower, range_upper):\n",
        "    labels.append(str([i + 1, j]))\n",
        "\n",
        "main_data['Rating_count_range'] = pd.cut(main_data[\"Rating_count\"],\n",
        "       bins=range_lower, \n",
        "       labels=labels)\n",
        "\n",
        "plt.figure(figsize=(20, 5))\n",
        "main_data.groupby('GPU_brand')['Rating_count_range'].value_counts().groupby(level=0).apply(lambda x:\n",
        "                                                 100 * x / float(x.sum())).unstack().plot(kind='barh', stacked=True, figsize=(20, 5), colormap=cmap)\n",
        "plt.xlabel('Percentage of laptops')\n",
        "plt.title('Rating count of laptops by GPU Brand')\n",
        "plt.legend(title = 'Rating_count range', loc=\"lower left\", mode = \"expand\", ncol=15, bbox_to_anchor=(0, -0.4, 1, 0.4))\n",
        "plt.show()"
      ],
      "metadata": {
        "id": "HNfUHj3AHQvq"
      },
      "execution_count": null,
      "outputs": []
    },
    {
      "cell_type": "code",
      "source": [
        "plt.subplots(figsize=(10, 3))\n",
        "sns.boxplot(y='GPU_brand', x=\"Rating\", data=main_data, showmeans=True, meanprops={\"marker\":\"o\", \n",
        "                                                                    \"markerfacecolor\":\"white\", \n",
        "                                                                    \"markeredgecolor\":\"black\",\n",
        "                                                                    \"markersize\":\"10\"})\n",
        "plt.xlim([-1, 6])\n",
        "plt.show()"
      ],
      "metadata": {
        "id": "n9X5cD9VHbkQ"
      },
      "execution_count": null,
      "outputs": []
    },
    {
      "cell_type": "markdown",
      "source": [
        "### `OS`, `Surface` and `storage_type`"
      ],
      "metadata": {
        "id": "iEFRCQPeQkgS"
      }
    },
    {
      "cell_type": "code",
      "source": [
        "ncols = 1\n",
        "nrows = 3\n",
        "plt.figure(figsize=(15, 10))\n",
        "spec = GridSpec(ncols=ncols, nrows=nrows)\n",
        "col_names = ['OS','storage_type','Surface']\n",
        "for i in range(len(col_names)):\n",
        "    plt.subplot(spec[i])\n",
        "    plot_cate(col_names[i])\n",
        "plt.tight_layout()\n",
        "plt.show()\n"
      ],
      "metadata": {
        "id": "bP1QEx9WQmRm"
      },
      "execution_count": null,
      "outputs": []
    },
    {
      "cell_type": "markdown",
      "source": [
        "Almost all of the value `storage_type` are SSD, so we will not analyze the correlation of this variable with `Comment_count` and `Rating_count`"
      ],
      "metadata": {
        "id": "7gsmZ77HefQW"
      }
    },
    {
      "cell_type": "code",
      "source": [
        "plt.subplots(figsize=(15, 6))\n",
        "plot_boxplot(y='OS', x=\"Comment_count\")\n",
        "plt.xlim([-1, 420])\n",
        "plt.show()"
      ],
      "metadata": {
        "id": "8wpWBWJnRHZK"
      },
      "execution_count": null,
      "outputs": []
    },
    {
      "cell_type": "code",
      "source": [
        "range_lower = list(range(-15, 1760, 15))\n",
        "range_upper = list(range(0, 1760, 15))\n",
        "labels = []\n",
        "for i, j in zip(range_lower, range_upper):\n",
        "    labels.append(str([i + 1, j]))\n",
        "\n",
        "main_data['Comment_count_range'] = pd.cut(main_data[\"Comment_count\"],\n",
        "       bins=range_lower, \n",
        "       labels=labels)\n",
        "\n",
        "plt.figure(figsize=(20, 15))\n",
        "main_data.groupby('Surface')['Comment_count_range'].value_counts().groupby(level=0).apply(lambda x:\n",
        "                                                 100 * x / float(x.sum())).unstack().plot(kind='barh', stacked=True, figsize=(20, 7), colormap=cmap)\n",
        "plt.xlabel('Percentage of laptops')\n",
        "plt.title('Comment count of laptops by Surface')\n",
        "plt.legend(title = 'Comment_count_range', loc=\"lower left\", mode = \"expand\", ncol=10, bbox_to_anchor=(0, -0.4, 1, 0.4))\n",
        "plt.show()"
      ],
      "metadata": {
        "id": "N2-B8tlTf3LP"
      },
      "execution_count": null,
      "outputs": []
    },
    {
      "cell_type": "code",
      "source": [
        "range_lower = list(range(-5, 130, 5))\n",
        "range_upper = list(range(0, 130, 5))\n",
        "labels = []\n",
        "for i, j in zip(range_lower, range_upper):\n",
        "    labels.append(str([i + 1, j]))\n",
        "\n",
        "main_data['Rating_count_range'] = pd.cut(main_data[\"Rating_count\"],\n",
        "       bins=range_lower, \n",
        "       labels=labels)\n",
        "\n",
        "plt.figure(figsize=(20, 5))\n",
        "main_data.groupby('Surface')['Rating_count_range'].value_counts().groupby(level=0).apply(lambda x:\n",
        "                                                 100 * x / float(x.sum())).unstack().plot(kind='barh', stacked=True, figsize=(20, 5), colormap=cmap)\n",
        "plt.xlabel('Percentage of laptops')\n",
        "plt.title('Rating count of laptops by Surface')\n",
        "plt.legend(title = 'Rating_count range', loc=\"lower left\", mode = \"expand\", ncol=15, bbox_to_anchor=(0, -0.4, 1, 0.4))\n",
        "plt.show()"
      ],
      "metadata": {
        "id": "evhAhVjxHtFT"
      },
      "execution_count": null,
      "outputs": []
    },
    {
      "cell_type": "code",
      "source": [
        "plt.subplots(figsize=(10, 3))\n",
        "sns.boxplot(y='OS', x=\"Rating\", data=main_data, showmeans=True, meanprops={\"marker\":\"o\", \n",
        "                                                                    \"markerfacecolor\":\"white\", \n",
        "                                                                    \"markeredgecolor\":\"black\",\n",
        "                                                                    \"markersize\":\"10\"})\n",
        "plt.title('Rating of laptops by OS')\n",
        "plt.xlim([-1, 6])\n",
        "plt.show()"
      ],
      "metadata": {
        "id": "rUSNagcaJL-7"
      },
      "execution_count": null,
      "outputs": []
    },
    {
      "cell_type": "code",
      "source": [
        "plt.subplots(figsize=(10, 3))\n",
        "sns.boxplot(y='Surface', x=\"Rating\", data=main_data, showmeans=True, meanprops={\"marker\":\"o\", \n",
        "                                                                    \"markerfacecolor\":\"white\", \n",
        "                                                                    \"markeredgecolor\":\"black\",\n",
        "                                                                    \"markersize\":\"10\"})\n",
        "plt.title('Rating of laptops by Surface')\n",
        "plt.xlim([-1, 6])\n",
        "plt.show()"
      ],
      "metadata": {
        "id": "0BMk8gPNIR11"
      },
      "execution_count": null,
      "outputs": []
    },
    {
      "cell_type": "markdown",
      "source": [
        "### Display"
      ],
      "metadata": {
        "id": "IWWeW10bRXSI"
      }
    },
    {
      "cell_type": "code",
      "source": [
        "ncols = 2\n",
        "nrows = 1\n",
        "plt.figure(figsize=(15, 8))\n",
        "spec = GridSpec(ncols=ncols, nrows=nrows)\n",
        "col_names = ['displ_resolution','screen_technology']\n",
        "for i in range(len(col_names)):\n",
        "    plt.subplot(spec[i])\n",
        "    plot_cate(col_names[i])\n",
        "plt.tight_layout()\n",
        "plt.show()"
      ],
      "metadata": {
        "id": "72ZHPoSXRWd5"
      },
      "execution_count": null,
      "outputs": []
    },
    {
      "cell_type": "code",
      "source": [
        "range_lower = list(range(-15, 1760, 15))\n",
        "range_upper = list(range(0, 1760, 15))\n",
        "labels = []\n",
        "for i, j in zip(range_lower, range_upper):\n",
        "    labels.append(str([i + 1, j]))\n",
        "\n",
        "main_data['Comment_count_range'] = pd.cut(main_data[\"Comment_count\"],\n",
        "       bins=range_lower, \n",
        "       labels=labels)\n",
        "\n",
        "fig = plt.figure(constrained_layout=True,figsize=(25,15))\n",
        "gs = fig.add_gridspec(1, 2)\n",
        "ax0 = fig.add_subplot(gs[0,0])\n",
        "ax1 = fig.add_subplot(gs[0,1])\n",
        "main_data.groupby('displ_resolution')['Comment_count_range'].value_counts().groupby(level=0).apply(lambda x:\n",
        "                                                 100 * x / float(x.sum())).unstack().plot(kind='barh',ax=ax0, stacked=True, figsize=(13, 7), colormap=cmap,legend=False)\n",
        "main_data.groupby('screen_technology')['Comment_count_range'].value_counts().groupby(level=0).apply(lambda x:\n",
        "                                                 100 * x / float(x.sum())).unstack().plot(kind='barh',ax=ax1, stacked=True, figsize=(13, 7), colormap=cmap,legend=False)\n",
        "ax0.set_xlabel('Percentage of laptops')\n",
        "ax1.set_xlabel('Percentage of laptops')\n",
        "ax0.set_title('Comment count of laptops by Display Resolution')\n",
        "ax1.set_title('Comment count of laptops by Panel Type')\n",
        "fig.legend(title = 'Comment_count_range', loc=\"lower left\", mode = \"expand\", ncol=10, bbox_to_anchor=(0, -0.2, 1, 0.4))\n",
        "plt.show()"
      ],
      "metadata": {
        "id": "wfoavQFEZIzo"
      },
      "execution_count": null,
      "outputs": []
    },
    {
      "cell_type": "code",
      "source": [
        "plt.subplots(figsize=(10, 5))\n",
        "sns.boxplot(y='displ_resolution', x=\"Rating\", data=main_data, showmeans=True, meanprops={\"marker\":\"o\", \n",
        "                                                                    \"markerfacecolor\":\"white\", \n",
        "                                                                    \"markeredgecolor\":\"black\",\n",
        "                                                                    \"markersize\":\"10\"})\n",
        "plt.title('Rating of laptops by Display Resolution')\n",
        "plt.xlim([-1, 6])\n",
        "plt.show()"
      ],
      "metadata": {
        "id": "UPgN9C6PJ1Bz"
      },
      "execution_count": null,
      "outputs": []
    },
    {
      "cell_type": "code",
      "source": [
        "plt.subplots(figsize=(10, 3))\n",
        "sns.boxplot(y='screen_technology', x=\"Rating\", data=main_data, showmeans=True, meanprops={\"marker\":\"o\", \n",
        "                                                                    \"markerfacecolor\":\"white\", \n",
        "                                                                    \"markeredgecolor\":\"black\",\n",
        "                                                                    \"markersize\":\"10\"})\n",
        "plt.title('Rating of laptops by Panel Type')\n",
        "plt.xlim([-1, 6])\n",
        "plt.show()"
      ],
      "metadata": {
        "id": "5-C7Xc2oKW8f"
      },
      "execution_count": null,
      "outputs": []
    },
    {
      "cell_type": "markdown",
      "source": [
        "### Ports"
      ],
      "metadata": {
        "id": "Yva65FNgOngC"
      }
    },
    {
      "cell_type": "code",
      "source": [
        "ncols = 3\n",
        "nrows = 3\n",
        "plt.figure(figsize=(15, 5))\n",
        "spec = GridSpec(ncols=ncols, nrows=nrows)\n",
        "binary_attributes = ['hdmi', 'backlit_keyboard', 'lan', 'ram_upgradable', 'sd_card', 'storage_extra_slot', 'headphone_jack', 'type_c', 'usb_a']\n",
        "for i in range(len(binary_attributes)):\n",
        "    plt.subplot(spec[i])\n",
        "    plot_cate(binary_attributes[i])\n",
        "plt.tight_layout()\n",
        "plt.show()"
      ],
      "metadata": {
        "id": "kwk6u3DytSJ1"
      },
      "execution_count": null,
      "outputs": []
    },
    {
      "cell_type": "markdown",
      "source": [
        "Since the `lan` and `sd_card` are quite evenly distributed, we will see their relationship with `Comment_count`, `Rating_count`, and `Rating`"
      ],
      "metadata": {
        "id": "l_lFn6mVLH3Q"
      }
    },
    {
      "cell_type": "code",
      "source": [
        "range_lower = list(range(-15, 1760, 15))\n",
        "range_upper = list(range(0, 1760, 15))\n",
        "labels = []\n",
        "for i, j in zip(range_lower, range_upper):\n",
        "    labels.append(str([i + 1, j]))\n",
        "\n",
        "main_data['Comment_count_range'] = pd.cut(main_data[\"Comment_count\"],\n",
        "       bins=range_lower, \n",
        "       labels=labels)\n",
        "\n",
        "plt.figure(figsize=(20, 10))\n",
        "main_data.groupby('lan')['Comment_count_range'].value_counts().groupby(level=0).apply(lambda x:\n",
        "                                                 100 * x / float(x.sum())).unstack().plot(kind='barh', stacked=True, figsize=(20, 7), colormap=cmap)\n",
        "plt.xlabel('Percentage of laptops')\n",
        "plt.title('Comment count of laptops by Lan socket')\n",
        "plt.legend(title = 'Comment_count_range', loc=\"lower left\", mode = \"expand\", ncol=10, bbox_to_anchor=(0, -0.4, 1, 0.4))\n",
        "plt.show()"
      ],
      "metadata": {
        "id": "vlcDaNlPMWhk"
      },
      "execution_count": null,
      "outputs": []
    },
    {
      "cell_type": "code",
      "source": [
        "range_lower = list(range(-15, 1760, 15))\n",
        "range_upper = list(range(0, 1760, 15))\n",
        "labels = []\n",
        "for i, j in zip(range_lower, range_upper):\n",
        "    labels.append(str([i + 1, j]))\n",
        "\n",
        "main_data['Comment_count_range'] = pd.cut(main_data[\"Comment_count\"],\n",
        "       bins=range_lower, \n",
        "       labels=labels)\n",
        "\n",
        "plt.figure(figsize=(20, 10))\n",
        "main_data.groupby('sd_card')['Comment_count_range'].value_counts().groupby(level=0).apply(lambda x:\n",
        "                                                 100 * x / float(x.sum())).unstack().plot(kind='barh', stacked=True, figsize=(20, 7), colormap=cmap)\n",
        "plt.xlabel('Percentage of laptops')\n",
        "plt.title('Comment count of laptops by sd card')\n",
        "plt.legend(title = 'Comment_count_range', loc=\"lower left\", mode = \"expand\", ncol=10, bbox_to_anchor=(0, -0.4, 1, 0.4))\n",
        "plt.show()"
      ],
      "metadata": {
        "id": "Ka6qpDxoMtQA"
      },
      "execution_count": null,
      "outputs": []
    },
    {
      "cell_type": "code",
      "source": [
        "range_lower = list(range(-5, 130, 5))\n",
        "range_upper = list(range(0, 130, 5))\n",
        "labels = []\n",
        "for i, j in zip(range_lower, range_upper):\n",
        "    labels.append(str([i + 1, j]))\n",
        "\n",
        "main_data['Rating_count_range'] = pd.cut(main_data[\"Rating_count\"],\n",
        "       bins=range_lower, \n",
        "       labels=labels)\n",
        "\n",
        "plt.figure(figsize=(20, 5))\n",
        "main_data.groupby('lan')['Rating_count_range'].value_counts().groupby(level=0).apply(lambda x:\n",
        "                                                 100 * x / float(x.sum())).unstack().plot(kind='barh', stacked=True, figsize=(20, 5), colormap=cmap)\n",
        "plt.xlabel('Percentage of laptops')\n",
        "plt.title('Rating count of laptops by Lan socket')\n",
        "plt.legend(title = 'Rating_count range', loc=\"lower left\", mode = \"expand\", ncol=15, bbox_to_anchor=(0, -0.4, 1, 0.4))\n",
        "plt.show()"
      ],
      "metadata": {
        "id": "bjavGESUKs2a"
      },
      "execution_count": null,
      "outputs": []
    },
    {
      "cell_type": "code",
      "source": [
        "range_lower = list(range(-5, 130, 5))\n",
        "range_upper = list(range(0, 130, 5))\n",
        "labels = []\n",
        "for i, j in zip(range_lower, range_upper):\n",
        "    labels.append(str([i + 1, j]))\n",
        "\n",
        "main_data['Rating_count_range'] = pd.cut(main_data[\"Rating_count\"],\n",
        "       bins=range_lower, \n",
        "       labels=labels)\n",
        "\n",
        "plt.figure(figsize=(20, 5))\n",
        "main_data.groupby('sd_card')['Rating_count_range'].value_counts().groupby(level=0).apply(lambda x:\n",
        "                                                 100 * x / float(x.sum())).unstack().plot(kind='barh', stacked=True, figsize=(20, 5), colormap=cmap)\n",
        "plt.xlabel('Percentage of laptops')\n",
        "plt.title('Rating count of laptops by sd card')\n",
        "plt.legend(title = 'Rating_count range', loc=\"lower left\", mode = \"expand\", ncol=15, bbox_to_anchor=(0, -0.4, 1, 0.4))\n",
        "plt.show()"
      ],
      "metadata": {
        "id": "2KjHgRtrMIIp"
      },
      "execution_count": null,
      "outputs": []
    },
    {
      "cell_type": "markdown",
      "source": [
        "### Pearson correlation test"
      ],
      "metadata": {
        "id": "3qQApbOZO3zS"
      }
    },
    {
      "cell_type": "code",
      "execution_count": null,
      "metadata": {
        "id": "ADBXqf8k6iRo"
      },
      "outputs": [],
      "source": [
        "corr_df = []\n",
        "to_vis = [c for c in categorical_attributes.columns if c not in ['GPU','cpu_code']]\n",
        "for att in to_vis:\n",
        "    obs = pd.crosstab(index=main_data['Comment_count'].round(-2), columns = main_data[att])\n",
        "    chi2, p, dof, ex = chi2_contingency(obs, correction=False)\n",
        "    corr_df.append([att,chi2,p])\n",
        "fig, (ax1,ax2) = plt.subplots(1,2,figsize=(15,6))\n",
        "pd.DataFrame(corr_df,columns=['col_name','chi_2','p']).plot(x='col_name',y='chi_2',kind='bar',ax=ax1)\n",
        "pd.DataFrame(corr_df,columns=['col_name','chi_2','p']).plot(x='col_name',y='p',kind='bar',ax=ax2,color='orange')\n",
        "ax1.set_title('Chi2 value of categorical attributes with Comment_count')\n",
        "ax2.set_title('p-value of categorical attributes with Comment_count')\n",
        "add_number(ax1,orient='v')\n",
        "add_number(ax2,orient='v')\n",
        "ax1.set_xticklabels(to_vis,rotation = 45,ha='right')\n",
        "ax2.set_xticklabels(to_vis,rotation = 45,ha='right')"
      ]
    },
    {
      "cell_type": "code",
      "execution_count": null,
      "metadata": {
        "id": "s5zOVRro6iRo"
      },
      "outputs": [],
      "source": [
        "corr_df = []\n",
        "to_vis = [c for c in categorical_attributes.columns if c not in ['GPU','cpu_code']]\n",
        "for att in to_vis:\n",
        "    obs = pd.crosstab(index=main_data['Rating_count'].round(-2), columns = main_data[att])\n",
        "    chi2, p, dof, ex = chi2_contingency(obs, correction=False)\n",
        "    corr_df.append([att,chi2,p])\n",
        "fig, (ax1,ax2) = plt.subplots(1,2,figsize=(15,6))\n",
        "pd.DataFrame(corr_df,columns=['col_name','chi_2','p']).plot(x='col_name',y='chi_2',kind='bar',ax=ax1)\n",
        "pd.DataFrame(corr_df,columns=['col_name','chi_2','p']).plot(x='col_name',y='p',kind='bar',ax=ax2,color='orange')\n",
        "ax1.set_title('Chi2 value of categorical attributes with Rating_count')\n",
        "ax2.set_title('p-value of categorical attributes with Rating_count')\n",
        "add_number(ax1,orient='v')\n",
        "add_number(ax2,orient='v')\n",
        "ax1.set_xticklabels(to_vis,rotation = 45,ha='right')\n",
        "ax2.set_xticklabels(to_vis,rotation = 45,ha='right')"
      ]
    },
    {
      "cell_type": "code",
      "execution_count": null,
      "metadata": {
        "id": "Q_i6RlAL6iRo"
      },
      "outputs": [],
      "source": [
        "corr_df = []\n",
        "to_vis = [c for c in categorical_attributes.columns if c not in ['GPU','cpu_code']]\n",
        "for att in to_vis:\n",
        "    obs = pd.crosstab(index=main_data['Price'].round(-2), columns = main_data[att])\n",
        "    chi2, p, dof, ex = chi2_contingency(obs, correction=False)\n",
        "    corr_df.append([att,chi2,p])\n",
        "fig, (ax1,ax2) = plt.subplots(1,2,figsize=(15,6))\n",
        "pd.DataFrame(corr_df,columns=['col_name','chi_2','p']).plot(x='col_name',y='chi_2',kind='bar',ax=ax1)\n",
        "pd.DataFrame(corr_df,columns=['col_name','chi_2','p']).plot(x='col_name',y='p',kind='bar',ax=ax2,color='orange')\n",
        "ax1.set_title('Chi2 value of categorical attributes with Price')\n",
        "ax2.set_title('p-value of categorical attributes with Price')\n",
        "add_number(ax1,orient='v')\n",
        "add_number(ax2,orient='v')\n",
        "ax1.set_xticklabels(to_vis,rotation = 45,ha='right')\n",
        "ax2.set_xticklabels(to_vis,rotation = 45,ha='right')"
      ]
    },
    {
      "cell_type": "markdown",
      "source": [
        "## IV. Top 10% Analysis ##\n",
        "As the aforementioned, the distribution of *Comment_count* and *Rating_count* witness spectacular numbers in these stats of some product. This phenomenom leads to the question why these products are more concerned than the rest and what features that make them outperformed. \n",
        "\n",
        "To solve the quest, we will extract out some of the products with highest *Comment_count* and *Rating_count* - two attributes that, again, representing *popularity* and *asasas* respectively.\n",
        "\n",
        "---\n",
        "\n",
        "### 1. Extract the focusing products: ###"
      ],
      "metadata": {
        "id": "SkDZh-ldU6nl"
      }
    },
    {
      "cell_type": "code",
      "source": [
        "highest_comment_count = main_data.nlargest(50, 'Comment_count')\n",
        "rest_comment_count = main_data.drop(highest_comment_count.index)\n",
        "highest_comment_count.describe()"
      ],
      "metadata": {
        "id": "5EKUPIjzVaO5"
      },
      "execution_count": null,
      "outputs": []
    },
    {
      "cell_type": "code",
      "source": [
        "highest_rating_count = main_data.nlargest(50, 'Rating_count')\n",
        "rest_rating_count = main_data.drop(highest_rating_count.index)\n",
        "highest_rating_count.describe()"
      ],
      "metadata": {
        "id": "hdR8quhwVhHW"
      },
      "execution_count": null,
      "outputs": []
    },
    {
      "cell_type": "markdown",
      "source": [
        "Before getting closer and clearer to our top 50, let's point out some basic statistics of these 2 lists:\n",
        "\n",
        "Stats     | Highest Comment count  | Highest Rating count \n",
        "--------- | -------------------|------------------\n",
        "Min - Max  | 277 - 1756 | 5 - 126\n",
        "Mean | 590.8 | 23.67\n",
        "Average Price      | 20.124.000 vnd (~ 1000USD)       | 21.261.000 vnd (~ 1050USD)\n",
        "Max Price | 33.949.000 vnd (~ 1500 USD) | 46.999.000 vnd (~ 2000 USD)\n",
        "\n",
        "At first glance, we can deduce that most of the concerned laptop based on the number of comments and ratings stay in the low-to-medium price range. No high-end product appears in the top 10%.\n",
        "\n",
        "Let's visualize the distribution ratio as well as correlation calculation for further exploration."
      ],
      "metadata": {
        "id": "L-610i2jVo9u"
      }
    },
    {
      "cell_type": "markdown",
      "source": [
        "### 2. Bivariate visualization ###"
      ],
      "metadata": {
        "id": "QgyjJxW8VzzL"
      }
    },
    {
      "cell_type": "code",
      "source": [
        "cols = ['Comment_count','Rating_count', 'Rating', 'Price', 'Battery', 'Weight', 'length', 'width']\n",
        "sns.pairplot(highest_comment_count[cols],size = 2 ,kind ='scatter',diag_kind='kde')"
      ],
      "metadata": {
        "id": "668ihqD2Vi5d"
      },
      "execution_count": null,
      "outputs": []
    },
    {
      "cell_type": "code",
      "source": [
        "sns.pairplot(highest_rating_count[cols],size = 2 ,kind ='scatter',diag_kind='kde')"
      ],
      "metadata": {
        "id": "PcTHyn4LV8HJ"
      },
      "execution_count": null,
      "outputs": []
    },
    {
      "cell_type": "code",
      "source": [
        "y = highest_comment_count['Comment_count']\n",
        "x = highest_comment_count['Price']\n",
        "vl_count = [len(x[x < (x.min() + x.max())/2]), len(x[x > (x.min() + x.max())/2])]\n",
        "fig, ax = plt.subplots(2, 2, figsize = (12,12))\n",
        "ax[0,0].scatter(x, y)\n",
        "ax[0,1].bar(['< mean', '> mean'] ,vl_count)\n",
        "y = highest_comment_count['Rating_count']\n",
        "x = highest_comment_count['Price']\n",
        "vl_count = [len(x[x < (x.min() + x.max())/2]), len(x[x > (x.min() + x.max())/2])]\n",
        "# xlabel : price\n",
        "# ylabel: rating_count\n",
        "ax[1,0].scatter(x, y)\n",
        "ax[1,1].bar(['< mean', '> mean'] ,vl_count)"
      ],
      "metadata": {
        "id": "OW7xmKK-WCZQ"
      },
      "execution_count": null,
      "outputs": []
    },
    {
      "cell_type": "code",
      "source": [
        "y = highest_comment_count['Comment_count']\n",
        "x = highest_comment_count['Battery']\n",
        "vl_count = [len(x[x < (x.min() + x.max())/2]), len(x[x > (x.min() + x.max())/2])]\n",
        "fig, ax = plt.subplots(2, 2, figsize = (12,12))\n",
        "ax[0,0].scatter(x, y)\n",
        "ax[0,1].bar(['< mean', '> mean'] ,vl_count)\n",
        "\n",
        "y = highest_comment_count['Rating_count']\n",
        "x = highest_comment_count['Battery']\n",
        "vl_count = [len(x[x < (x.min() + x.max())/2]), len(x[x > (x.min() + x.max())/2])]\n",
        "ax[1,0].scatter(x, y)\n",
        "ax[1,1].bar(['< mean', '> mean'] ,vl_count)"
      ],
      "metadata": {
        "id": "xhZRt-E1WIep"
      },
      "execution_count": null,
      "outputs": []
    },
    {
      "cell_type": "code",
      "source": [
        "fig, ax = plt.subplots(1,2, figsize = (12,6))\n",
        "sns.regplot(x=\"Price\", y=\"Battery\", data=highest_comment_count, ax = ax[0])\n",
        "sns.regplot(y=\"Price\", x=\"Battery\", data=highest_rating_count, ax = ax[1])"
      ],
      "metadata": {
        "id": "AKSIpTDSWMlJ"
      },
      "execution_count": null,
      "outputs": []
    },
    {
      "cell_type": "markdown",
      "source": [
        "### 3. Correlation index ###"
      ],
      "metadata": {
        "id": "oVDhx7adWREB"
      }
    },
    {
      "cell_type": "code",
      "source": [
        "correlation_att = highest_comment_count[cols]\n",
        "normalized_correlation_att = (correlation_att - correlation_att.mean())/correlation_att.std()\n",
        "correlation = normalized_correlation_att.corr()\n",
        "f , ax = plt.subplots(1,2,figsize = (28,12))\n",
        "sns.heatmap(correlation, square = True, annot = True, ax = ax[0])\n",
        "correlation_att = highest_rating_count[cols]\n",
        "normalized_correlation_att = (correlation_att - correlation_att.mean())/correlation_att.std()\n",
        "correlation = normalized_correlation_att.corr()\n",
        "sns.heatmap(correlation, square = True, annot = True, ax = ax[1])"
      ],
      "metadata": {
        "id": "KoptnPkKWU4V"
      },
      "execution_count": null,
      "outputs": []
    },
    {
      "cell_type": "markdown",
      "source": [
        "TODO:\n",
        "- Tách riêng significant outlier để phân tích (Comment_count, Rating_count)\n",
        "  - Remove outlier của những cái còn lại.\n",
        "- Chia lại khoảng giá (chia theo mức giá): thêm ultra high và chia theo giá\n",
        "+ Chia lại Numeric - Categoric (Hưng) ✅\n",
        "+ Numerical Analysis: (với từng khoảng giá) (Hưng)\n",
        "\n",
        "Chú trọng sự phụ thuộc của các attribute chính vào các numeric att còn lại (Dựa trên correlation + box/line plot)\n",
        "+ Categorical: (**LẬP**)\n",
        "  + Dùng bar hoặc pie để xác định tỉ lệ các máy của mỗi cate\n",
        "  + dùng box hoặc bar để so sánh các att chính của mỗi cate (ví dụ: so sánh cooment count của các dòng OS hoặc so sánh phân pphoois comment_count của các dòng OS)\n",
        "  + chi2 test, đưa ra hypo và kết luận\n",
        "+ Spotlight: chọn top 100 để đánh giá các yếu tố tạo nên sự nổi bật. (Nhật)\n"
      ],
      "metadata": {
        "id": "aaOUPL6jYGar"
      }
    }
  ],
  "metadata": {
    "colab": {
      "collapsed_sections": [],
      "name": "EDA.ipynb",
      "provenance": [],
      "toc_visible": true,
      "include_colab_link": true
    },
    "kernelspec": {
      "display_name": "Python 3",
      "language": "python",
      "name": "python3"
    },
    "language_info": {
      "codemirror_mode": {
        "name": "ipython",
        "version": 3
      },
      "file_extension": ".py",
      "mimetype": "text/x-python",
      "name": "python",
      "nbconvert_exporter": "python",
      "pygments_lexer": "ipython3",
      "version": "3.8.8"
    }
  },
  "nbformat": 4,
  "nbformat_minor": 0
}