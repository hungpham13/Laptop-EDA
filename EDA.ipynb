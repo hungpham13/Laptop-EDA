{
  "cells": [
    {
      "cell_type": "markdown",
      "metadata": {
        "id": "view-in-github",
        "colab_type": "text"
      },
      "source": [
        "<a href=\"https://colab.research.google.com/github/hungpham13/Laptop-EDA/blob/main/EDA.ipynb\" target=\"_parent\"><img src=\"https://colab.research.google.com/assets/colab-badge.svg\" alt=\"Open In Colab\"/></a>"
      ]
    },
    {
      "cell_type": "code",
      "execution_count": 2,
      "metadata": {
        "colab": {
          "base_uri": "https://localhost:8080/"
        },
        "id": "0o0mLzCwpmVa",
        "outputId": "10d0cfba-0fed-41e6-a459-54f771de6863"
      },
      "outputs": [
        {
          "output_type": "stream",
          "name": "stdout",
          "text": [
            "Cloning into 'Laptop-EDA'...\n",
            "remote: Enumerating objects: 278, done.\u001b[K\n",
            "remote: Counting objects: 100% (278/278), done.\u001b[K\n",
            "remote: Compressing objects: 100% (213/213), done.\u001b[K\n",
            "remote: Total 278 (delta 166), reused 133 (delta 61), pack-reused 0\u001b[K\n",
            "Receiving objects: 100% (278/278), 26.62 MiB | 9.80 MiB/s, done.\n",
            "Resolving deltas: 100% (166/166), done.\n"
          ]
        }
      ],
      "source": [
        "! git clone https://github.com/hungpham13/Laptop-EDA/"
      ]
    },
    {
      "cell_type": "markdown",
      "source": [
        "# Welcome to Laptop Market Exploratory Data Analysis !\n",
        "Here we are going to take a closer look at our Laptop data that was scraped from 3 main websites: fptshop.com.vn, cellphones.com and thegioididong.com.vn. \n",
        "\n",
        "\n",
        "---\n",
        "\n",
        "\n",
        "In this section, we will be analysing our data in a variety of aspect: \n",
        "+ The most important attributes to follow along is \"*Comment_count*\" (number of comments on each product, summarized from all 3 sources), \"*Rating*\" (Rating score on scale 5 for each laptop) and the last one is \"*Rating_count*\" (number of feedback given on each laptop).\n",
        "  + *Comment_count* represents the crowd attention or popularity of a product.\n",
        "  + *Rating* and *Rating_count* represent how good or bad the product is, or how satisfactory customer feels with that product. \n",
        "+ For more precise look and better insights, we will need to examine some other attributes ralated to the technological details of our products such as:\n",
        "  + *Price*: the sale price of each laptop\n",
        "  + *Series* and *Brand*: Name of laptop's brand and particular series \n",
        "  + *cpu_brand* and *cpu_code*: Name of laptop CPU's producer and series\n",
        "  +  ['hdmi', 'backlit_keyboard', 'lan', 'ram_upgradable', 'sd_card',      'storage_extra_slot', 'headphone_jack', 'type_c', 'usb_a']: Informations about supported hardwares\n",
        "  + And many other technological informations\n",
        "+ We will divide the analysis into 3 main sections: \n",
        "  + Import data and preprocessing\n",
        "  + Examine Numerical Attributes, which focus on the distributions of importants attributes and determine the relationship with other numerical columns.\n",
        "  + Examine Categorical Attributes, which focus on the categories distribution and chi-square test to determine if an attribute affects others.\n",
        "\n",
        "**NOTE: REMOVE OUTLIER OF NUMERIC ATT**"
      ],
      "metadata": {
        "id": "ia_w1LJQ9hBu"
      }
    },
    {
      "cell_type": "markdown",
      "source": [
        "## I. Import libraries, Data and prepare data\n",
        "\n",
        "\n",
        "---\n",
        "\n",
        "Our data preparing includes importing data, drop unnecessary columns, handle missing value and prepare numerical/categorical attributes."
      ],
      "metadata": {
        "id": "vr-nniXbNCB2"
      }
    },
    {
      "cell_type": "code",
      "execution_count": 3,
      "metadata": {
        "id": "sIfJ0u0ep1cn",
        "colab": {
          "base_uri": "https://localhost:8080/"
        },
        "cellView": "form",
        "outputId": "d8ea782e-0b55-44b6-e715-c64b4aeb5cac"
      },
      "outputs": [
        {
          "output_type": "stream",
          "name": "stdout",
          "text": [
            "Requirement already satisfied: scipy in /usr/local/lib/python3.7/dist-packages (1.4.1)\n",
            "Requirement already satisfied: numpy>=1.13.3 in /usr/local/lib/python3.7/dist-packages (from scipy) (1.19.5)\n"
          ]
        }
      ],
      "source": [
        "#@title Importing libraries\n",
        "#@markdown In our Analysis today, we will mostly use matplotlib and seaborn library for ploting data; scipy library is also needed for calculating entropy and chisquare statistics - we will see in the third section.\n",
        "\n",
        "import numpy as np\n",
        "import matplotlib as mpl\n",
        "import matplotlib.pyplot as plt\n",
        "from matplotlib.gridspec import GridSpec\n",
        "%matplotlib inline\n",
        "import seaborn as sns\n",
        "\n",
        "import pandas as pd\n",
        "from pandas.api.types import is_numeric_dtype\n",
        "\n",
        "import warnings\n",
        "warnings.filterwarnings('ignore')\n",
        "\n",
        "!pip install scipy\n",
        "import scipy\n",
        "from scipy.stats import chi2_contingency, entropy"
      ]
    },
    {
      "cell_type": "code",
      "execution_count": 30,
      "metadata": {
        "colab": {
          "base_uri": "https://localhost:8080/",
          "height": 496
        },
        "id": "r3IVJYhbqL45",
        "outputId": "772ce762-e01b-46ce-c7b6-ed0efc58a947",
        "cellView": "form"
      },
      "outputs": [
        {
          "output_type": "execute_result",
          "data": {
            "text/html": [
              "\n",
              "  <div id=\"df-9b2a7a64-e449-48a3-b543-f26be0341c44\">\n",
              "    <div class=\"colab-df-container\">\n",
              "      <div>\n",
              "<style scoped>\n",
              "    .dataframe tbody tr th:only-of-type {\n",
              "        vertical-align: middle;\n",
              "    }\n",
              "\n",
              "    .dataframe tbody tr th {\n",
              "        vertical-align: top;\n",
              "    }\n",
              "\n",
              "    .dataframe thead th {\n",
              "        text-align: right;\n",
              "    }\n",
              "</style>\n",
              "<table border=\"1\" class=\"dataframe\">\n",
              "  <thead>\n",
              "    <tr style=\"text-align: right;\">\n",
              "      <th></th>\n",
              "      <th>GPU</th>\n",
              "      <th>Comment_count</th>\n",
              "      <th>Price</th>\n",
              "      <th>Rating</th>\n",
              "      <th>Rating_count</th>\n",
              "      <th>Series</th>\n",
              "      <th>Brand</th>\n",
              "      <th>cpu_brand</th>\n",
              "      <th>cpu_code</th>\n",
              "      <th>ram_size</th>\n",
              "      <th>storage_size</th>\n",
              "      <th>displ_size</th>\n",
              "      <th>displ_rate</th>\n",
              "      <th>Battery</th>\n",
              "      <th>OS</th>\n",
              "      <th>displ_resolution</th>\n",
              "      <th>hdmi</th>\n",
              "      <th>Release_year</th>\n",
              "      <th>Surface</th>\n",
              "      <th>Weight</th>\n",
              "      <th>backlit_keyboard</th>\n",
              "      <th>lan</th>\n",
              "      <th>length</th>\n",
              "      <th>ram_upgradable</th>\n",
              "      <th>screen_technology</th>\n",
              "      <th>sd_card</th>\n",
              "      <th>storage_extra_slot</th>\n",
              "      <th>storage_type</th>\n",
              "      <th>headphone_jack</th>\n",
              "      <th>thickness</th>\n",
              "      <th>type_c</th>\n",
              "      <th>usb_a</th>\n",
              "      <th>width</th>\n",
              "      <th>Availabe_in</th>\n",
              "    </tr>\n",
              "  </thead>\n",
              "  <tbody>\n",
              "    <tr>\n",
              "      <th>0</th>\n",
              "      <td>nvidia geforce rtx 3050 ti</td>\n",
              "      <td>906.0</td>\n",
              "      <td>2.862633e+07</td>\n",
              "      <td>0.0</td>\n",
              "      <td>0.0</td>\n",
              "      <td>nitro 5 gaming an515 57 74nu nh.qd9sv.001</td>\n",
              "      <td>acer</td>\n",
              "      <td>intel</td>\n",
              "      <td>11800h</td>\n",
              "      <td>8.0</td>\n",
              "      <td>512.0</td>\n",
              "      <td>15.6</td>\n",
              "      <td>144.0</td>\n",
              "      <td>57.0</td>\n",
              "      <td>windows 10</td>\n",
              "      <td>1920 x 1080</td>\n",
              "      <td>yes</td>\n",
              "      <td>2021.0</td>\n",
              "      <td>plastic</td>\n",
              "      <td>2.20</td>\n",
              "      <td>yes</td>\n",
              "      <td>yes</td>\n",
              "      <td>363.40</td>\n",
              "      <td>yes</td>\n",
              "      <td>ips</td>\n",
              "      <td>no</td>\n",
              "      <td>yes</td>\n",
              "      <td>ssd</td>\n",
              "      <td>yes</td>\n",
              "      <td>23.9</td>\n",
              "      <td>yes</td>\n",
              "      <td>yes</td>\n",
              "      <td>255.00</td>\n",
              "      <td>3</td>\n",
              "    </tr>\n",
              "    <tr>\n",
              "      <th>1</th>\n",
              "      <td>nvidia geforce mx450</td>\n",
              "      <td>400.0</td>\n",
              "      <td>2.125967e+07</td>\n",
              "      <td>0.0</td>\n",
              "      <td>0.0</td>\n",
              "      <td>gaming modern 14 b11sbu 669vn</td>\n",
              "      <td>msi</td>\n",
              "      <td>intel</td>\n",
              "      <td>1155g7</td>\n",
              "      <td>8.0</td>\n",
              "      <td>512.0</td>\n",
              "      <td>14.0</td>\n",
              "      <td>60.0</td>\n",
              "      <td>39.0</td>\n",
              "      <td>windows 10</td>\n",
              "      <td>1920 x 1080</td>\n",
              "      <td>yes</td>\n",
              "      <td>2021.0</td>\n",
              "      <td>metal</td>\n",
              "      <td>1.30</td>\n",
              "      <td>yes</td>\n",
              "      <td>no</td>\n",
              "      <td>319.00</td>\n",
              "      <td>yes</td>\n",
              "      <td>ips</td>\n",
              "      <td>yes</td>\n",
              "      <td>no</td>\n",
              "      <td>ssd</td>\n",
              "      <td>yes</td>\n",
              "      <td>16.9</td>\n",
              "      <td>yes</td>\n",
              "      <td>yes</td>\n",
              "      <td>219.00</td>\n",
              "      <td>3</td>\n",
              "    </tr>\n",
              "    <tr>\n",
              "      <th>2</th>\n",
              "      <td>intel uhd graphics</td>\n",
              "      <td>322.0</td>\n",
              "      <td>1.529450e+07</td>\n",
              "      <td>3.7</td>\n",
              "      <td>18.0</td>\n",
              "      <td>inspiron 15 3511 p112f001abl</td>\n",
              "      <td>dell</td>\n",
              "      <td>intel</td>\n",
              "      <td>1115g4</td>\n",
              "      <td>4.0</td>\n",
              "      <td>256.0</td>\n",
              "      <td>15.6</td>\n",
              "      <td>60.0</td>\n",
              "      <td>41.0</td>\n",
              "      <td>windows 10</td>\n",
              "      <td>1920 x 1080</td>\n",
              "      <td>yes</td>\n",
              "      <td>2021.0</td>\n",
              "      <td>plastic</td>\n",
              "      <td>1.70</td>\n",
              "      <td>no</td>\n",
              "      <td>no</td>\n",
              "      <td>358.50</td>\n",
              "      <td>yes</td>\n",
              "      <td>va</td>\n",
              "      <td>yes</td>\n",
              "      <td>yes</td>\n",
              "      <td>ssd</td>\n",
              "      <td>yes</td>\n",
              "      <td>18.9</td>\n",
              "      <td>no</td>\n",
              "      <td>yes</td>\n",
              "      <td>235.50</td>\n",
              "      <td>2</td>\n",
              "    </tr>\n",
              "    <tr>\n",
              "      <th>3</th>\n",
              "      <td>intel uhd graphics</td>\n",
              "      <td>378.0</td>\n",
              "      <td>1.499900e+07</td>\n",
              "      <td>5.0</td>\n",
              "      <td>4.0</td>\n",
              "      <td>ideapad slim 3 15itl6 82h80040vn</td>\n",
              "      <td>lenovo</td>\n",
              "      <td>intel</td>\n",
              "      <td>1115g4</td>\n",
              "      <td>8.0</td>\n",
              "      <td>512.0</td>\n",
              "      <td>15.6</td>\n",
              "      <td>60.0</td>\n",
              "      <td>NaN</td>\n",
              "      <td>windows 10</td>\n",
              "      <td>1920 x 1080</td>\n",
              "      <td>yes</td>\n",
              "      <td>2021.0</td>\n",
              "      <td>plastic</td>\n",
              "      <td>1.65</td>\n",
              "      <td>yes</td>\n",
              "      <td>yes</td>\n",
              "      <td>359.00</td>\n",
              "      <td>yes</td>\n",
              "      <td>led</td>\n",
              "      <td>yes</td>\n",
              "      <td>yes</td>\n",
              "      <td>ssd</td>\n",
              "      <td>yes</td>\n",
              "      <td>19.9</td>\n",
              "      <td>yes</td>\n",
              "      <td>yes</td>\n",
              "      <td>237.70</td>\n",
              "      <td>1</td>\n",
              "    </tr>\n",
              "    <tr>\n",
              "      <th>4</th>\n",
              "      <td>intel iris xe graphics</td>\n",
              "      <td>1244.0</td>\n",
              "      <td>1.879900e+07</td>\n",
              "      <td>5.0</td>\n",
              "      <td>5.0</td>\n",
              "      <td>ideapad slim 5 15itl05 82fg00r0vn</td>\n",
              "      <td>lenovo</td>\n",
              "      <td>intel</td>\n",
              "      <td>1135g7</td>\n",
              "      <td>16.0</td>\n",
              "      <td>512.0</td>\n",
              "      <td>15.6</td>\n",
              "      <td>60.0</td>\n",
              "      <td>45.0</td>\n",
              "      <td>windows 10</td>\n",
              "      <td>1920 x 1080</td>\n",
              "      <td>yes</td>\n",
              "      <td>2021.0</td>\n",
              "      <td>metal, plastic</td>\n",
              "      <td>1.66</td>\n",
              "      <td>yes</td>\n",
              "      <td>yes</td>\n",
              "      <td>356.67</td>\n",
              "      <td>yes</td>\n",
              "      <td>ips</td>\n",
              "      <td>yes</td>\n",
              "      <td>yes</td>\n",
              "      <td>ssd</td>\n",
              "      <td>yes</td>\n",
              "      <td>17.9</td>\n",
              "      <td>yes</td>\n",
              "      <td>yes</td>\n",
              "      <td>233.13</td>\n",
              "      <td>1</td>\n",
              "    </tr>\n",
              "  </tbody>\n",
              "</table>\n",
              "</div>\n",
              "      <button class=\"colab-df-convert\" onclick=\"convertToInteractive('df-9b2a7a64-e449-48a3-b543-f26be0341c44')\"\n",
              "              title=\"Convert this dataframe to an interactive table.\"\n",
              "              style=\"display:none;\">\n",
              "        \n",
              "  <svg xmlns=\"http://www.w3.org/2000/svg\" height=\"24px\"viewBox=\"0 0 24 24\"\n",
              "       width=\"24px\">\n",
              "    <path d=\"M0 0h24v24H0V0z\" fill=\"none\"/>\n",
              "    <path d=\"M18.56 5.44l.94 2.06.94-2.06 2.06-.94-2.06-.94-.94-2.06-.94 2.06-2.06.94zm-11 1L8.5 8.5l.94-2.06 2.06-.94-2.06-.94L8.5 2.5l-.94 2.06-2.06.94zm10 10l.94 2.06.94-2.06 2.06-.94-2.06-.94-.94-2.06-.94 2.06-2.06.94z\"/><path d=\"M17.41 7.96l-1.37-1.37c-.4-.4-.92-.59-1.43-.59-.52 0-1.04.2-1.43.59L10.3 9.45l-7.72 7.72c-.78.78-.78 2.05 0 2.83L4 21.41c.39.39.9.59 1.41.59.51 0 1.02-.2 1.41-.59l7.78-7.78 2.81-2.81c.8-.78.8-2.07 0-2.86zM5.41 20L4 18.59l7.72-7.72 1.47 1.35L5.41 20z\"/>\n",
              "  </svg>\n",
              "      </button>\n",
              "      \n",
              "  <style>\n",
              "    .colab-df-container {\n",
              "      display:flex;\n",
              "      flex-wrap:wrap;\n",
              "      gap: 12px;\n",
              "    }\n",
              "\n",
              "    .colab-df-convert {\n",
              "      background-color: #E8F0FE;\n",
              "      border: none;\n",
              "      border-radius: 50%;\n",
              "      cursor: pointer;\n",
              "      display: none;\n",
              "      fill: #1967D2;\n",
              "      height: 32px;\n",
              "      padding: 0 0 0 0;\n",
              "      width: 32px;\n",
              "    }\n",
              "\n",
              "    .colab-df-convert:hover {\n",
              "      background-color: #E2EBFA;\n",
              "      box-shadow: 0px 1px 2px rgba(60, 64, 67, 0.3), 0px 1px 3px 1px rgba(60, 64, 67, 0.15);\n",
              "      fill: #174EA6;\n",
              "    }\n",
              "\n",
              "    [theme=dark] .colab-df-convert {\n",
              "      background-color: #3B4455;\n",
              "      fill: #D2E3FC;\n",
              "    }\n",
              "\n",
              "    [theme=dark] .colab-df-convert:hover {\n",
              "      background-color: #434B5C;\n",
              "      box-shadow: 0px 1px 3px 1px rgba(0, 0, 0, 0.15);\n",
              "      filter: drop-shadow(0px 1px 2px rgba(0, 0, 0, 0.3));\n",
              "      fill: #FFFFFF;\n",
              "    }\n",
              "  </style>\n",
              "\n",
              "      <script>\n",
              "        const buttonEl =\n",
              "          document.querySelector('#df-9b2a7a64-e449-48a3-b543-f26be0341c44 button.colab-df-convert');\n",
              "        buttonEl.style.display =\n",
              "          google.colab.kernel.accessAllowed ? 'block' : 'none';\n",
              "\n",
              "        async function convertToInteractive(key) {\n",
              "          const element = document.querySelector('#df-9b2a7a64-e449-48a3-b543-f26be0341c44');\n",
              "          const dataTable =\n",
              "            await google.colab.kernel.invokeFunction('convertToInteractive',\n",
              "                                                     [key], {});\n",
              "          if (!dataTable) return;\n",
              "\n",
              "          const docLinkHtml = 'Like what you see? Visit the ' +\n",
              "            '<a target=\"_blank\" href=https://colab.research.google.com/notebooks/data_table.ipynb>data table notebook</a>'\n",
              "            + ' to learn more about interactive tables.';\n",
              "          element.innerHTML = '';\n",
              "          dataTable['output_type'] = 'display_data';\n",
              "          await google.colab.output.renderOutput(dataTable, element);\n",
              "          const docLink = document.createElement('div');\n",
              "          docLink.innerHTML = docLinkHtml;\n",
              "          element.appendChild(docLink);\n",
              "        }\n",
              "      </script>\n",
              "    </div>\n",
              "  </div>\n",
              "  "
            ],
            "text/plain": [
              "                          GPU  Comment_count  ...   width  Availabe_in\n",
              "0  nvidia geforce rtx 3050 ti          906.0  ...  255.00            3\n",
              "1        nvidia geforce mx450          400.0  ...  219.00            3\n",
              "2          intel uhd graphics          322.0  ...  235.50            2\n",
              "3          intel uhd graphics          378.0  ...  237.70            1\n",
              "4      intel iris xe graphics         1244.0  ...  233.13            1\n",
              "\n",
              "[5 rows x 34 columns]"
            ]
          },
          "metadata": {},
          "execution_count": 30
        }
      ],
      "source": [
        "#@title Importing data\n",
        "#@markdown File name: `marged_data.csv`\n",
        "\n",
        "#@markdown Here we notice that the original indexes from scraped data are not useful anymore, so we should drop them. Without dropping those columns, our data later on wil have noise in calculating correlation as well as numerical attributes analysis.\n",
        "main_data = pd.read_csv('./Laptop-EDA/merged_data.csv')\n",
        "main_data = main_data.drop('Index_fpt', axis = 1)\n",
        "main_data = main_data.drop('Index_cellphones', axis = 1)\n",
        "main_data = main_data.drop('Index_tgdd', axis = 1)\n",
        "main_data = main_data.drop('Unnamed: 0', axis = 1)\n",
        "main_data = main_data.drop('P/N', axis = 1)\n",
        "# main_data = main_data.drop('Series', axis = 1)\n",
        "main_data.head()"
      ]
    },
    {
      "cell_type": "code",
      "execution_count": 6,
      "metadata": {
        "colab": {
          "base_uri": "https://localhost:8080/"
        },
        "id": "hAcUzM1-In5B",
        "outputId": "cb48fea9-840b-4ac0-8155-bf4d93f1a04f"
      },
      "outputs": [
        {
          "output_type": "stream",
          "name": "stdout",
          "text": [
            "<class 'pandas.core.frame.DataFrame'>\n",
            "RangeIndex: 552 entries, 0 to 551\n",
            "Data columns (total 34 columns):\n",
            " #   Column              Non-Null Count  Dtype  \n",
            "---  ------              --------------  -----  \n",
            " 0   GPU                 548 non-null    object \n",
            " 1   Comment_count       552 non-null    float64\n",
            " 2   Price               496 non-null    float64\n",
            " 3   Rating              552 non-null    float64\n",
            " 4   Rating_count        552 non-null    float64\n",
            " 5   Series              552 non-null    object \n",
            " 6   Brand               552 non-null    object \n",
            " 7   cpu_brand           552 non-null    object \n",
            " 8   cpu_code            552 non-null    object \n",
            " 9   ram_size            552 non-null    float64\n",
            " 10  storage_size        552 non-null    float64\n",
            " 11  displ_size          552 non-null    float64\n",
            " 12  displ_rate          552 non-null    float64\n",
            " 13  Battery             489 non-null    float64\n",
            " 14  OS                  548 non-null    object \n",
            " 15  displ_resolution    545 non-null    object \n",
            " 16  hdmi                548 non-null    object \n",
            " 17  Release_year        286 non-null    float64\n",
            " 18  Surface             371 non-null    object \n",
            " 19  Weight              548 non-null    float64\n",
            " 20  backlit_keyboard    423 non-null    object \n",
            " 21  lan                 548 non-null    object \n",
            " 22  length              528 non-null    float64\n",
            " 23  ram_upgradable      493 non-null    object \n",
            " 24  screen_technology   451 non-null    object \n",
            " 25  sd_card             549 non-null    object \n",
            " 26  storage_extra_slot  325 non-null    object \n",
            " 27  storage_type        545 non-null    object \n",
            " 28  headphone_jack      548 non-null    object \n",
            " 29  thickness           527 non-null    float64\n",
            " 30  type_c              548 non-null    object \n",
            " 31  usb_a               548 non-null    object \n",
            " 32  width               527 non-null    float64\n",
            " 33  Availabe_in         552 non-null    int64  \n",
            "dtypes: float64(14), int64(1), object(19)\n",
            "memory usage: 146.8+ KB\n"
          ]
        }
      ],
      "source": [
        "main_data.info()"
      ]
    },
    {
      "cell_type": "code",
      "execution_count": 29,
      "metadata": {
        "colab": {
          "base_uri": "https://localhost:8080/",
          "height": 1000
        },
        "id": "FBQ8ZEl3vMn0",
        "outputId": "8d206cb6-7560-4433-e694-e801559261b1",
        "cellView": "form"
      },
      "outputs": [
        {
          "output_type": "stream",
          "name": "stdout",
          "text": [
            "---------- Numeric attributes---------------\n",
            "Comment_count    256\n",
            "Price            351\n",
            "Rating            49\n",
            "Rating_count      51\n",
            "displ_size        19\n",
            "Battery           59\n",
            "Weight           113\n",
            "length           127\n",
            "thickness        104\n",
            "width            148\n",
            "dtype: int64\n",
            "---------- Categorical attributes---------------\n",
            "GPU                    52\n",
            "Series                520\n",
            "Brand                  13\n",
            "cpu_brand               3\n",
            "cpu_code               67\n",
            "ram_size                5\n",
            "storage_size            7\n",
            "displ_rate              8\n",
            "OS                      4\n",
            "displ_resolution       23\n",
            "hdmi                    2\n",
            "Release_year            5\n",
            "Surface                 9\n",
            "backlit_keyboard        2\n",
            "lan                     2\n",
            "ram_upgradable          2\n",
            "screen_technology       6\n",
            "sd_card                 2\n",
            "storage_extra_slot      2\n",
            "storage_type            3\n",
            "headphone_jack          2\n",
            "type_c                  2\n",
            "usb_a                   2\n",
            "Availabe_in             3\n",
            "dtype: int64\n"
          ]
        },
        {
          "output_type": "display_data",
          "data": {
            "image/png": "[encoded data removed]",
            "text/plain": [
              "<Figure size 360x432 with 1 Axes>"
            ]
          },
          "metadata": {
            "needs_background": "light"
          }
        }
      ],
      "source": [
        "#@title Identify cagetorical and numeric variables\n",
        "\n",
        "numeric_attributes = main_data[[c for c in main_data.columns \n",
        "                                if main_data[c].value_counts().count() > 15 \n",
        "                                and is_numeric_dtype(main_data[c])]]\n",
        "print('---------- Numeric attributes---------------')\n",
        "print(numeric_attributes.nunique())\n",
        "\n",
        "categorical_attributes = main_data[[c for c in main_data.columns if c not in numeric_attributes.columns]]\n",
        "print('---------- Categorical attributes---------------')\n",
        "print(categorical_attributes.nunique())\n",
        "\n",
        "fig = plt.figure(figsize=(5,6))\n",
        "y = [len(categorical_attributes.columns), len(numeric_attributes.columns)]\n",
        "ax = sns.barplot(['Categorical', 'Numerical'], y)\n",
        "ax.set_title('Numerical and Categorical Att Count')\n",
        "for p in ax.patches:\n",
        "    ax.annotate(int(p.get_height()), \n",
        "                    xy = (p.get_x() + p.get_width() /2, p.get_height()), \n",
        "                    ha = 'center', va = 'center', \n",
        "                    xytext = (0, 8), \n",
        "                    textcoords = 'offset points')"
      ]
    },
    {
      "cell_type": "code",
      "execution_count": 8,
      "metadata": {
        "id": "kb5TCkao6iRe"
      },
      "outputs": [],
      "source": [
        "#@title Fill null\n",
        "#@markdown After checking the information of the remaining data, there are a lot of columns that still have null value. To handle this, we might choose either to drop all the missing row or to fill in the null values with appropriate value. \n",
        "\n",
        "#@markdown Since our data is quite small in size, dropping all rows with null value is wasting information so filling in the missing value should be considered. For numerical attributes, we fill null by the mean of that columns. For categorical attributes, we simply replace null with \"NaN\"\n",
        "\n",
        "for att in numeric_attributes.columns:\n",
        "    main_data[att].fillna(main_data[att].mean(), inplace = True)\n",
        "# ????\n",
        "# for att in categorical_attributes.columns:\n",
        "#     main_data[att].fillna('NaN', inplace = True)"
      ]
    },
    {
      "cell_type": "code",
      "source": [
        "#@title Remove outliers\n",
        "\n"
      ],
      "metadata": {
        "id": "2bdOEGEbWGNP"
      },
      "execution_count": 9,
      "outputs": []
    },
    {
      "cell_type": "code",
      "source": [
        "#@title Normalize Rating_count and Comment_count\n",
        "main_data['Comment_count'] = main_data['Comment_count']/main_data['Availabe_in']\n",
        "main_data['Rating_count'] = main_data['Rating_count']/main_data['Availabe_in']"
      ],
      "metadata": {
        "id": "bKeWk7IhU_Fd"
      },
      "execution_count": 10,
      "outputs": []
    },
    {
      "cell_type": "markdown",
      "source": [
        "## II. Analysis of Numerical Attributes\n",
        "\n",
        "---\n",
        "\n",
        "\n",
        "For numerical attributes, the first thing to pay attention is the distribution of that attributes, and the distribution among multiple attributes. From there, we can explore and come up with deep knowledge of our data. In this section, we will plot out some statistics of the most important properties to know better about our data's balance, relation and deduce some conclusion.\n",
        "\n",
        "First, let's take a look on the ratio of numerical - categorical attributes in our column set."
      ],
      "metadata": {
        "id": "foNFlhFPFbkV"
      }
    },
    {
      "cell_type": "markdown",
      "source": [
        "Our data seems to have more categorical data than numerical ones. This may comes from the variety of hardware information and brand naming. However, the different in number of 2 attribute types is not too big.\n",
        "\n",
        "We will head up to the distribution visualize of some important attributes: *Comment_count*, *Rating*, *Rating_count* and *Price*"
      ],
      "metadata": {
        "id": "Yh93QCUkHFre"
      }
    },
    {
      "cell_type": "code",
      "execution_count": 11,
      "metadata": {
        "id": "8E--dIYs7MaL"
      },
      "outputs": [],
      "source": [
        "def plot_statistics(df: pd.DataFrame, bins = 10, title = None):\n",
        "    fig, (ax_box, ax_hist) = plt.subplots(2, sharex= True, gridspec_kw={\"height_ratios\": (.15, .85)})\n",
        "    fig.set_figheight(5)\n",
        "    fig.set_figwidth(10)\n",
        "    ax_box.set_title(title)\n",
        "    sns.boxplot(df, ax=ax_box)\n",
        "    sns.distplot(df, ax=ax_hist, bins = bins)\n",
        "    sns.despine(ax=ax_hist)\n",
        "    sns.despine(ax=ax_box, left=True)"
      ]
    },
    {
      "cell_type": "code",
      "execution_count": 12,
      "metadata": {
        "colab": {
          "base_uri": "https://localhost:8080/"
        },
        "id": "6MmypbKf6iRf",
        "outputId": "dda58a97-ecac-4b52-9985-af91e282035e"
      },
      "outputs": [
        {
          "output_type": "stream",
          "name": "stdout",
          "text": [
            "[3.02000000e+02 1.33333333e+02 1.61000000e+02 3.78000000e+02\n",
            " 1.24400000e+03 5.58000000e+02 1.77000000e+02 3.20000000e+01\n",
            " 6.50000000e+01 2.68000000e+02 1.65000000e+02 4.21000000e+02\n",
            " 5.70000000e+01 2.70000000e+01 8.00000000e+00 5.40000000e+01\n",
            " 2.23000000e+02 6.00000000e+00 1.50000000e+01 3.80000000e+01\n",
            " 0.00000000e+00 4.00000000e+00 1.00000000e+00 3.00000000e+01\n",
            " 1.90000000e+01 1.00000000e+01 4.40000000e+01 6.00000000e+01\n",
            " 1.20000000e+01 5.60000000e+01 9.90000000e+01 3.17000000e+02\n",
            " 3.29000000e+02 1.04000000e+02 5.30000000e+01 2.40000000e+01\n",
            " 1.70000000e+01 3.30000000e+01 4.31000000e+02 2.00000000e+00\n",
            " 2.30000000e+01 3.10000000e+01 2.12000000e+02 2.09000000e+02\n",
            " 9.69000000e+02 7.50000000e+01 2.80000000e+01 3.97000000e+02\n",
            " 1.85500000e+02 4.60000000e+01 1.80000000e+01 2.90000000e+01\n",
            " 1.60000000e+01 1.64500000e+02 2.50000000e+01 1.09000000e+02\n",
            " 4.20000000e+01 1.88500000e+02 1.78000000e+02 1.47000000e+02\n",
            " 1.58950000e+03 3.38500000e+02 5.00000000e+00 4.10000000e+01\n",
            " 2.00000000e+01 6.90000000e+01 5.00000000e+01 4.50000000e+01\n",
            " 8.40000000e+01 2.94000000e+02 9.00000000e+01 5.80000000e+01\n",
            " 1.10000000e+01 1.37000000e+02 1.40000000e+02 1.18000000e+02\n",
            " 7.30000000e+01 9.60000000e+01 4.80000000e+01 1.07000000e+02\n",
            " 3.00000000e+00 3.77000000e+02 8.10000000e+01 4.10000000e+02\n",
            " 1.50000000e+02 1.70000000e+02 2.08000000e+02 3.70000000e+01\n",
            " 1.63000000e+02 3.40000000e+01 1.12000000e+02 1.22000000e+02\n",
            " 4.00000000e+01 1.87000000e+02 3.57000000e+02 9.74000000e+02\n",
            " 1.24000000e+02 9.00000000e+00 1.31000000e+02 3.93000000e+02\n",
            " 1.47600000e+03 5.61000000e+02 4.07000000e+02 1.73000000e+02\n",
            " 8.60000000e+01 1.71500000e+02 1.38500000e+02 3.47500000e+02\n",
            " 7.45000000e+01 6.10000000e+01 3.70500000e+02 5.50000000e+01\n",
            " 2.30000000e+02 1.72000000e+02 2.42000000e+02 6.35000000e+01\n",
            " 9.50000000e+00 5.90000000e+01 4.63000000e+02 1.25000000e+02\n",
            " 9.45500000e+02 1.53500000e+02 1.20500000e+02 7.10000000e+01\n",
            " 1.75000000e+01 7.70000000e+02 1.65500000e+02 1.95000000e+01\n",
            " 1.60000000e+02 1.00500000e+02 7.59000000e+02 5.65000000e+01\n",
            " 2.06500000e+02 6.15000000e+01 5.11000000e+02 2.91000000e+02\n",
            " 2.86666667e+02 9.73333333e+01 2.12333333e+02 3.23000000e+02\n",
            " 2.73333333e+01 9.43333333e+02 1.27100000e+03 4.22000000e+02\n",
            " 2.32666667e+02 3.47333333e+02 4.48333333e+02 1.16333333e+02\n",
            " 4.58000000e+02 6.03333333e+01 4.23333333e+01 1.75333333e+02\n",
            " 1.53333333e+01 1.56666667e+01 2.53333333e+01 8.70000000e+01\n",
            " 3.33333333e+00 1.55666667e+02 5.33333333e+00 8.36666667e+01\n",
            " 2.63333333e+01 8.30666667e+02 6.76666667e+01 4.33666667e+02\n",
            " 3.00666667e+02 7.66666667e+01 4.23666667e+02 1.90500000e+02\n",
            " 6.50000000e+00 2.10000000e+01 2.35000000e+01 1.50000000e+00\n",
            " 2.50000000e+00 1.85000000e+01 3.50000000e+00 1.51500000e+02\n",
            " 2.15000000e+01 9.40000000e+01 4.35000000e+01 5.25000000e+01\n",
            " 9.30000000e+01 3.50000000e+01 1.10000000e+02 2.39000000e+02\n",
            " 9.45000000e+01 6.65000000e+01 7.00000000e+00 9.20500000e+02\n",
            " 1.07500000e+02 1.14000000e+02 2.32000000e+02 1.81500000e+02\n",
            " 8.75000000e+01 7.20000000e+01 1.30000000e+01 9.54500000e+02\n",
            " 4.51000000e+02 1.28000000e+02 2.67000000e+02 1.45000000e+02\n",
            " 2.95000000e+01 3.45000000e+01 2.14000000e+02 2.44500000e+02\n",
            " 3.05000000e+01 4.45000000e+01 6.07000000e+02 7.95000000e+01\n",
            " 1.15000000e+01 1.75600000e+03 2.28000000e+02 4.30500000e+02\n",
            " 2.77500000e+02 3.06000000e+02 1.40000000e+01 6.30000000e+01\n",
            " 1.41000000e+02 3.60000000e+01 1.58000000e+02 5.10000000e+01\n",
            " 7.00000000e+01 1.08000000e+02 1.03000000e+02 9.10000000e+01\n",
            " 1.06000000e+02 1.66000000e+02 6.40000000e+01 8.50000000e+01\n",
            " 2.18000000e+02 1.16000000e+02 1.90000000e+02 1.21000000e+02\n",
            " 2.60000000e+01 1.38000000e+02 1.20000000e+02 6.70000000e+01\n",
            " 6.60000000e+01 1.71000000e+02 2.24000000e+02 2.20000000e+01\n",
            " 7.80000000e+01 4.30000000e+01 7.70000000e+01 2.46000000e+02\n",
            " 1.93000000e+02 3.90000000e+01 1.36000000e+02 7.60000000e+01\n",
            " 2.55000000e+02 1.81000000e+02 1.13000000e+02 1.17000000e+02\n",
            " 1.05000000e+02 9.80000000e+01 9.50000000e+01 4.90000000e+01]\n",
            "[0.         3.7        5.         3.         2.         4.\n",
            " 2.6        2.7        3.5        1.         2.3        4.19642857\n",
            " 4.5        4.7        3.9        3.3        4.3        3.6\n",
            " 3.6        3.8        3.4        4.33333333 3.34722222 2.7\n",
            " 3.61875    3.87835052 4.10863309 3.58333333 4.1        3.95652174\n",
            " 1.5        3.78666667 3.52923077 4.2        2.9        4.8\n",
            " 4.71578947 3.91666667 4.52678571 3.52       3.956      3.54054054\n",
            " 3.7        3.3        3.91456954 4.75       4.875      4.66666667\n",
            " 4.42857143]\n",
            "[  0.           9.           4.           5.           2.\n",
            "   3.          53.           6.           1.          12.\n",
            "   0.5          4.5          1.5         84.           7.\n",
            "  25.          11.          16.          13.          40.\n",
            "  72.          20.         126.          17.           1.66666667\n",
            "   5.33333333  32.33333333  46.33333333   8.           1.33333333\n",
            "   7.66666667   0.33333333   0.66666667  21.66666667  22.33333333\n",
            "   2.66666667  11.5          9.5          2.5          3.5\n",
            "  28.          12.5         50.          18.5         19.\n",
            "  15.          54.5         75.5         18.          39.\n",
            "   8.5       ]\n"
          ]
        }
      ],
      "source": [
        "#Take a look at the number format of each attributes\n",
        "primary_attributes = main_data[['Comment_count', 'Rating', 'Rating_count']]\n",
        "price = main_data.Price\n",
        "for col in primary_attributes.columns:\n",
        "    print(primary_attributes[col].unique())"
      ]
    },
    {
      "cell_type": "code",
      "execution_count": 13,
      "metadata": {
        "colab": {
          "base_uri": "https://localhost:8080/",
          "height": 490
        },
        "id": "89PZT_m76iRf",
        "outputId": "cea79299-ba30-43c8-b2db-552433b26e11"
      },
      "outputs": [
        {
          "output_type": "stream",
          "name": "stdout",
          "text": [
            "count    5.520000e+02\n",
            "mean     2.675048e+07\n",
            "std      1.226619e+07\n",
            "min      7.290000e+06\n",
            "25%      1.876950e+07\n",
            "50%      2.499000e+07\n",
            "75%      3.007288e+07\n",
            "max      9.299000e+07\n",
            "Name: Price, dtype: float64\n"
          ]
        },
        {
          "output_type": "display_data",
          "data": {
            "image/png": "[encoded data removed]",
            "text/plain": [
              "<Figure size 720x360 with 2 Axes>"
            ]
          },
          "metadata": {
            "needs_background": "light"
          }
        }
      ],
      "source": [
        "#Summarize some statistics information of Price and plot the distribution\n",
        "print(price.describe())\n",
        "plot_statistics(price)"
      ]
    },
    {
      "cell_type": "markdown",
      "source": [
        "As the plot tells, this attribute *Price* has many outliers beyond the 75% quantiles. Another point told is that the distribution of price over all product is not located at the middle but is left-shifted.\n",
        "\n",
        "The most common price lies between 20.000.000 to 30.000.000 VND. (~ 1000 - 1500 USD)\n",
        "\n",
        "The lowest price to afford a laptop from those sites is 7.000.000 VND (~ 350 USD) and the most luxury laptop costs ~ 93.000.000 VND (~ 4500 USD)\n",
        "\n",
        "For further exploration, we will divide the price to 3 dimension: low, average and high by the quantile (0, 0.33, 0.67, 1.00)"
      ],
      "metadata": {
        "id": "K1lKV2uwKMS5"
      }
    },
    {
      "cell_type": "code",
      "execution_count": 14,
      "metadata": {
        "colab": {
          "base_uri": "https://localhost:8080/"
        },
        "id": "mSK24ETz6iRg",
        "outputId": "7239e5b2-ccb5-47b8-b157-6398e8b24945"
      },
      "outputs": [
        {
          "output_type": "stream",
          "name": "stdout",
          "text": [
            "low_price:  447 \n",
            "avr_price:  276 \n",
            "high_price: 138\n",
            "low_price:  447 \n",
            "avr_price:  276 \n",
            "high_price: 138\n"
          ]
        }
      ],
      "source": [
        "low_price = main_data[main_data['Price'] < main_data['Price'].quantile(0.33)]\n",
        "avr_price = main_data[(main_data['Price'] > main_data['Price'].quantile(0.33)) &  \n",
        "                          (main_data['Price'] < main_data['Price'].quantile(0.67))]\n",
        "high_price = main_data[main_data['Price'] > main_data['Price'].quantile(0.67)]\n",
        "ultra_high_price = 0\n",
        "\n",
        "low_price = main_data[main_data['Price'] < (main_data['Price'].min() + main_data['Price'].max())/3] \n",
        "avr_price = main_data[(main_data['Price'] > main_data['Price'].quantile(0.25)) & \n",
        "                          (main_data['Price'] < main_data['Price'].quantile(0.75))]\n",
        "high_price = main_data[main_data['Price'] > main_data['Price'].quantile(0.75)]\n",
        "print('low_price:  {} \\navr_price:  {} \\nhigh_price: {}'.format(len(low_price), len(avr_price), len(high_price)))\n",
        "print('low_price:  {} \\navr_price:  {} \\nhigh_price: {}'.format(len(low_price), len(avr_price), len(high_price)))\n"
      ]
    },
    {
      "cell_type": "code",
      "execution_count": 15,
      "metadata": {
        "colab": {
          "base_uri": "https://localhost:8080/",
          "height": 1000
        },
        "id": "SgegU_vb6iRh",
        "outputId": "838ecc65-9c9a-42cb-87b4-116564e859bf"
      },
      "outputs": [
        {
          "output_type": "stream",
          "name": "stdout",
          "text": [
            "Low price dimension statistics:  count    4.470000e+02\n",
            "mean     2.211833e+07\n",
            "std      5.897602e+06\n",
            "min      7.290000e+06\n",
            "25%      1.780500e+07\n",
            "50%      2.249000e+07\n",
            "75%      2.675048e+07\n",
            "max      3.339000e+07\n",
            "Name: Price, dtype: float64\n",
            "Average price dimension statistics:  count    2.760000e+02\n",
            "mean     2.451907e+07\n",
            "std      3.137190e+06\n",
            "min      1.879300e+07\n",
            "25%      2.168238e+07\n",
            "50%      2.499000e+07\n",
            "75%      2.675048e+07\n",
            "max      3.006900e+07\n",
            "Name: Price, dtype: float64\n",
            "High price dimension statistics:  count    1.380000e+02\n",
            "mean     4.296726e+07\n",
            "std      1.278313e+07\n",
            "min      3.008450e+07\n",
            "25%      3.354338e+07\n",
            "50%      3.904650e+07\n",
            "75%      4.710850e+07\n",
            "max      9.299000e+07\n",
            "Name: Price, dtype: float64\n"
          ]
        },
        {
          "output_type": "display_data",
          "data": {
            "image/png": "[encoded data removed]",
            "text/plain": [
              "<Figure size 720x360 with 2 Axes>"
            ]
          },
          "metadata": {
            "needs_background": "light"
          }
        },
        {
          "output_type": "display_data",
          "data": {
            "image/png": "[encoded data removed]",
            "text/plain": [
              "<Figure size 720x360 with 2 Axes>"
            ]
          },
          "metadata": {
            "needs_background": "light"
          }
        },
        {
          "output_type": "display_data",
          "data": {
            "image/png": "[encoded data removed]",
            "text/plain": [
              "<Figure size 720x360 with 2 Axes>"
            ]
          },
          "metadata": {
            "needs_background": "light"
          }
        }
      ],
      "source": [
        "#Plot statistics for each price dimension\n",
        "plot_statistics(low_price['Price'])\n",
        "print('Low price dimension statistics: ', low_price['Price'].describe())\n",
        "plot_statistics(avr_price['Price'])\n",
        "print('Average price dimension statistics: ', avr_price['Price'].describe())\n",
        "plot_statistics(high_price['Price'])\n",
        "print('High price dimension statistics: ', high_price['Price'].describe())"
      ]
    },
    {
      "cell_type": "markdown",
      "source": [
        "With our 3 primary attributes of concern, distribution of each feature is also needed along with the statistics information."
      ],
      "metadata": {
        "id": "AHG_KTv8Srzo"
      }
    },
    {
      "cell_type": "code",
      "execution_count": 16,
      "metadata": {
        "colab": {
          "base_uri": "https://localhost:8080/",
          "height": 281
        },
        "id": "ruz-MVWK6iRg",
        "outputId": "48bdb73b-688e-4c71-9f81-e9af7a779062"
      },
      "outputs": [
        {
          "output_type": "display_data",
          "data": {
            "image/png": "[encoded data removed]",
            "text/plain": [
              "<Figure size 1080x288 with 3 Axes>"
            ]
          },
          "metadata": {
            "needs_background": "light"
          }
        }
      ],
      "source": [
        "fig, ax = plt.subplots(nrows = 1, ncols = 3, figsize = (15,4))\n",
        "for i, att in enumerate(primary_attributes.columns):\n",
        "    sns.distplot(primary_attributes[att], ax = ax[i])"
      ]
    },
    {
      "cell_type": "markdown",
      "source": [
        "Taken the very first look at the Density plot of 3 above features, it can be seen clearly that these features are significantly imbalance. The maximum values of *Comment_count* and *Rating_count* lies far beyond the center distribution and almost remain values lies near 0.\n",
        "\n",
        "We will examine each of the attributes in statistics and histogram plot to get a better look.\n",
        "\n",
        "The first attributes is *Comment_count*:"
      ],
      "metadata": {
        "id": "PtRu77W5XVQ7"
      }
    },
    {
      "cell_type": "code",
      "execution_count": 17,
      "metadata": {
        "colab": {
          "base_uri": "https://localhost:8080/"
        },
        "id": "D-VvORXDxMFT",
        "outputId": "cdb56acd-4ed9-4a2a-882c-0d46b0aade98"
      },
      "outputs": [
        {
          "output_type": "execute_result",
          "data": {
            "text/plain": [
              "count     552.000000\n",
              "mean      102.116244\n",
              "std       197.811320\n",
              "min         0.000000\n",
              "25%        11.000000\n",
              "50%        33.000000\n",
              "75%       104.250000\n",
              "max      1756.000000\n",
              "Name: Comment_count, dtype: float64"
            ]
          },
          "metadata": {},
          "execution_count": 17
        }
      ],
      "source": [
        "comment_count = main_data.Comment_count \n",
        "comment_count.describe()"
      ]
    },
    {
      "cell_type": "code",
      "execution_count": 18,
      "metadata": {
        "colab": {
          "base_uri": "https://localhost:8080/",
          "height": 351
        },
        "id": "jXq8Iwyi6iRh",
        "outputId": "903d6b92-5a8e-4711-93dc-faaf09949fb7"
      },
      "outputs": [
        {
          "output_type": "display_data",
          "data": {
            "image/png": "[encoded data removed]",
            "text/plain": [
              "<Figure size 720x360 with 2 Axes>"
            ]
          },
          "metadata": {
            "needs_background": "light"
          }
        }
      ],
      "source": [
        "plot_statistics(main_data.Comment_count, bins = 50, title = 'comment count main')"
      ]
    },
    {
      "cell_type": "markdown",
      "source": [
        "Almost all comment count on product are from 0 to 140 comments (75% quantile), but some products seems to be controversial and has so much comment (1756 comments count). Checking that outliers might be useful for enhancing sale experience, but not really help in general analysis, so we will head to the next attributes *Rating*."
      ],
      "metadata": {
        "id": "7d-shpZNY88d"
      }
    },
    {
      "cell_type": "code",
      "execution_count": 19,
      "metadata": {
        "colab": {
          "base_uri": "https://localhost:8080/"
        },
        "id": "szkfG4vj6iRi",
        "outputId": "02494576-0341-44ab-e19a-0879315e298d"
      },
      "outputs": [
        {
          "output_type": "execute_result",
          "data": {
            "text/plain": [
              "count    552.000000\n",
              "mean       1.285626\n",
              "std        2.004994\n",
              "min        0.000000\n",
              "25%        0.000000\n",
              "50%        0.000000\n",
              "75%        3.505000\n",
              "max        5.000000\n",
              "Name: Rating, dtype: float64"
            ]
          },
          "metadata": {},
          "execution_count": 19
        }
      ],
      "source": [
        "main_data.Rating.describe()"
      ]
    },
    {
      "cell_type": "code",
      "execution_count": 20,
      "metadata": {
        "colab": {
          "base_uri": "https://localhost:8080/",
          "height": 351
        },
        "id": "eSAHzRWu6iRi",
        "outputId": "3cf92d38-1317-4d9a-d304-c7f3071c7aaf"
      },
      "outputs": [
        {
          "output_type": "display_data",
          "data": {
            "image/png": "[encoded data removed]",
            "text/plain": [
              "<Figure size 720x360 with 2 Axes>"
            ]
          },
          "metadata": {
            "needs_background": "light"
          }
        }
      ],
      "source": [
        "plot_statistics(main_data.Rating_count, bins = 50, title = 'rating count main')"
      ]
    },
    {
      "cell_type": "code",
      "execution_count": 21,
      "metadata": {
        "colab": {
          "base_uri": "https://localhost:8080/",
          "height": 282
        },
        "id": "NDF13euhxjec",
        "outputId": "2c20b21c-2f65-4283-d0bb-093e2eccd6c7",
        "scrolled": false
      },
      "outputs": [
        {
          "output_type": "execute_result",
          "data": {
            "text/plain": [
              "<BarContainer object of 3 artists>"
            ]
          },
          "metadata": {},
          "execution_count": 21
        },
        {
          "output_type": "display_data",
          "data": {
            "image/png": "[encoded data removed]",
            "text/plain": [
              "<Figure size 432x288 with 1 Axes>"
            ]
          },
          "metadata": {
            "needs_background": "light"
          }
        }
      ],
      "source": [
        "x = ['low', 'avr', 'high']\n",
        "y = [low_price['Comment_count'].mean(), avr_price['Comment_count'].mean(), high_price['Comment_count'].mean()]\n",
        "plt.bar(x,y)"
      ]
    },
    {
      "cell_type": "code",
      "execution_count": 22,
      "metadata": {
        "colab": {
          "base_uri": "https://localhost:8080/",
          "height": 282
        },
        "id": "v6TPeZHc6iRj",
        "outputId": "1d161b3c-f264-4f68-9361-2a074fb6d098"
      },
      "outputs": [
        {
          "output_type": "execute_result",
          "data": {
            "text/plain": [
              "<BarContainer object of 3 artists>"
            ]
          },
          "metadata": {},
          "execution_count": 22
        },
        {
          "output_type": "display_data",
          "data": {
            "image/png": "[encoded data removed]",
            "text/plain": [
              "<Figure size 432x288 with 1 Axes>"
            ]
          },
          "metadata": {
            "needs_background": "light"
          }
        }
      ],
      "source": [
        "plt.bar(['low', 'avr', 'high'],\n",
        "        [low_price['Rating_count'].mean(), avr_price['Rating_count'].mean(), high_price['Rating_count'].mean()])"
      ]
    },
    {
      "cell_type": "code",
      "execution_count": 23,
      "metadata": {
        "colab": {
          "base_uri": "https://localhost:8080/"
        },
        "id": "yLQQZ6WZ7Q22",
        "outputId": "2e1ec5e2-1254-4cd1-8c50-047389ee3f2d"
      },
      "outputs": [
        {
          "output_type": "execute_result",
          "data": {
            "text/plain": [
              "count    552.000000\n",
              "mean       1.285626\n",
              "std        2.004994\n",
              "min        0.000000\n",
              "25%        0.000000\n",
              "50%        0.000000\n",
              "75%        3.505000\n",
              "max        5.000000\n",
              "Name: Rating, dtype: float64"
            ]
          },
          "metadata": {},
          "execution_count": 23
        }
      ],
      "source": [
        "rating = main_data.Rating\n",
        "rating.describe()"
      ]
    },
    {
      "cell_type": "code",
      "execution_count": 24,
      "metadata": {
        "colab": {
          "base_uri": "https://localhost:8080/",
          "height": 350
        },
        "id": "IuN_NkPm7fOG",
        "outputId": "08170235-a745-4376-ed08-c88af297da15"
      },
      "outputs": [
        {
          "output_type": "display_data",
          "data": {
            "image/png": "[encoded data removed]",
            "text/plain": [
              "<Figure size 720x360 with 2 Axes>"
            ]
          },
          "metadata": {
            "needs_background": "light"
          }
        }
      ],
      "source": [
        "plot_statistics(rating, title = 'Rating')"
      ]
    },
    {
      "cell_type": "code",
      "execution_count": 25,
      "metadata": {
        "colab": {
          "base_uri": "https://localhost:8080/"
        },
        "id": "Pi5jBkxA6iRj",
        "outputId": "3a10b6cf-e4bf-438c-d681-ac20877c11f5"
      },
      "outputs": [
        {
          "output_type": "execute_result",
          "data": {
            "text/plain": [
              "count    552.000000\n",
              "mean       2.551932\n",
              "std        9.917868\n",
              "min        0.000000\n",
              "25%        0.000000\n",
              "50%        0.000000\n",
              "75%        1.000000\n",
              "max      126.000000\n",
              "Name: Rating_count, dtype: float64"
            ]
          },
          "metadata": {},
          "execution_count": 25
        }
      ],
      "source": [
        "rating_count = main_data.Rating_count\n",
        "rating_count.describe()"
      ]
    },
    {
      "cell_type": "code",
      "execution_count": 26,
      "metadata": {
        "colab": {
          "base_uri": "https://localhost:8080/",
          "height": 1000
        },
        "id": "K-9S3gd36iRk",
        "outputId": "de11039b-4ba2-4933-f779-90488d42e7ad"
      },
      "outputs": [
        {
          "output_type": "display_data",
          "data": {
            "image/png": "[encoded data removed]",
            "text/plain": [
              "<Figure size 720x360 with 2 Axes>"
            ]
          },
          "metadata": {
            "needs_background": "light"
          }
        },
        {
          "output_type": "display_data",
          "data": {
            "image/png": "[encoded data removed]",
            "text/plain": [
              "<Figure size 720x360 with 2 Axes>"
            ]
          },
          "metadata": {
            "needs_background": "light"
          }
        },
        {
          "output_type": "display_data",
          "data": {
            "image/png": "[encoded data removed]",
            "text/plain": [
              "<Figure size 720x360 with 2 Axes>"
            ]
          },
          "metadata": {
            "needs_background": "light"
          }
        }
      ],
      "source": [
        "plot_statistics(rating_count, bins = 50)\n",
        "plot_statistics(rating_count[rating_count <= rating_count.mean()], bins = 10, title = '<= mean')\n",
        "plot_statistics(rating_count[rating_count > rating_count.mean()], bins = 50, title = '> mean')"
      ]
    },
    {
      "cell_type": "code",
      "execution_count": 27,
      "metadata": {
        "colab": {
          "base_uri": "https://localhost:8080/",
          "height": 559
        },
        "id": "ilDsQRKkGMay",
        "outputId": "f342a393-8e9d-48a4-9015-c6b3f19dcfcd"
      },
      "outputs": [
        {
          "output_type": "execute_result",
          "data": {
            "text/plain": [
              "Comment_count    4.489935\n",
              "Price            1.858115\n",
              "Rating           1.009320\n",
              "Rating_count     7.205786\n",
              "ram_size         1.842154\n",
              "storage_size     2.383553\n",
              "displ_size       3.270010\n",
              "displ_rate       2.255884\n",
              "Battery          3.678874\n",
              "Release_year    -2.420211\n",
              "Weight           4.559104\n",
              "length           3.268369\n",
              "thickness        9.985164\n",
              "width            1.891313\n",
              "Availabe_in      1.551769\n",
              "dtype: float64"
            ]
          },
          "metadata": {},
          "execution_count": 27
        },
        {
          "output_type": "display_data",
          "data": {
            "image/png": "[encoded data removed]",
            "text/plain": [
              "<Figure size 432x288 with 1 Axes>"
            ]
          },
          "metadata": {
            "needs_background": "light"
          }
        }
      ],
      "source": [
        "ax = sns.distplot(main_data.skew())\n",
        "ax.set_title('skew')\n",
        "main_data.skew()"
      ]
    },
    {
      "cell_type": "code",
      "execution_count": 28,
      "metadata": {
        "colab": {
          "base_uri": "https://localhost:8080/",
          "height": 365
        },
        "id": "OKNUChwV7gvP",
        "outputId": "a9b89a2f-2080-4a78-e51e-7122907c4451"
      },
      "outputs": [
        {
          "output_type": "error",
          "ename": "KeyError",
          "evalue": "ignored",
          "traceback": [
            "\u001b[0;31m---------------------------------------------------------------------------\u001b[0m",
            "\u001b[0;31mKeyError\u001b[0m                                  Traceback (most recent call last)",
            "\u001b[0;32m<ipython-input-28-1ac30919bdea>\u001b[0m in \u001b[0;36m<module>\u001b[0;34m()\u001b[0m\n\u001b[1;32m      1\u001b[0m \u001b[0mnormalized_numeric_attributes\u001b[0m \u001b[0;34m=\u001b[0m \u001b[0;34m(\u001b[0m\u001b[0mnumeric_attributes\u001b[0m \u001b[0;34m-\u001b[0m \u001b[0mnumeric_attributes\u001b[0m\u001b[0;34m.\u001b[0m\u001b[0mmean\u001b[0m\u001b[0;34m(\u001b[0m\u001b[0;34m)\u001b[0m\u001b[0;34m)\u001b[0m\u001b[0;34m/\u001b[0m\u001b[0mnumeric_attributes\u001b[0m\u001b[0;34m.\u001b[0m\u001b[0mstd\u001b[0m\u001b[0;34m(\u001b[0m\u001b[0;34m)\u001b[0m\u001b[0;34m\u001b[0m\u001b[0;34m\u001b[0m\u001b[0m\n\u001b[0;32m----> 2\u001b[0;31m \u001b[0mcorrelation\u001b[0m \u001b[0;34m=\u001b[0m \u001b[0mnormalized_numeric_attributes\u001b[0m\u001b[0;34m.\u001b[0m\u001b[0mdrop\u001b[0m\u001b[0;34m(\u001b[0m\u001b[0;34m'Availabe_in'\u001b[0m\u001b[0;34m,\u001b[0m \u001b[0maxis\u001b[0m \u001b[0;34m=\u001b[0m \u001b[0;36m1\u001b[0m\u001b[0;34m)\u001b[0m\u001b[0;34m.\u001b[0m\u001b[0mcorr\u001b[0m\u001b[0;34m(\u001b[0m\u001b[0;34m)\u001b[0m\u001b[0;34m\u001b[0m\u001b[0;34m\u001b[0m\u001b[0m\n\u001b[0m\u001b[1;32m      3\u001b[0m \u001b[0mf\u001b[0m \u001b[0;34m,\u001b[0m \u001b[0max\u001b[0m \u001b[0;34m=\u001b[0m \u001b[0mplt\u001b[0m\u001b[0;34m.\u001b[0m\u001b[0msubplots\u001b[0m\u001b[0;34m(\u001b[0m\u001b[0mfigsize\u001b[0m \u001b[0;34m=\u001b[0m \u001b[0;34m(\u001b[0m\u001b[0;36m14\u001b[0m\u001b[0;34m,\u001b[0m\u001b[0;36m12\u001b[0m\u001b[0;34m)\u001b[0m\u001b[0;34m)\u001b[0m\u001b[0;34m\u001b[0m\u001b[0;34m\u001b[0m\u001b[0m\n\u001b[1;32m      4\u001b[0m \u001b[0msns\u001b[0m\u001b[0;34m.\u001b[0m\u001b[0mheatmap\u001b[0m\u001b[0;34m(\u001b[0m\u001b[0mcorrelation\u001b[0m\u001b[0;34m,\u001b[0m \u001b[0msquare\u001b[0m \u001b[0;34m=\u001b[0m \u001b[0;32mTrue\u001b[0m\u001b[0;34m,\u001b[0m \u001b[0mannot\u001b[0m \u001b[0;34m=\u001b[0m \u001b[0;32mTrue\u001b[0m\u001b[0;34m)\u001b[0m\u001b[0;34m\u001b[0m\u001b[0;34m\u001b[0m\u001b[0m\n",
            "\u001b[0;32m/usr/local/lib/python3.7/dist-packages/pandas/core/frame.py\u001b[0m in \u001b[0;36mdrop\u001b[0;34m(self, labels, axis, index, columns, level, inplace, errors)\u001b[0m\n\u001b[1;32m   4172\u001b[0m             \u001b[0mlevel\u001b[0m\u001b[0;34m=\u001b[0m\u001b[0mlevel\u001b[0m\u001b[0;34m,\u001b[0m\u001b[0;34m\u001b[0m\u001b[0;34m\u001b[0m\u001b[0m\n\u001b[1;32m   4173\u001b[0m             \u001b[0minplace\u001b[0m\u001b[0;34m=\u001b[0m\u001b[0minplace\u001b[0m\u001b[0;34m,\u001b[0m\u001b[0;34m\u001b[0m\u001b[0;34m\u001b[0m\u001b[0m\n\u001b[0;32m-> 4174\u001b[0;31m             \u001b[0merrors\u001b[0m\u001b[0;34m=\u001b[0m\u001b[0merrors\u001b[0m\u001b[0;34m,\u001b[0m\u001b[0;34m\u001b[0m\u001b[0;34m\u001b[0m\u001b[0m\n\u001b[0m\u001b[1;32m   4175\u001b[0m         )\n\u001b[1;32m   4176\u001b[0m \u001b[0;34m\u001b[0m\u001b[0m\n",
            "\u001b[0;32m/usr/local/lib/python3.7/dist-packages/pandas/core/generic.py\u001b[0m in \u001b[0;36mdrop\u001b[0;34m(self, labels, axis, index, columns, level, inplace, errors)\u001b[0m\n\u001b[1;32m   3887\u001b[0m         \u001b[0;32mfor\u001b[0m \u001b[0maxis\u001b[0m\u001b[0;34m,\u001b[0m \u001b[0mlabels\u001b[0m \u001b[0;32min\u001b[0m \u001b[0maxes\u001b[0m\u001b[0;34m.\u001b[0m\u001b[0mitems\u001b[0m\u001b[0;34m(\u001b[0m\u001b[0;34m)\u001b[0m\u001b[0;34m:\u001b[0m\u001b[0;34m\u001b[0m\u001b[0;34m\u001b[0m\u001b[0m\n\u001b[1;32m   3888\u001b[0m             \u001b[0;32mif\u001b[0m \u001b[0mlabels\u001b[0m \u001b[0;32mis\u001b[0m \u001b[0;32mnot\u001b[0m \u001b[0;32mNone\u001b[0m\u001b[0;34m:\u001b[0m\u001b[0;34m\u001b[0m\u001b[0;34m\u001b[0m\u001b[0m\n\u001b[0;32m-> 3889\u001b[0;31m                 \u001b[0mobj\u001b[0m \u001b[0;34m=\u001b[0m \u001b[0mobj\u001b[0m\u001b[0;34m.\u001b[0m\u001b[0m_drop_axis\u001b[0m\u001b[0;34m(\u001b[0m\u001b[0mlabels\u001b[0m\u001b[0;34m,\u001b[0m \u001b[0maxis\u001b[0m\u001b[0;34m,\u001b[0m \u001b[0mlevel\u001b[0m\u001b[0;34m=\u001b[0m\u001b[0mlevel\u001b[0m\u001b[0;34m,\u001b[0m \u001b[0merrors\u001b[0m\u001b[0;34m=\u001b[0m\u001b[0merrors\u001b[0m\u001b[0;34m)\u001b[0m\u001b[0;34m\u001b[0m\u001b[0;34m\u001b[0m\u001b[0m\n\u001b[0m\u001b[1;32m   3890\u001b[0m \u001b[0;34m\u001b[0m\u001b[0m\n\u001b[1;32m   3891\u001b[0m         \u001b[0;32mif\u001b[0m \u001b[0minplace\u001b[0m\u001b[0;34m:\u001b[0m\u001b[0;34m\u001b[0m\u001b[0;34m\u001b[0m\u001b[0m\n",
            "\u001b[0;32m/usr/local/lib/python3.7/dist-packages/pandas/core/generic.py\u001b[0m in \u001b[0;36m_drop_axis\u001b[0;34m(self, labels, axis, level, errors)\u001b[0m\n\u001b[1;32m   3921\u001b[0m                 \u001b[0mnew_axis\u001b[0m \u001b[0;34m=\u001b[0m \u001b[0maxis\u001b[0m\u001b[0;34m.\u001b[0m\u001b[0mdrop\u001b[0m\u001b[0;34m(\u001b[0m\u001b[0mlabels\u001b[0m\u001b[0;34m,\u001b[0m \u001b[0mlevel\u001b[0m\u001b[0;34m=\u001b[0m\u001b[0mlevel\u001b[0m\u001b[0;34m,\u001b[0m \u001b[0merrors\u001b[0m\u001b[0;34m=\u001b[0m\u001b[0merrors\u001b[0m\u001b[0;34m)\u001b[0m\u001b[0;34m\u001b[0m\u001b[0;34m\u001b[0m\u001b[0m\n\u001b[1;32m   3922\u001b[0m             \u001b[0;32melse\u001b[0m\u001b[0;34m:\u001b[0m\u001b[0;34m\u001b[0m\u001b[0;34m\u001b[0m\u001b[0m\n\u001b[0;32m-> 3923\u001b[0;31m                 \u001b[0mnew_axis\u001b[0m \u001b[0;34m=\u001b[0m \u001b[0maxis\u001b[0m\u001b[0;34m.\u001b[0m\u001b[0mdrop\u001b[0m\u001b[0;34m(\u001b[0m\u001b[0mlabels\u001b[0m\u001b[0;34m,\u001b[0m \u001b[0merrors\u001b[0m\u001b[0;34m=\u001b[0m\u001b[0merrors\u001b[0m\u001b[0;34m)\u001b[0m\u001b[0;34m\u001b[0m\u001b[0;34m\u001b[0m\u001b[0m\n\u001b[0m\u001b[1;32m   3924\u001b[0m             \u001b[0mresult\u001b[0m \u001b[0;34m=\u001b[0m \u001b[0mself\u001b[0m\u001b[0;34m.\u001b[0m\u001b[0mreindex\u001b[0m\u001b[0;34m(\u001b[0m\u001b[0;34m**\u001b[0m\u001b[0;34m{\u001b[0m\u001b[0maxis_name\u001b[0m\u001b[0;34m:\u001b[0m \u001b[0mnew_axis\u001b[0m\u001b[0;34m}\u001b[0m\u001b[0;34m)\u001b[0m\u001b[0;34m\u001b[0m\u001b[0;34m\u001b[0m\u001b[0m\n\u001b[1;32m   3925\u001b[0m \u001b[0;34m\u001b[0m\u001b[0m\n",
            "\u001b[0;32m/usr/local/lib/python3.7/dist-packages/pandas/core/indexes/base.py\u001b[0m in \u001b[0;36mdrop\u001b[0;34m(self, labels, errors)\u001b[0m\n\u001b[1;32m   5285\u001b[0m         \u001b[0;32mif\u001b[0m \u001b[0mmask\u001b[0m\u001b[0;34m.\u001b[0m\u001b[0many\u001b[0m\u001b[0;34m(\u001b[0m\u001b[0;34m)\u001b[0m\u001b[0;34m:\u001b[0m\u001b[0;34m\u001b[0m\u001b[0;34m\u001b[0m\u001b[0m\n\u001b[1;32m   5286\u001b[0m             \u001b[0;32mif\u001b[0m \u001b[0merrors\u001b[0m \u001b[0;34m!=\u001b[0m \u001b[0;34m\"ignore\"\u001b[0m\u001b[0;34m:\u001b[0m\u001b[0;34m\u001b[0m\u001b[0;34m\u001b[0m\u001b[0m\n\u001b[0;32m-> 5287\u001b[0;31m                 \u001b[0;32mraise\u001b[0m \u001b[0mKeyError\u001b[0m\u001b[0;34m(\u001b[0m\u001b[0;34mf\"{labels[mask]} not found in axis\"\u001b[0m\u001b[0;34m)\u001b[0m\u001b[0;34m\u001b[0m\u001b[0;34m\u001b[0m\u001b[0m\n\u001b[0m\u001b[1;32m   5288\u001b[0m             \u001b[0mindexer\u001b[0m \u001b[0;34m=\u001b[0m \u001b[0mindexer\u001b[0m\u001b[0;34m[\u001b[0m\u001b[0;34m~\u001b[0m\u001b[0mmask\u001b[0m\u001b[0;34m]\u001b[0m\u001b[0;34m\u001b[0m\u001b[0;34m\u001b[0m\u001b[0m\n\u001b[1;32m   5289\u001b[0m         \u001b[0;32mreturn\u001b[0m \u001b[0mself\u001b[0m\u001b[0;34m.\u001b[0m\u001b[0mdelete\u001b[0m\u001b[0;34m(\u001b[0m\u001b[0mindexer\u001b[0m\u001b[0;34m)\u001b[0m\u001b[0;34m\u001b[0m\u001b[0;34m\u001b[0m\u001b[0m\n",
            "\u001b[0;31mKeyError\u001b[0m: \"['Availabe_in'] not found in axis\""
          ]
        }
      ],
      "source": [
        "normalized_numeric_attributes = (numeric_attributes - numeric_attributes.mean())/numeric_attributes.std()\n",
        "correlation = normalized_numeric_attributes.drop('Availabe_in', axis = 1).corr()\n",
        "f , ax = plt.subplots(figsize = (14,12))\n",
        "sns.heatmap(correlation, square = True, annot = True)"
      ]
    },
    {
      "cell_type": "code",
      "execution_count": null,
      "metadata": {
        "id": "rMwj0RIT6iRk"
      },
      "outputs": [],
      "source": [
        "fig, ax = plt.subplots(figsize = (30,9), nrows = 1, ncols = 3)\n",
        "k = 8\n",
        "count = 0\n",
        "list_attributes = [low_price, avr_price, high_price]\n",
        "for j in range(len(list_attributes)):\n",
        "    att = list_attributes[j]\n",
        "    att['Comment_count'] = att['Comment_count']/att['Availabe_in']\n",
        "    att['Rating_count'] = att['Rating_count']/att['Availabe_in']\n",
        "    normalized_att = (att - att.mean())/att.std()\n",
        "    correlation = normalized_att.drop('Availabe_in', axis = 1).corr()\n",
        "    cols = correlation.abs().nlargest(k, 'Comment_count').index\n",
        "    zoomed_corr = np.corrcoef(main_data[cols].values.T)\n",
        "    sns.heatmap(zoomed_corr,square=True,cmap='viridis', linewidths=0.01,linecolor=\"white\",annot=True,\n",
        "        xticklabels = cols.values ,yticklabels = cols.values, ax = ax[j], annot_kws = {'size':8})"
      ]
    },
    {
      "cell_type": "code",
      "execution_count": null,
      "metadata": {
        "id": "-BhM2p8O6iRk"
      },
      "outputs": [],
      "source": [
        "sns.set()\n",
        "cols = correlation.nlargest(k, 'Comment_count').index\n",
        "#cols = numeric_attributes.columns\n",
        "print(cols)\n",
        "sns.pairplot(main_data[cols],size = 2 ,kind ='scatter',diag_kind='kde')\n",
        "plt.show()"
      ]
    },
    {
      "cell_type": "code",
      "execution_count": null,
      "metadata": {
        "id": "SXiDqZaM6iRl"
      },
      "outputs": [],
      "source": [
        "att_list = ['Weight', 'Comment_count', 'ram_size', 'storage_size']\n",
        "fig, axis = plt.subplots(len(att_list), len(att_list),figsize=(20, 16))\n",
        "for i in range(len(att_list)):\n",
        "    for j in range(len(att_list)):\n",
        "        var1 = att_list[i]\n",
        "        var2 = att_list[j]\n",
        "        if var1 == 'Rating':\n",
        "            var1_data = main_data[var1].round()\n",
        "        else: \n",
        "            var1_data = main_data[var1].round()\n",
        "        data = pd.concat([main_data[var2], var1_data], axis=1)\n",
        "        try:\n",
        "          sns.boxplot(x = var1, y = var2, data = data, ax = axis[i,j])\n",
        "        except:\n",
        "          continue"
      ]
    },
    {
      "cell_type": "code",
      "execution_count": null,
      "metadata": {
        "id": "zrbPvL946iRl"
      },
      "outputs": [],
      "source": [
        "var = 'Rating'\n",
        "var_data = main_data[var].round()\n",
        "data = pd.concat([main_data['Comment_count'], var_data], axis=1)\n",
        "f, ax = plt.subplots(figsize=(12, 8))\n",
        "fig = sns.boxplot(x=var, y=\"Comment_count\", data=data)"
      ]
    },
    {
      "cell_type": "code",
      "execution_count": null,
      "metadata": {
        "id": "UA15AjZ06iRl"
      },
      "outputs": [],
      "source": [
        "fig, ax = plt.subplots(nrows = 1, ncols = 3, figsize = (20, 7), sharey = True)\n",
        "plt.xticks(rotation=90)\n",
        "for i, att in enumerate(primary_attributes):\n",
        "    ax[i].plot(correlation[att])\n",
        "    ax[i].set_xticklabels(labels = correlation.columns,rotation=45, ha='right')"
      ]
    },
    {
      "cell_type": "code",
      "execution_count": null,
      "metadata": {
        "id": "juMQrEYrcsH1"
      },
      "outputs": [],
      "source": [
        "categorical_attributes.columns"
      ]
    },
    {
      "cell_type": "code",
      "execution_count": null,
      "metadata": {
        "scrolled": false,
        "id": "KndXhOa86iRm"
      },
      "outputs": [],
      "source": [
        "categorical_attributes.nunique()"
      ]
    },
    {
      "cell_type": "code",
      "execution_count": null,
      "metadata": {
        "id": "3jYJfW8k6iRm"
      },
      "outputs": [],
      "source": [
        "brand = categorical_attributes['Brand']\n",
        "cpu = categorical_attributes['cpu_brand']\n",
        "gpu = categorical_attributes['GPU']\n",
        "os = categorical_attributes['OS']\n",
        "screen_tech = categorical_attributes['screen_technology']\n",
        "storage_type = categorical_attributes['storage_type']\n",
        "binary_attributes = ['hdmi', 'backlit_keyboard', 'lan', 'ram_upgradable', 'sd_card', \n",
        "                     'storage_extra_slot', 'headphone_jack', 'type_c', 'usb_a']\n",
        "\n",
        "entro = []\n",
        "for att in categorical_attributes:\n",
        "    entro.append(entropy(categorical_attributes[att].value_counts()))\n",
        "plot = plt.figure(figsize = (20,7))\n",
        "plt.bar(categorical_attributes.columns, entro)\n",
        "plt.xticks(rotation = 45)"
      ]
    },
    {
      "cell_type": "code",
      "execution_count": null,
      "metadata": {
        "id": "-zgtZ8cN6iRm"
      },
      "outputs": [],
      "source": [
        "brand_count = brand.value_counts()\n",
        "plot = plt.figure(figsize = (10, 7))\n",
        "sns.barplot(brand_count.index, brand_count.values, alpha=0.9)\n",
        "plt.title('Brands Count')\n",
        "plt.ylabel('Count', fontsize=12)\n",
        "plt.xlabel('Brand', fontsize=12)\n",
        "plt.show()"
      ]
    },
    {
      "cell_type": "code",
      "execution_count": null,
      "metadata": {
        "id": "ub0EHusY6iRm"
      },
      "outputs": [],
      "source": [
        "cpu_brand_count = cpu.value_counts()\n",
        "plot = plt.figure(figsize = (10, 7))\n",
        "sns.barplot(cpu_brand_count.index, cpu_brand_count.values, alpha=0.9)\n",
        "plt.title('CPU Brands Count')\n",
        "plt.ylabel('Count', fontsize=12)\n",
        "plt.xlabel('CPU Brand', fontsize=12)\n",
        "plt.show()"
      ]
    },
    {
      "cell_type": "code",
      "execution_count": null,
      "metadata": {
        "id": "kMrhowdF6iRn"
      },
      "outputs": [],
      "source": [
        "os_count = os.value_counts()\n",
        "plot = plt.figure(figsize = (10, 7))\n",
        "sns.barplot(os_count.index, os_count.values, alpha=0.9)\n",
        "plt.title('OS Count')\n",
        "plt.ylabel('Count', fontsize=12)\n",
        "plt.xlabel('OS', fontsize=12)\n",
        "plt.show()"
      ]
    },
    {
      "cell_type": "code",
      "execution_count": null,
      "metadata": {
        "id": "GOSuMg9u6iRn"
      },
      "outputs": [],
      "source": [
        "plot = plt.figure(figsize = (10, 7))\n",
        "sns.barplot(main_data['Comment_count'].groupby(brand).mean().index, \n",
        "            main_data['Comment_count'].groupby(brand).mean(), alpha=0.9)\n",
        "plt.title('Comment by brands Count')\n",
        "plt.ylabel('Count', fontsize=12)\n",
        "plt.xlabel('Brand', fontsize=12)\n",
        "plt.show()"
      ]
    },
    {
      "cell_type": "code",
      "execution_count": null,
      "metadata": {
        "id": "3G8ZqfK36iRn"
      },
      "outputs": [],
      "source": [
        "plot = plt.figure(figsize = (10, 7))\n",
        "sns.barplot(main_data['Comment_count'].groupby(cpu).mean().index, \n",
        "            main_data['Comment_count'].groupby(cpu).mean(), alpha=0.9)\n",
        "plt.title('Comment by CPU brands Count')\n",
        "plt.ylabel('Count', fontsize=12)\n",
        "plt.xlabel('CPU', fontsize=12)\n",
        "plt.show()"
      ]
    },
    {
      "cell_type": "code",
      "execution_count": null,
      "metadata": {
        "id": "mGBZKhrD6iRn"
      },
      "outputs": [],
      "source": [
        "plot = plt.figure(figsize = (10, 7))\n",
        "sns.barplot(main_data['Comment_count'].groupby(os).mean().index, \n",
        "            main_data['Comment_count'].groupby(os).mean(), alpha=0.9)\n",
        "plt.title('Comment by OS Count')\n",
        "plt.ylabel('Count', fontsize=12)\n",
        "plt.xlabel('OS', fontsize=12)\n",
        "plt.show()"
      ]
    },
    {
      "cell_type": "code",
      "execution_count": null,
      "metadata": {
        "id": "ZjD51XgW6iRn"
      },
      "outputs": [],
      "source": [
        "var_data = brand\n",
        "data = pd.concat([main_data['Price'], var_data], axis=1)\n",
        "f, ax = plt.subplots(figsize=(12, 8))\n",
        "fig = sns.boxplot(x= 'Brand', y=\"Price\", data=data)"
      ]
    },
    {
      "cell_type": "code",
      "execution_count": null,
      "metadata": {
        "id": "hM3midLX6iRn"
      },
      "outputs": [],
      "source": [
        "var_data = brand\n",
        "data = pd.concat([main_data['Comment_count'], var_data], axis=1)\n",
        "print(data.head())\n",
        "f, ax = plt.subplots(figsize=(12, 8))\n",
        "fig = sns.boxplot(x= 'Brand', y=\"Comment_count\", data=data)"
      ]
    },
    {
      "cell_type": "code",
      "execution_count": null,
      "metadata": {
        "id": "s5zOVRro6iRo"
      },
      "outputs": [],
      "source": [
        "chi2_list = []\n",
        "p_list = []\n",
        "for att in binary_attributes:\n",
        "    obs = pd.crosstab(index=main_data['Rating'].round(), columns = main_data[att])\n",
        "    chi2, p, dof, ex = chi2_contingency(obs, correction=False)\n",
        "    chi2_list.append(chi2)\n",
        "    p_list.append(p)\n",
        "plt.bar(binary_attributes, chi2_list)\n",
        "plt.xticks(rotation = 45)"
      ]
    },
    {
      "cell_type": "code",
      "execution_count": null,
      "metadata": {
        "id": "ADBXqf8k6iRo"
      },
      "outputs": [],
      "source": [
        "chi2_list = []\n",
        "p_list = []\n",
        "for att in binary_attributes:\n",
        "    obs = pd.crosstab(index=main_data['Comment_count'].round(-2), columns = main_data[att])\n",
        "    chi2, p, dof, ex = chi2_contingency(obs, correction=False)\n",
        "    chi2_list.append(chi2)\n",
        "    p_list.append(p)\n",
        "plt.bar(binary_attributes, chi2_list)"
      ]
    },
    {
      "cell_type": "code",
      "execution_count": null,
      "metadata": {
        "id": "Q_i6RlAL6iRo"
      },
      "outputs": [],
      "source": [
        "chi2_list = []\n",
        "p_list = []\n",
        "for att in binary_attributes:\n",
        "    obs = pd.crosstab(index=main_data['Price'].round(-7), columns = main_data[att])\n",
        "    chi2, p, dof, ex = chi2_contingency(obs, correction=False)\n",
        "    chi2_list.append(chi2)\n",
        "    p_list.append(p)\n",
        "plt.bar(binary_attributes, chi2_list)"
      ]
    },
    {
      "cell_type": "markdown",
      "source": [
        "TODO:\n",
        "- Tách riêng significant outlier để phân tích (Comment_count, Rating_count)\n",
        "  - Remove outlier của những cái còn lại.\n",
        "- Chia lại khoảng giá (chia theo mức giá): thêm ultra high và chia theo giá\n",
        "+ Chia lại Numeric - Categoric (Hưng) ✅\n",
        "+ Numerical Analysis: (với từng khoảng giá) (Hưng)\n",
        "\n",
        "Chú trọng sự phụ thuộc của các attribute chính vào các numeric att còn lại (Dựa trên correlation + box/line plot)\n",
        "+ Categorical: (**LẬP**)\n",
        "  + Dùng bar hoặc pie để xác định tỉ lệ các máy của mỗi cate\n",
        "  + dùng box hoặc bar để so sánh các att chính của mỗi cate (ví dụ: so sánh cooment count của các dòng OS hoặc so sánh phân pphoois comment_count của các dòng OS)\n",
        "  + chi2 test, đưa ra hypo và kết luận\n",
        "+ Spotlight: chọn top 100 để đánh giá các yếu tố tạo nên sự nổi bật. (Nhật)\n"
      ],
      "metadata": {
        "id": "aaOUPL6jYGar"
      }
    }
  ],
  "metadata": {
    "colab": {
      "collapsed_sections": [],
      "name": "EDA.ipynb",
      "provenance": [],
      "toc_visible": true,
      "include_colab_link": true
    },
    "kernelspec": {
      "display_name": "Python 3",
      "language": "python",
      "name": "python3"
    },
    "language_info": {
      "codemirror_mode": {
        "name": "ipython",
        "version": 3
      },
      "file_extension": ".py",
      "mimetype": "text/x-python",
      "name": "python",
      "nbconvert_exporter": "python",
      "pygments_lexer": "ipython3",
      "version": "3.8.8"
    }
  },
  "nbformat": 4,
  "nbformat_minor": 0
}